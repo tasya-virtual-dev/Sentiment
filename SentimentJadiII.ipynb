{
  "nbformat": 4,
  "nbformat_minor": 0,
  "metadata": {
    "colab": {
      "name": "SentimentJadiII.ipynb",
      "provenance": []
    },
    "kernelspec": {
      "name": "python3",
      "display_name": "Python 3"
    }
  },
  "cells": [
    {
      "cell_type": "code",
      "metadata": {
        "id": "GU4MVIsZ7w5d",
        "colab_type": "code",
        "colab": {}
      },
      "source": [
        "import pandas as pd"
      ],
      "execution_count": 0,
      "outputs": []
    },
    {
      "cell_type": "code",
      "metadata": {
        "id": "QemTMIvT8C7n",
        "colab_type": "code",
        "colab": {}
      },
      "source": [
        "tweets_data = pd.read_csv('sentimentdata.csv')"
      ],
      "execution_count": 0,
      "outputs": []
    },
    {
      "cell_type": "code",
      "metadata": {
        "id": "s6g2x1d28oJY",
        "colab_type": "code",
        "outputId": "7070dbbf-84da-465c-98cb-c785b71261c3",
        "colab": {
          "base_uri": "https://localhost:8080/",
          "height": 197
        }
      },
      "source": [
        "tweets_data.head()"
      ],
      "execution_count": 3,
      "outputs": [
        {
          "output_type": "execute_result",
          "data": {
            "text/html": [
              "<div>\n",
              "<style scoped>\n",
              "    .dataframe tbody tr th:only-of-type {\n",
              "        vertical-align: middle;\n",
              "    }\n",
              "\n",
              "    .dataframe tbody tr th {\n",
              "        vertical-align: top;\n",
              "    }\n",
              "\n",
              "    .dataframe thead th {\n",
              "        text-align: right;\n",
              "    }\n",
              "</style>\n",
              "<table border=\"1\" class=\"dataframe\">\n",
              "  <thead>\n",
              "    <tr style=\"text-align: right;\">\n",
              "      <th></th>\n",
              "      <th>text</th>\n",
              "      <th>English</th>\n",
              "    </tr>\n",
              "  </thead>\n",
              "  <tbody>\n",
              "    <tr>\n",
              "      <th>0</th>\n",
              "      <td>- ï¿½ï¿½ï¿½ï¿½ï¿½ï¿½182ï¿½ï¿½ï¿½ï¿½ï¿½ï¿½ï¿½ï¿...</td>\n",
              "      <td>- ï¿½ï¿½ï¿½ï¿½ï¿½ï¿½182ï¿½ï¿½ï¿½ï¿½ï¿½ï¿½ï¿½ï¿...</td>\n",
              "    </tr>\n",
              "    <tr>\n",
              "      <th>1</th>\n",
              "      <td>\" DAIHATSU SIRION \" #KuisDaihatsu #DaihatsuSah...</td>\n",
              "      <td>\"Daihatsu Sirion\" Susi Armanih #DaihatsuSahaba...</td>\n",
              "    </tr>\n",
              "    <tr>\n",
              "      <th>2</th>\n",
              "      <td>\" SATRIA \" #SuzukiQuiz Kuy ikutan gaes di Suzu...</td>\n",
              "      <td>\"SATRIA\" Kuy #SuzukiQuiz follow gaes in Suzuki...</td>\n",
              "    </tr>\n",
              "    <tr>\n",
              "      <th>3</th>\n",
              "      <td>\" SATRIA \" #SuzukiQuiz Berjalan ke atas rotan ...</td>\n",
              "      <td>\"SATRIA\" #SuzukiQuiz Walk up the cane to dry h...</td>\n",
              "    </tr>\n",
              "    <tr>\n",
              "      <th>4</th>\n",
              "      <td>\" SATRIA \" #SuzuqiQuiz #satria Armanih</td>\n",
              "      <td>\"SATRIA\" #satria #SuzuqiQuiz Armanih</td>\n",
              "    </tr>\n",
              "  </tbody>\n",
              "</table>\n",
              "</div>"
            ],
            "text/plain": [
              "                                                text                                            English\n",
              "0  - ï¿½ï¿½ï¿½ï¿½ï¿½ï¿½182ï¿½ï¿½ï¿½ï¿½ï¿½ï¿½ï¿½ï¿...  - ï¿½ï¿½ï¿½ï¿½ï¿½ï¿½182ï¿½ï¿½ï¿½ï¿½ï¿½ï¿½ï¿½ï¿...\n",
              "1  \" DAIHATSU SIRION \" #KuisDaihatsu #DaihatsuSah...  \"Daihatsu Sirion\" Susi Armanih #DaihatsuSahaba...\n",
              "2  \" SATRIA \" #SuzukiQuiz Kuy ikutan gaes di Suzu...  \"SATRIA\" Kuy #SuzukiQuiz follow gaes in Suzuki...\n",
              "3  \" SATRIA \" #SuzukiQuiz Berjalan ke atas rotan ...  \"SATRIA\" #SuzukiQuiz Walk up the cane to dry h...\n",
              "4             \" SATRIA \" #SuzuqiQuiz #satria Armanih               \"SATRIA\" #satria #SuzuqiQuiz Armanih"
            ]
          },
          "metadata": {
            "tags": []
          },
          "execution_count": 3
        }
      ]
    },
    {
      "cell_type": "code",
      "metadata": {
        "id": "MItD7-jA8qoU",
        "colab_type": "code",
        "outputId": "f7bfb9b1-f1c9-4682-c2d2-5e488b9be2eb",
        "colab": {
          "base_uri": "https://localhost:8080/",
          "height": 33
        }
      },
      "source": [
        "print(len(tweets_data))"
      ],
      "execution_count": 4,
      "outputs": [
        {
          "output_type": "stream",
          "text": [
            "13532\n"
          ],
          "name": "stdout"
        }
      ]
    },
    {
      "cell_type": "code",
      "metadata": {
        "id": "TZy2v1jh8s_x",
        "colab_type": "code",
        "outputId": "4d43d68c-500e-45c0-dab2-13be26e7d489",
        "colab": {
          "base_uri": "https://localhost:8080/",
          "height": 66
        }
      },
      "source": [
        "tweets_data.dropna(axis = 0, how = \"any\", inplace = True)\n",
        "tweets_data.isnull().sum()"
      ],
      "execution_count": 5,
      "outputs": [
        {
          "output_type": "execute_result",
          "data": {
            "text/plain": [
              "text       0\n",
              "English    0\n",
              "dtype: int64"
            ]
          },
          "metadata": {
            "tags": []
          },
          "execution_count": 5
        }
      ]
    },
    {
      "cell_type": "code",
      "metadata": {
        "id": "gDhJMENI8vsE",
        "colab_type": "code",
        "outputId": "c10ff031-0f24-4ba1-a661-1f526e1bea04",
        "colab": {
          "base_uri": "https://localhost:8080/",
          "height": 33
        }
      },
      "source": [
        "print (len(tweets_data))"
      ],
      "execution_count": 6,
      "outputs": [
        {
          "output_type": "stream",
          "text": [
            "13532\n"
          ],
          "name": "stdout"
        }
      ]
    },
    {
      "cell_type": "code",
      "metadata": {
        "id": "PDfbkKu78yHM",
        "colab_type": "code",
        "colab": {}
      },
      "source": [
        "tweets_data.drop_duplicates(inplace=True)"
      ],
      "execution_count": 0,
      "outputs": []
    },
    {
      "cell_type": "code",
      "metadata": {
        "id": "myxgmOU280Ke",
        "colab_type": "code",
        "outputId": "94f190d9-6b1a-4aa3-fa99-daccba95ec5e",
        "colab": {
          "base_uri": "https://localhost:8080/",
          "height": 33
        }
      },
      "source": [
        "print (len(tweets_data))"
      ],
      "execution_count": 8,
      "outputs": [
        {
          "output_type": "stream",
          "text": [
            "11468\n"
          ],
          "name": "stdout"
        }
      ]
    },
    {
      "cell_type": "code",
      "metadata": {
        "id": "YahKpVLs85p9",
        "colab_type": "code",
        "outputId": "24f7c533-d6dc-436a-d19c-d81eb6d4798a",
        "colab": {
          "base_uri": "https://localhost:8080/",
          "height": 33
        }
      },
      "source": [
        "import re\n",
        "def word_in_text(word, English):\n",
        "    try:\n",
        "        English = English.lower()\n",
        "        match = re.search(word, English)\n",
        "        if match:\n",
        "            return True\n",
        "        return False\n",
        "    except AttributeError:\n",
        "        return False\n",
        "print(word_in_text('hello','Hi there maybe, I would say hello instead'))"
      ],
      "execution_count": 9,
      "outputs": [
        {
          "output_type": "stream",
          "text": [
            "True\n"
          ],
          "name": "stdout"
        }
      ]
    },
    {
      "cell_type": "code",
      "metadata": {
        "id": "aH4ETBa187wh",
        "colab_type": "code",
        "outputId": "dfa992f1-48a1-4563-d740-5213259e4963",
        "colab": {
          "base_uri": "https://localhost:8080/",
          "height": 116
        }
      },
      "source": [
        "from textblob import TextBlob\n",
        "# Sample of using TextBlob sentiment\n",
        "print (TextBlob(\"This food is good\").polarity)\n",
        "print (TextBlob(\"This food is bad\").polarity)\n",
        "print (TextBlob(\"This food is very good\").polarity)\n",
        "print (TextBlob(\"This food is very bad\").polarity)\n",
        "print (TextBlob(\"This food is not very good\").polarity)\n",
        "print (TextBlob(\"This food is very not good\").polarity)"
      ],
      "execution_count": 10,
      "outputs": [
        {
          "output_type": "stream",
          "text": [
            "0.7\n",
            "-0.6999999999999998\n",
            "0.9099999999999999\n",
            "-0.9099999999999998\n",
            "-0.26923076923076916\n",
            "-0.07499999999999998\n"
          ],
          "name": "stdout"
        }
      ]
    },
    {
      "cell_type": "code",
      "metadata": {
        "id": "54JbN2zj8-OW",
        "colab_type": "code",
        "outputId": "63c082a3-4807-4df5-eccd-360f6bf5e435",
        "colab": {
          "base_uri": "https://localhost:8080/",
          "height": 33
        }
      },
      "source": [
        "type(tweets_data['English'])"
      ],
      "execution_count": 11,
      "outputs": [
        {
          "output_type": "execute_result",
          "data": {
            "text/plain": [
              "pandas.core.series.Series"
            ]
          },
          "metadata": {
            "tags": []
          },
          "execution_count": 11
        }
      ]
    },
    {
      "cell_type": "code",
      "metadata": {
        "id": "q9qbN3TC9BBd",
        "colab_type": "code",
        "colab": {}
      },
      "source": [
        "# Importing TextBlob from textblob to find polarity\n",
        "from textblob import TextBlob\n",
        "\n",
        "def find_polarity(tweet):\n",
        "    try:\n",
        "        textblob_tweet = TextBlob(tweet)\n",
        "        return textblob_tweet.polarity\n",
        "    except:\n",
        "        pass\n",
        "    \n",
        "def find_subjectivity(tweet):\n",
        "    try:\n",
        "        textblob_tweet = TextBlob(tweet)\n",
        "        return textblob_tweet.subjectivity\n",
        "    except:\n",
        "        pass"
      ],
      "execution_count": 0,
      "outputs": []
    },
    {
      "cell_type": "code",
      "metadata": {
        "id": "H234hFSv9DJV",
        "colab_type": "code",
        "outputId": "f43a9a25-35ac-4a71-edb9-27eea678de97",
        "colab": {
          "base_uri": "https://localhost:8080/",
          "height": 197
        }
      },
      "source": [
        "# Applying textblob to each tweets text\n",
        "tweets_data['polarity'] = tweets_data['English'].apply(lambda tweet:find_polarity(tweet))\n",
        "tweets_data['subjectivity'] = tweets_data['English'].apply(lambda tweet:find_subjectivity(tweet))\n",
        "tweets_data.head()"
      ],
      "execution_count": 13,
      "outputs": [
        {
          "output_type": "execute_result",
          "data": {
            "text/html": [
              "<div>\n",
              "<style scoped>\n",
              "    .dataframe tbody tr th:only-of-type {\n",
              "        vertical-align: middle;\n",
              "    }\n",
              "\n",
              "    .dataframe tbody tr th {\n",
              "        vertical-align: top;\n",
              "    }\n",
              "\n",
              "    .dataframe thead th {\n",
              "        text-align: right;\n",
              "    }\n",
              "</style>\n",
              "<table border=\"1\" class=\"dataframe\">\n",
              "  <thead>\n",
              "    <tr style=\"text-align: right;\">\n",
              "      <th></th>\n",
              "      <th>text</th>\n",
              "      <th>English</th>\n",
              "      <th>polarity</th>\n",
              "      <th>subjectivity</th>\n",
              "    </tr>\n",
              "  </thead>\n",
              "  <tbody>\n",
              "    <tr>\n",
              "      <th>0</th>\n",
              "      <td>- ï¿½ï¿½ï¿½ï¿½ï¿½ï¿½182ï¿½ï¿½ï¿½ï¿½ï¿½ï¿½ï¿½ï¿...</td>\n",
              "      <td>- ï¿½ï¿½ï¿½ï¿½ï¿½ï¿½182ï¿½ï¿½ï¿½ï¿½ï¿½ï¿½ï¿½ï¿...</td>\n",
              "      <td>0.000000</td>\n",
              "      <td>0.000000</td>\n",
              "    </tr>\n",
              "    <tr>\n",
              "      <th>1</th>\n",
              "      <td>\" DAIHATSU SIRION \" #KuisDaihatsu #DaihatsuSah...</td>\n",
              "      <td>\"Daihatsu Sirion\" Susi Armanih #DaihatsuSahaba...</td>\n",
              "      <td>0.000000</td>\n",
              "      <td>0.000000</td>\n",
              "    </tr>\n",
              "    <tr>\n",
              "      <th>2</th>\n",
              "      <td>\" SATRIA \" #SuzukiQuiz Kuy ikutan gaes di Suzu...</td>\n",
              "      <td>\"SATRIA\" Kuy #SuzukiQuiz follow gaes in Suzuki...</td>\n",
              "      <td>0.000000</td>\n",
              "      <td>0.000000</td>\n",
              "    </tr>\n",
              "    <tr>\n",
              "      <th>3</th>\n",
              "      <td>\" SATRIA \" #SuzukiQuiz Berjalan ke atas rotan ...</td>\n",
              "      <td>\"SATRIA\" #SuzukiQuiz Walk up the cane to dry h...</td>\n",
              "      <td>0.255556</td>\n",
              "      <td>0.677778</td>\n",
              "    </tr>\n",
              "    <tr>\n",
              "      <th>4</th>\n",
              "      <td>\" SATRIA \" #SuzuqiQuiz #satria Armanih</td>\n",
              "      <td>\"SATRIA\" #satria #SuzuqiQuiz Armanih</td>\n",
              "      <td>0.000000</td>\n",
              "      <td>0.000000</td>\n",
              "    </tr>\n",
              "  </tbody>\n",
              "</table>\n",
              "</div>"
            ],
            "text/plain": [
              "                                                text  ... subjectivity\n",
              "0  - ï¿½ï¿½ï¿½ï¿½ï¿½ï¿½182ï¿½ï¿½ï¿½ï¿½ï¿½ï¿½ï¿½ï¿...  ...     0.000000\n",
              "1  \" DAIHATSU SIRION \" #KuisDaihatsu #DaihatsuSah...  ...     0.000000\n",
              "2  \" SATRIA \" #SuzukiQuiz Kuy ikutan gaes di Suzu...  ...     0.000000\n",
              "3  \" SATRIA \" #SuzukiQuiz Berjalan ke atas rotan ...  ...     0.677778\n",
              "4             \" SATRIA \" #SuzuqiQuiz #satria Armanih  ...     0.000000\n",
              "\n",
              "[5 rows x 4 columns]"
            ]
          },
          "metadata": {
            "tags": []
          },
          "execution_count": 13
        }
      ]
    },
    {
      "cell_type": "code",
      "metadata": {
        "id": "Kqyx9uVx9Kj_",
        "colab_type": "code",
        "outputId": "58c40917-db89-4876-e893-ba8fb5166f5d",
        "colab": {
          "base_uri": "https://localhost:8080/",
          "height": 197
        }
      },
      "source": [
        "# Let's do a check on polarity texts\n",
        "tweets_data.sort_values('polarity',ascending=True).head()"
      ],
      "execution_count": 14,
      "outputs": [
        {
          "output_type": "execute_result",
          "data": {
            "text/html": [
              "<div>\n",
              "<style scoped>\n",
              "    .dataframe tbody tr th:only-of-type {\n",
              "        vertical-align: middle;\n",
              "    }\n",
              "\n",
              "    .dataframe tbody tr th {\n",
              "        vertical-align: top;\n",
              "    }\n",
              "\n",
              "    .dataframe thead th {\n",
              "        text-align: right;\n",
              "    }\n",
              "</style>\n",
              "<table border=\"1\" class=\"dataframe\">\n",
              "  <thead>\n",
              "    <tr style=\"text-align: right;\">\n",
              "      <th></th>\n",
              "      <th>text</th>\n",
              "      <th>English</th>\n",
              "      <th>polarity</th>\n",
              "      <th>subjectivity</th>\n",
              "    </tr>\n",
              "  </thead>\n",
              "  <tbody>\n",
              "    <tr>\n",
              "      <th>11619</th>\n",
              "      <td>Semoga segera punya mobil impian sprti ini ï¿½...</td>\n",
              "      <td>Hopefully soon have this bleak dream car ï¿½ï¿...</td>\n",
              "      <td>-1.0</td>\n",
              "      <td>1.0</td>\n",
              "    </tr>\n",
              "    <tr>\n",
              "      <th>6433</th>\n",
              "      <td>Indent terlalu cepet2 sampe2 boring nungguinny...</td>\n",
              "      <td>Indent too cepet2 sampe2 nungguinnya1 boring! ...</td>\n",
              "      <td>-1.0</td>\n",
              "      <td>1.0</td>\n",
              "    </tr>\n",
              "    <tr>\n",
              "      <th>333</th>\n",
              "      <td>. Yang lain holide Kita mah mlipir siapa tau a...</td>\n",
              "      <td>, The others Holide We mah mlipir who know som...</td>\n",
              "      <td>-1.0</td>\n",
              "      <td>1.0</td>\n",
              "    </tr>\n",
              "    <tr>\n",
              "      <th>3417</th>\n",
              "      <td>Any car but not Maruti Suzuki India .....They ...</td>\n",
              "      <td>Any car but not Maruti Suzuki India ..... They...</td>\n",
              "      <td>-1.0</td>\n",
              "      <td>1.0</td>\n",
              "    </tr>\n",
              "    <tr>\n",
              "      <th>6409</th>\n",
              "      <td>Imbank Prasodjo jan sangar yamha klo bikin ko ...</td>\n",
              "      <td>Prasodjo Imbank Yamha Klo make grim jan ko san...</td>\n",
              "      <td>-1.0</td>\n",
              "      <td>1.0</td>\n",
              "    </tr>\n",
              "  </tbody>\n",
              "</table>\n",
              "</div>"
            ],
            "text/plain": [
              "                                                    text  ... subjectivity\n",
              "11619  Semoga segera punya mobil impian sprti ini ï¿½...  ...          1.0\n",
              "6433   Indent terlalu cepet2 sampe2 boring nungguinny...  ...          1.0\n",
              "333    . Yang lain holide Kita mah mlipir siapa tau a...  ...          1.0\n",
              "3417   Any car but not Maruti Suzuki India .....They ...  ...          1.0\n",
              "6409   Imbank Prasodjo jan sangar yamha klo bikin ko ...  ...          1.0\n",
              "\n",
              "[5 rows x 4 columns]"
            ]
          },
          "metadata": {
            "tags": []
          },
          "execution_count": 14
        }
      ]
    },
    {
      "cell_type": "code",
      "metadata": {
        "id": "rNSC2wSw9PrF",
        "colab_type": "code",
        "outputId": "0e64241a-b322-45d8-fe10-4b038e4f7445",
        "colab": {
          "base_uri": "https://localhost:8080/",
          "height": 281
        }
      },
      "source": [
        "tweets_data.polarity.hist()"
      ],
      "execution_count": 15,
      "outputs": [
        {
          "output_type": "execute_result",
          "data": {
            "text/plain": [
              "<matplotlib.axes._subplots.AxesSubplot at 0x7fc05b774d68>"
            ]
          },
          "metadata": {
            "tags": []
          },
          "execution_count": 15
        },
        {
          "output_type": "display_data",
          "data": {
            "image/png": "[encoded data removed]",
            "text/plain": [
              "<Figure size 432x288 with 1 Axes>"
            ]
          },
          "metadata": {
            "tags": []
          }
        }
      ]
    },
    {
      "cell_type": "code",
      "metadata": {
        "id": "IB_IvnVa9Uh1",
        "colab_type": "code",
        "outputId": "9a1be9eb-c58a-43e6-d101-991eb28f1a29",
        "colab": {
          "base_uri": "https://localhost:8080/",
          "height": 281
        }
      },
      "source": [
        "tweets_data.subjectivity.hist()"
      ],
      "execution_count": 16,
      "outputs": [
        {
          "output_type": "execute_result",
          "data": {
            "text/plain": [
              "<matplotlib.axes._subplots.AxesSubplot at 0x7fc05b7d6668>"
            ]
          },
          "metadata": {
            "tags": []
          },
          "execution_count": 16
        },
        {
          "output_type": "display_data",
          "data": {
            "image/png": "[encoded data removed]",
            "text/plain": [
              "<Figure size 432x288 with 1 Axes>"
            ]
          },
          "metadata": {
            "tags": []
          }
        }
      ]
    },
    {
      "cell_type": "code",
      "metadata": {
        "id": "zxpoUgyh9W9l",
        "colab_type": "code",
        "colab": {}
      },
      "source": [
        "# Determining if they a comment is satisfied or not satisfied (split by range)\n",
        "tweets_data['polaritytext'] =  pd.cut(tweets_data.polarity, 3,labels=[\"unhappy\",\"neutral\",\"happy\"])\n",
        "tweets_data['subjectivitytext'] =  pd.cut(tweets_data.subjectivity, 2,labels=[\"meaningful\",\"subjective\"])"
      ],
      "execution_count": 0,
      "outputs": []
    },
    {
      "cell_type": "code",
      "metadata": {
        "id": "id70fOfA9ah1",
        "colab_type": "code",
        "outputId": "13921ac1-f1e6-4825-f1ed-4e2c0e7597c3",
        "colab": {
          "base_uri": "https://localhost:8080/",
          "height": 281
        }
      },
      "source": [
        "# Let's do a check on polarity texts\n",
        "tweets_data.sort_values('polaritytext',ascending=False).head()"
      ],
      "execution_count": 18,
      "outputs": [
        {
          "output_type": "execute_result",
          "data": {
            "text/html": [
              "<div>\n",
              "<style scoped>\n",
              "    .dataframe tbody tr th:only-of-type {\n",
              "        vertical-align: middle;\n",
              "    }\n",
              "\n",
              "    .dataframe tbody tr th {\n",
              "        vertical-align: top;\n",
              "    }\n",
              "\n",
              "    .dataframe thead th {\n",
              "        text-align: right;\n",
              "    }\n",
              "</style>\n",
              "<table border=\"1\" class=\"dataframe\">\n",
              "  <thead>\n",
              "    <tr style=\"text-align: right;\">\n",
              "      <th></th>\n",
              "      <th>text</th>\n",
              "      <th>English</th>\n",
              "      <th>polarity</th>\n",
              "      <th>subjectivity</th>\n",
              "      <th>polaritytext</th>\n",
              "      <th>subjectivitytext</th>\n",
              "    </tr>\n",
              "  </thead>\n",
              "  <tbody>\n",
              "    <tr>\n",
              "      <th>11829</th>\n",
              "      <td>Siti Partima makasih kesayangan colekan nya ðŸ˜˜</td>\n",
              "      <td>Siti Partima pokes his favorite thanks ðŸ</td>\n",
              "      <td>0.350000</td>\n",
              "      <td>0.600000</td>\n",
              "      <td>happy</td>\n",
              "      <td>subjective</td>\n",
              "    </tr>\n",
              "    <tr>\n",
              "      <th>2277</th>\n",
              "      <td>@yamahaindonesia Horeeeee berhasil melewati ja...</td>\n",
              "      <td>@yamahaindonesia Horeeeee successfully passed ...</td>\n",
              "      <td>0.475000</td>\n",
              "      <td>0.625000</td>\n",
              "      <td>happy</td>\n",
              "      <td>subjective</td>\n",
              "    </tr>\n",
              "    <tr>\n",
              "      <th>2256</th>\n",
              "      <td>@yamahaindonesia Folow, like Done ï¿½ï¿½ï¿½ï¿½...</td>\n",
              "      <td>@yamahaindonesia folow, like Done ï¿½ï¿½ï¿½ï¿½...</td>\n",
              "      <td>0.700000</td>\n",
              "      <td>0.600000</td>\n",
              "      <td>happy</td>\n",
              "      <td>subjective</td>\n",
              "    </tr>\n",
              "    <tr>\n",
              "      <th>2260</th>\n",
              "      <td>@yamahaindonesia Gak bisa milih akuuuu, semuan...</td>\n",
              "      <td>Gak @yamahaindonesia can choose meeeee, becaus...</td>\n",
              "      <td>0.341667</td>\n",
              "      <td>0.658333</td>\n",
              "      <td>happy</td>\n",
              "      <td>subjective</td>\n",
              "    </tr>\n",
              "    <tr>\n",
              "      <th>5345</th>\n",
              "      <td>Go...go...go...Suzuki Baleno Hatchback (Semaki...</td>\n",
              "      <td>Go ... go ... go ... Suzuki Baleno Hatchback (...</td>\n",
              "      <td>0.347656</td>\n",
              "      <td>0.400000</td>\n",
              "      <td>happy</td>\n",
              "      <td>meaningful</td>\n",
              "    </tr>\n",
              "  </tbody>\n",
              "</table>\n",
              "</div>"
            ],
            "text/plain": [
              "                                                    text  ... subjectivitytext\n",
              "11829   Siti Partima makasih kesayangan colekan nya ðŸ˜˜  ...       subjective\n",
              "2277   @yamahaindonesia Horeeeee berhasil melewati ja...  ...       subjective\n",
              "2256   @yamahaindonesia Folow, like Done ï¿½ï¿½ï¿½ï¿½...  ...       subjective\n",
              "2260   @yamahaindonesia Gak bisa milih akuuuu, semuan...  ...       subjective\n",
              "5345   Go...go...go...Suzuki Baleno Hatchback (Semaki...  ...       meaningful\n",
              "\n",
              "[5 rows x 6 columns]"
            ]
          },
          "metadata": {
            "tags": []
          },
          "execution_count": 18
        }
      ]
    },
    {
      "cell_type": "code",
      "metadata": {
        "id": "i0X7Tw0o9fY1",
        "colab_type": "code",
        "outputId": "6d72e9f2-8524-4da8-8dfa-df33c884e2cd",
        "colab": {
          "base_uri": "https://localhost:8080/",
          "height": 287
        }
      },
      "source": [
        "#Summary of the dataset\n",
        "tweets_data.describe()"
      ],
      "execution_count": 19,
      "outputs": [
        {
          "output_type": "execute_result",
          "data": {
            "text/html": [
              "<div>\n",
              "<style scoped>\n",
              "    .dataframe tbody tr th:only-of-type {\n",
              "        vertical-align: middle;\n",
              "    }\n",
              "\n",
              "    .dataframe tbody tr th {\n",
              "        vertical-align: top;\n",
              "    }\n",
              "\n",
              "    .dataframe thead th {\n",
              "        text-align: right;\n",
              "    }\n",
              "</style>\n",
              "<table border=\"1\" class=\"dataframe\">\n",
              "  <thead>\n",
              "    <tr style=\"text-align: right;\">\n",
              "      <th></th>\n",
              "      <th>polarity</th>\n",
              "      <th>subjectivity</th>\n",
              "    </tr>\n",
              "  </thead>\n",
              "  <tbody>\n",
              "    <tr>\n",
              "      <th>count</th>\n",
              "      <td>11468.000000</td>\n",
              "      <td>11468.000000</td>\n",
              "    </tr>\n",
              "    <tr>\n",
              "      <th>mean</th>\n",
              "      <td>0.095406</td>\n",
              "      <td>0.240618</td>\n",
              "    </tr>\n",
              "    <tr>\n",
              "      <th>std</th>\n",
              "      <td>0.218738</td>\n",
              "      <td>0.308969</td>\n",
              "    </tr>\n",
              "    <tr>\n",
              "      <th>min</th>\n",
              "      <td>-1.000000</td>\n",
              "      <td>0.000000</td>\n",
              "    </tr>\n",
              "    <tr>\n",
              "      <th>25%</th>\n",
              "      <td>0.000000</td>\n",
              "      <td>0.000000</td>\n",
              "    </tr>\n",
              "    <tr>\n",
              "      <th>50%</th>\n",
              "      <td>0.000000</td>\n",
              "      <td>0.000000</td>\n",
              "    </tr>\n",
              "    <tr>\n",
              "      <th>75%</th>\n",
              "      <td>0.178571</td>\n",
              "      <td>0.500000</td>\n",
              "    </tr>\n",
              "    <tr>\n",
              "      <th>max</th>\n",
              "      <td>1.000000</td>\n",
              "      <td>1.000000</td>\n",
              "    </tr>\n",
              "  </tbody>\n",
              "</table>\n",
              "</div>"
            ],
            "text/plain": [
              "           polarity  subjectivity\n",
              "count  11468.000000  11468.000000\n",
              "mean       0.095406      0.240618\n",
              "std        0.218738      0.308969\n",
              "min       -1.000000      0.000000\n",
              "25%        0.000000      0.000000\n",
              "50%        0.000000      0.000000\n",
              "75%        0.178571      0.500000\n",
              "max        1.000000      1.000000"
            ]
          },
          "metadata": {
            "tags": []
          },
          "execution_count": 19
        }
      ]
    },
    {
      "cell_type": "code",
      "metadata": {
        "id": "22xeDDdc9lDd",
        "colab_type": "code",
        "outputId": "dd8a5cd2-3199-4be5-f9d2-a406c14b995b",
        "colab": {
          "base_uri": "https://localhost:8080/",
          "height": 83
        }
      },
      "source": [
        "tweets_data['polaritytext'].value_counts()"
      ],
      "execution_count": 20,
      "outputs": [
        {
          "output_type": "execute_result",
          "data": {
            "text/plain": [
              "neutral    9605\n",
              "happy      1670\n",
              "unhappy     193\n",
              "Name: polaritytext, dtype: int64"
            ]
          },
          "metadata": {
            "tags": []
          },
          "execution_count": 20
        }
      ]
    },
    {
      "cell_type": "markdown",
      "metadata": {
        "id": "h6Iy3SEi-MRV",
        "colab_type": "text"
      },
      "source": [
        "#Model"
      ]
    },
    {
      "cell_type": "code",
      "metadata": {
        "id": "-DC6UwIt-L7m",
        "colab_type": "code",
        "colab": {}
      },
      "source": [
        "#Load the libraries\n",
        "import numpy as np\n",
        "import pandas as pd\n",
        "import seaborn as sns\n",
        "import matplotlib.pyplot as plt\n",
        "import nltk\n",
        "from sklearn.feature_extraction.text import CountVectorizer\n",
        "from sklearn.feature_extraction.text import TfidfVectorizer\n",
        "from sklearn.preprocessing import LabelBinarizer\n",
        "from nltk.corpus import stopwords\n",
        "from nltk.stem.porter import PorterStemmer\n",
        "from wordcloud import WordCloud,STOPWORDS\n",
        "from nltk.stem import WordNetLemmatizer\n",
        "from nltk.tokenize import word_tokenize,sent_tokenize\n",
        "from bs4 import BeautifulSoup\n",
        "import spacy\n",
        "import re,string,unicodedata\n",
        "from nltk.tokenize.toktok import ToktokTokenizer\n",
        "from nltk.stem import LancasterStemmer,WordNetLemmatizer\n",
        "from sklearn.linear_model import LogisticRegression,SGDClassifier\n",
        "from sklearn.naive_bayes import MultinomialNB\n",
        "from sklearn.svm import SVC\n",
        "from textblob import TextBlob\n",
        "from textblob import Word\n",
        "from sklearn.metrics import classification_report,confusion_matrix,accuracy_score"
      ],
      "execution_count": 0,
      "outputs": []
    },
    {
      "cell_type": "code",
      "metadata": {
        "id": "92YU3q0b-waO",
        "colab_type": "code",
        "outputId": "71eee1c7-aa24-4878-98da-e5acaae1ef73",
        "colab": {
          "base_uri": "https://localhost:8080/",
          "height": 0
        }
      },
      "source": [
        "train_reviews=tweets_data.English[:8028]\n",
        "train_sentiments=tweets_data.polaritytext[:8028]\n",
        "test_reviews=tweets_data.English[8028:]\n",
        "test_sentiments=tweets_data.polaritytext[8028:]\n",
        "print(train_reviews.shape,train_sentiments.shape)\n",
        "print(test_reviews.shape,test_sentiments.shape)"
      ],
      "execution_count": 22,
      "outputs": [
        {
          "output_type": "stream",
          "text": [
            "(8028,) (8028,)\n",
            "(3440,) (3440,)\n"
          ],
          "name": "stdout"
        }
      ]
    },
    {
      "cell_type": "code",
      "metadata": {
        "id": "qa0rqcBZ-_Eu",
        "colab_type": "code",
        "colab": {}
      },
      "source": [
        "#Tokenization of text\n",
        "tokenizer=ToktokTokenizer()"
      ],
      "execution_count": 0,
      "outputs": []
    },
    {
      "cell_type": "code",
      "metadata": {
        "id": "8-lYMXWD_BOc",
        "colab_type": "code",
        "colab": {
          "base_uri": "https://localhost:8080/",
          "height": 0
        },
        "outputId": "3549e544-c8f8-474b-a63d-5ffbf313fabb"
      },
      "source": [
        "#Removing the html strips\n",
        "def strip_html(text):\n",
        "    soup = BeautifulSoup(text, \"html.parser\")\n",
        "    return soup.get_text()\n",
        "\n",
        "#Removing the square brackets\n",
        "def remove_between_square_brackets(text):\n",
        "    return re.sub('\\[[^]]*\\]', '', text)\n",
        "\n",
        "#Removing the noisy text\n",
        "def denoise_text(text):\n",
        "    text = strip_html(text)\n",
        "    text = remove_between_square_brackets(text)\n",
        "    return text\n",
        "#Apply function on review column\n",
        "tweets_data['text']=tweets_data['text'].apply(denoise_text)\n",
        "tweets_data['English']=tweets_data['English'].apply(denoise_text)"
      ],
      "execution_count": 24,
      "outputs": [
        {
          "output_type": "stream",
          "text": [
            "/usr/local/lib/python3.6/dist-packages/bs4/__init__.py:273: UserWarning: \"b'.'\" looks like a filename, not markup. You should probably open this file and pass the filehandle into Beautiful Soup.\n",
            "  ' Beautiful Soup.' % markup)\n",
            "/usr/local/lib/python3.6/dist-packages/bs4/__init__.py:336: UserWarning: \"http://bit.ly/Budi-KONVEKSI\" looks like a URL. Beautiful Soup is not an HTTP client. You should probably use an HTTP client like requests to get the document behind the URL, and feed that document to Beautiful Soup.\n",
            "  ' that document to Beautiful Soup.' % decoded_markup\n",
            "/usr/local/lib/python3.6/dist-packages/bs4/__init__.py:336: UserWarning: \"http://carimobil.id/mitsubishi/gorontalo\" looks like a URL. Beautiful Soup is not an HTTP client. You should probably use an HTTP client like requests to get the document behind the URL, and feed that document to Beautiful Soup.\n",
            "  ' that document to Beautiful Soup.' % decoded_markup\n",
            "/usr/local/lib/python3.6/dist-packages/bs4/__init__.py:336: UserWarning: \"http://mobil-pedia.com/sales-mitsubishi-kudus.html\" looks like a URL. Beautiful Soup is not an HTTP client. You should probably use an HTTP client like requests to get the document behind the URL, and feed that document to Beautiful Soup.\n",
            "  ' that document to Beautiful Soup.' % decoded_markup\n",
            "/usr/local/lib/python3.6/dist-packages/bs4/__init__.py:336: UserWarning: \"http://Wulingmobilpromo.com\" looks like a URL. Beautiful Soup is not an HTTP client. You should probably use an HTTP client like requests to get the document behind the URL, and feed that document to Beautiful Soup.\n",
            "  ' that document to Beautiful Soup.' % decoded_markup\n",
            "/usr/local/lib/python3.6/dist-packages/bs4/__init__.py:336: UserWarning: \"https://activity.mobilelegends.com/en/ChristmasGifts/index.html?YWNjb3VudGlkPTI5NTc2MDQxOCZzZXJ2ZXJpZD05NTMzJm1ldGhvZD1zaGFyZQ%3D%3D\" looks like a URL. Beautiful Soup is not an HTTP client. You should probably use an HTTP client like requests to get the document behind the URL, and feed that document to Beautiful Soup.\n",
            "  ' that document to Beautiful Soup.' % decoded_markup\n",
            "/usr/local/lib/python3.6/dist-packages/bs4/__init__.py:336: UserWarning: \"https://chat.whatsapp.com/FP3e8riotmG2eDpyxrFsOq\" looks like a URL. Beautiful Soup is not an HTTP client. You should probably use an HTTP client like requests to get the document behind the URL, and feed that document to Beautiful Soup.\n",
            "  ' that document to Beautiful Soup.' % decoded_markup\n",
            "/usr/local/lib/python3.6/dist-packages/bs4/__init__.py:336: UserWarning: \"https://youtu.be/AeF3jjnPcVs\" looks like a URL. Beautiful Soup is not an HTTP client. You should probably use an HTTP client like requests to get the document behind the URL, and feed that document to Beautiful Soup.\n",
            "  ' that document to Beautiful Soup.' % decoded_markup\n",
            "/usr/local/lib/python3.6/dist-packages/bs4/__init__.py:336: UserWarning: \"https://youtu.be/e-ZmuZ1uDLE\" looks like a URL. Beautiful Soup is not an HTTP client. You should probably use an HTTP client like requests to get the document behind the URL, and feed that document to Beautiful Soup.\n",
            "  ' that document to Beautiful Soup.' % decoded_markup\n",
            "/usr/local/lib/python3.6/dist-packages/bs4/__init__.py:336: UserWarning: \"https://youtu.be/fMfrzlabeyE\" looks like a URL. Beautiful Soup is not an HTTP client. You should probably use an HTTP client like requests to get the document behind the URL, and feed that document to Beautiful Soup.\n",
            "  ' that document to Beautiful Soup.' % decoded_markup\n",
            "/usr/local/lib/python3.6/dist-packages/bs4/__init__.py:336: UserWarning: \"https://youtu.be/gK5OP88Ho68\" looks like a URL. Beautiful Soup is not an HTTP client. You should probably use an HTTP client like requests to get the document behind the URL, and feed that document to Beautiful Soup.\n",
            "  ' that document to Beautiful Soup.' % decoded_markup\n",
            "/usr/local/lib/python3.6/dist-packages/bs4/__init__.py:336: UserWarning: \"https://youtu.be/Go594g17cMI\" looks like a URL. Beautiful Soup is not an HTTP client. You should probably use an HTTP client like requests to get the document behind the URL, and feed that document to Beautiful Soup.\n",
            "  ' that document to Beautiful Soup.' % decoded_markup\n",
            "/usr/local/lib/python3.6/dist-packages/bs4/__init__.py:336: UserWarning: \"https://youtu.be/J43WkoIrCy0\" looks like a URL. Beautiful Soup is not an HTTP client. You should probably use an HTTP client like requests to get the document behind the URL, and feed that document to Beautiful Soup.\n",
            "  ' that document to Beautiful Soup.' % decoded_markup\n",
            "/usr/local/lib/python3.6/dist-packages/bs4/__init__.py:336: UserWarning: \"https://youtu.be/Mk_LpGHA3-0\" looks like a URL. Beautiful Soup is not an HTTP client. You should probably use an HTTP client like requests to get the document behind the URL, and feed that document to Beautiful Soup.\n",
            "  ' that document to Beautiful Soup.' % decoded_markup\n",
            "/usr/local/lib/python3.6/dist-packages/bs4/__init__.py:336: UserWarning: \"https://youtu.be/TRxnZWMh-ng\" looks like a URL. Beautiful Soup is not an HTTP client. You should probably use an HTTP client like requests to get the document behind the URL, and feed that document to Beautiful Soup.\n",
            "  ' that document to Beautiful Soup.' % decoded_markup\n",
            "/usr/local/lib/python3.6/dist-packages/bs4/__init__.py:336: UserWarning: \"https://youtu.be/u3rhOjChUh4\" looks like a URL. Beautiful Soup is not an HTTP client. You should probably use an HTTP client like requests to get the document behind the URL, and feed that document to Beautiful Soup.\n",
            "  ' that document to Beautiful Soup.' % decoded_markup\n",
            "/usr/local/lib/python3.6/dist-packages/bs4/__init__.py:336: UserWarning: \"https://youtu.be/utEadJsuth0\" looks like a URL. Beautiful Soup is not an HTTP client. You should probably use an HTTP client like requests to get the document behind the URL, and feed that document to Beautiful Soup.\n",
            "  ' that document to Beautiful Soup.' % decoded_markup\n",
            "/usr/local/lib/python3.6/dist-packages/bs4/__init__.py:336: UserWarning: \"https://youtu.be/UtKB6-B2CKM\" looks like a URL. Beautiful Soup is not an HTTP client. You should probably use an HTTP client like requests to get the document behind the URL, and feed that document to Beautiful Soup.\n",
            "  ' that document to Beautiful Soup.' % decoded_markup\n",
            "/usr/local/lib/python3.6/dist-packages/bs4/__init__.py:336: UserWarning: \"https://youtu.be/XAEA6-hFyNQ\" looks like a URL. Beautiful Soup is not an HTTP client. You should probably use an HTTP client like requests to get the document behind the URL, and feed that document to Beautiful Soup.\n",
            "  ' that document to Beautiful Soup.' % decoded_markup\n",
            "/usr/local/lib/python3.6/dist-packages/bs4/__init__.py:336: UserWarning: \"https://youtu.be/Yjw2zlt0h5E\" looks like a URL. Beautiful Soup is not an HTTP client. You should probably use an HTTP client like requests to get the document behind the URL, and feed that document to Beautiful Soup.\n",
            "  ' that document to Beautiful Soup.' % decoded_markup\n"
          ],
          "name": "stderr"
        }
      ]
    },
    {
      "cell_type": "code",
      "metadata": {
        "id": "ZAqmjUfp_J58",
        "colab_type": "code",
        "colab": {}
      },
      "source": [
        "#Define function for removing special characters\n",
        "def remove_special_characters(text, remove_digits=True):\n",
        "    pattern=r'[^a-zA-z0-9\\s]'\n",
        "    text=re.sub(pattern,'',text)\n",
        "    return text\n",
        "#Apply function on review column\n",
        "tweets_data['text']=tweets_data['text'].apply(remove_special_characters)\n",
        "tweets_data['English']=tweets_data['English'].apply(remove_special_characters)"
      ],
      "execution_count": 0,
      "outputs": []
    },
    {
      "cell_type": "code",
      "metadata": {
        "id": "zRK2AhWl_Tss",
        "colab_type": "code",
        "colab": {}
      },
      "source": [
        "#Stemming the text\n",
        "def simple_stemmer(text):\n",
        "    ps=nltk.porter.PorterStemmer()\n",
        "    text= ' '.join([ps.stem(word) for word in text.split()])\n",
        "    return text\n",
        "#Apply function on review column\n",
        "tweets_data['text']=tweets_data['text'].apply(simple_stemmer)\n",
        "tweets_data['English']=tweets_data['English'].apply(simple_stemmer)"
      ],
      "execution_count": 0,
      "outputs": []
    },
    {
      "cell_type": "code",
      "metadata": {
        "id": "ZWj0hYBG_cx1",
        "colab_type": "code",
        "outputId": "17cbb51f-2be2-45bb-e298-a4e708927f79",
        "colab": {
          "base_uri": "https://localhost:8080/",
          "height": 0
        }
      },
      "source": [
        "nltk.download('stopwords')"
      ],
      "execution_count": 27,
      "outputs": [
        {
          "output_type": "stream",
          "text": [
            "[nltk_data] Downloading package stopwords to /root/nltk_data...\n",
            "[nltk_data]   Unzipping corpora/stopwords.zip.\n"
          ],
          "name": "stdout"
        },
        {
          "output_type": "execute_result",
          "data": {
            "text/plain": [
              "True"
            ]
          },
          "metadata": {
            "tags": []
          },
          "execution_count": 27
        }
      ]
    },
    {
      "cell_type": "code",
      "metadata": {
        "id": "RTJn77yn__Iv",
        "colab_type": "code",
        "colab": {}
      },
      "source": [
        "stopword_list=nltk.corpus.stopwords.words('english')"
      ],
      "execution_count": 0,
      "outputs": []
    },
    {
      "cell_type": "code",
      "metadata": {
        "id": "z9N87Lv__2NE",
        "colab_type": "code",
        "outputId": "7b6c1462-ffde-4658-ae45-c2c26cb17c3c",
        "colab": {
          "base_uri": "https://localhost:8080/",
          "height": 0
        }
      },
      "source": [
        "#set stopwords to english\n",
        "stop=set(stopwords.words('english'))\n",
        "print(stop)\n",
        "\n",
        "#removing the stopwords\n",
        "def remove_stopwords(text, is_lower_case=False):\n",
        "    tokens = tokenizer.tokenize(text)\n",
        "    tokens = [token.strip() for token in tokens]\n",
        "    if is_lower_case:\n",
        "        filtered_tokens = [token for token in tokens if token not in stopword_list]\n",
        "    else:\n",
        "        filtered_tokens = [token for token in tokens if token.lower() not in stopword_list]\n",
        "    filtered_text = ' '.join(filtered_tokens)    \n",
        "    return filtered_text\n",
        "#Apply function on review column\n",
        "tweets_data['English']=tweets_data['English'].apply(remove_stopwords)"
      ],
      "execution_count": 29,
      "outputs": [
        {
          "output_type": "stream",
          "text": [
            "{'he', 'haven', 'hasn', 'its', \"wasn't\", 'there', 'such', 'up', 'so', 's', \"won't\", 'until', 'if', 'weren', \"doesn't\", 'more', 'then', 't', 'and', 'just', 'shouldn', 'than', 'don', 'yours', 'her', 'down', 'ma', 'me', 'll', 'too', 'on', 'this', 'before', 'where', 'for', 'how', 'i', \"that'll\", 'my', 'their', 'these', 'have', 'themselves', 'at', 'shan', 'yourself', 'whom', 'that', 'being', 'am', 'out', 'most', 'your', \"wouldn't\", 'off', 'should', 'all', 'mightn', 'will', \"didn't\", \"mustn't\", 'between', 'below', 'needn', \"shouldn't\", 'over', 'each', 'an', 'hers', 'we', 'against', 'they', 'ours', 'having', 'about', 'now', \"shan't\", 'myself', 'nor', 'was', 'above', \"she's\", 'under', 'did', 'here', 'y', 'won', 'not', \"it's\", 'mustn', \"needn't\", 're', 'further', 'been', 'were', 'doing', 'hadn', 'any', \"you've\", 'd', 'him', 'are', 'them', 'with', 'herself', 'who', \"haven't\", 'doesn', 'those', 'to', 'she', 'only', 'itself', \"should've\", 'after', 'had', \"you'll\", 'into', 'wasn', 'why', \"you're\", 'from', \"couldn't\", 'yourselves', 'no', 'while', 'which', 'but', 'because', \"isn't\", 've', 'same', \"you'd\", 'aren', 'very', 'you', 'other', 'his', 'or', 'can', 'isn', 'a', 'both', 'by', 'of', 'again', 'as', 'when', \"don't\", 'didn', 'ain', 'is', 'once', \"aren't\", 'what', 'the', 'do', 'during', 'own', 'our', 'theirs', 'wouldn', \"mightn't\", 'some', 'has', \"hadn't\", 'o', 'be', 'in', \"hasn't\", 'ourselves', 'it', 'm', 'few', 'does', 'through', \"weren't\", 'himself', 'couldn'}\n"
          ],
          "name": "stdout"
        }
      ]
    },
    {
      "cell_type": "code",
      "metadata": {
        "id": "wHdBzrZ7AU_A",
        "colab_type": "code",
        "outputId": "69ff8839-6c95-49c0-e12c-9e029fca7d2c",
        "colab": {
          "base_uri": "https://localhost:8080/",
          "height": 0
        }
      },
      "source": [
        "norm_train_reviews=tweets_data.English[:8028]\n",
        "print(len(norm_train_reviews))"
      ],
      "execution_count": 30,
      "outputs": [
        {
          "output_type": "stream",
          "text": [
            "8028\n"
          ],
          "name": "stdout"
        }
      ]
    },
    {
      "cell_type": "code",
      "metadata": {
        "id": "vhll5K7JA8pz",
        "colab_type": "code",
        "outputId": "57231be6-1f47-41c1-fc02-13b3a0767c7c",
        "colab": {
          "base_uri": "https://localhost:8080/",
          "height": 0
        }
      },
      "source": [
        "norm_test_reviews=tweets_data.English[8028:]\n",
        "print(len(norm_test_reviews))"
      ],
      "execution_count": 31,
      "outputs": [
        {
          "output_type": "stream",
          "text": [
            "3440\n"
          ],
          "name": "stdout"
        }
      ]
    },
    {
      "cell_type": "markdown",
      "metadata": {
        "id": "IDyKhI30BCDU",
        "colab_type": "text"
      },
      "source": [
        "#Bag Of Words"
      ]
    },
    {
      "cell_type": "code",
      "metadata": {
        "id": "qzIwocj5BD3J",
        "colab_type": "code",
        "outputId": "74f291af-eccb-4d1a-afbf-29444667adcf",
        "colab": {
          "base_uri": "https://localhost:8080/",
          "height": 0
        }
      },
      "source": [
        "#Count vectorizer for bag of words\n",
        "cv=CountVectorizer(min_df=0,max_df=1,binary=False,ngram_range=(1,3))\n",
        "#transformed train reviews\n",
        "cv_train_reviews=cv.fit_transform(norm_train_reviews)\n",
        "#transformed test reviews\n",
        "cv_test_reviews=cv.transform(norm_test_reviews)\n",
        "\n",
        "print('BOW_cv_train:',cv_train_reviews.shape)\n",
        "print('BOW_cv_test:',cv_test_reviews.shape)\n",
        "#vocab=cv.get_feature_names()-toget feature names"
      ],
      "execution_count": 32,
      "outputs": [
        {
          "output_type": "stream",
          "text": [
            "BOW_cv_train: (8028, 128621)\n",
            "BOW_cv_test: (3440, 128621)\n"
          ],
          "name": "stdout"
        }
      ]
    },
    {
      "cell_type": "markdown",
      "metadata": {
        "id": "UFVF2O1yBGs2",
        "colab_type": "text"
      },
      "source": [
        "#Term Frequency-Inverse Document Frequency model (TFIDF)"
      ]
    },
    {
      "cell_type": "code",
      "metadata": {
        "id": "6ss0LJWHBIn9",
        "colab_type": "code",
        "outputId": "a31abd08-7e9c-4002-e7c5-40a668bb283b",
        "colab": {
          "base_uri": "https://localhost:8080/",
          "height": 0
        }
      },
      "source": [
        "#Tfidf vectorizer\n",
        "tv=TfidfVectorizer(min_df=0,max_df=1,use_idf=True,ngram_range=(1,3))\n",
        "#transformed train reviews\n",
        "tv_train_reviews=tv.fit_transform(norm_train_reviews)\n",
        "#transformed test reviews\n",
        "tv_test_reviews=tv.transform(norm_test_reviews)\n",
        "print('Tfidf_train:',tv_train_reviews.shape)\n",
        "print('Tfidf_test:',tv_test_reviews.shape)"
      ],
      "execution_count": 33,
      "outputs": [
        {
          "output_type": "stream",
          "text": [
            "Tfidf_train: (8028, 128621)\n",
            "Tfidf_test: (3440, 128621)\n"
          ],
          "name": "stdout"
        }
      ]
    },
    {
      "cell_type": "markdown",
      "metadata": {
        "id": "T0UnTlnOBLto",
        "colab_type": "text"
      },
      "source": [
        "#Labeling the sentiment text"
      ]
    },
    {
      "cell_type": "code",
      "metadata": {
        "id": "HKfnHKk-BLF1",
        "colab_type": "code",
        "colab": {}
      },
      "source": [
        "#labeling the sentient data\n",
        "lb=LabelBinarizer()\n",
        "#transformed sentiment data\n",
        "sentiment_data=lb.fit_transform(tweets_data['polaritytext'])"
      ],
      "execution_count": 0,
      "outputs": []
    },
    {
      "cell_type": "code",
      "metadata": {
        "id": "57S-a8NPBQFo",
        "colab_type": "code",
        "outputId": "7b4d784f-b7cd-47f3-86a9-f02bfc0331e6",
        "colab": {
          "base_uri": "https://localhost:8080/",
          "height": 50
        }
      },
      "source": [
        "print(len(train_sentiments))\n",
        "print(len(test_sentiments))"
      ],
      "execution_count": 35,
      "outputs": [
        {
          "output_type": "stream",
          "text": [
            "8028\n",
            "3440\n"
          ],
          "name": "stdout"
        }
      ]
    },
    {
      "cell_type": "code",
      "metadata": {
        "id": "I_YpvG2w2tod",
        "colab_type": "code",
        "colab": {}
      },
      "source": [
        "from collections import Counter"
      ],
      "execution_count": 0,
      "outputs": []
    },
    {
      "cell_type": "markdown",
      "metadata": {
        "id": "wSilXwR4BUjv",
        "colab_type": "text"
      },
      "source": [
        "#Logistic Regression"
      ]
    },
    {
      "cell_type": "code",
      "metadata": {
        "id": "8v8-b-5KBT6G",
        "colab_type": "code",
        "outputId": "c780faeb-5fa2-4f85-b522-6788216f6ff4",
        "colab": {
          "base_uri": "https://localhost:8080/",
          "height": 183
        }
      },
      "source": [
        "#training the model\n",
        "lr=LogisticRegression(penalty='l2',max_iter=500,C=1,random_state=42)\n",
        "#Fitting the model for Bag of words\n",
        "lr_bow=lr.fit(cv_train_reviews,train_sentiments)\n",
        "print(lr_bow)\n",
        "#Fitting the model for tfidf features\n",
        "lr_tfidf=lr.fit(tv_train_reviews,train_sentiments)\n",
        "print(lr_tfidf)"
      ],
      "execution_count": 36,
      "outputs": [
        {
          "output_type": "stream",
          "text": [
            "LogisticRegression(C=1, class_weight=None, dual=False, fit_intercept=True,\n",
            "                   intercept_scaling=1, l1_ratio=None, max_iter=500,\n",
            "                   multi_class='auto', n_jobs=None, penalty='l2',\n",
            "                   random_state=42, solver='lbfgs', tol=0.0001, verbose=0,\n",
            "                   warm_start=False)\n",
            "LogisticRegression(C=1, class_weight=None, dual=False, fit_intercept=True,\n",
            "                   intercept_scaling=1, l1_ratio=None, max_iter=500,\n",
            "                   multi_class='auto', n_jobs=None, penalty='l2',\n",
            "                   random_state=42, solver='lbfgs', tol=0.0001, verbose=0,\n",
            "                   warm_start=False)\n"
          ],
          "name": "stdout"
        }
      ]
    },
    {
      "cell_type": "code",
      "metadata": {
        "id": "6KFB5YaqBYq_",
        "colab_type": "code",
        "outputId": "07b567d9-e5a9-420a-f8bb-cb9409ce6981",
        "colab": {
          "base_uri": "https://localhost:8080/",
          "height": 50
        }
      },
      "source": [
        "#Predicting the model for bag of words\n",
        "lr_bow_predict=lr.predict(cv_test_reviews)\n",
        "print(Counter(lr_bow_predict))\n",
        "##Predicting the model for tfidf features\n",
        "lr_tfidf_predict=lr.predict(tv_test_reviews)\n",
        "print(Counter(lr_tfidf_predict))"
      ],
      "execution_count": 55,
      "outputs": [
        {
          "output_type": "stream",
          "text": [
            "Counter({'neutral': 3394, 'happy': 39, 'unhappy': 7})\n",
            "Counter({'neutral': 3440})\n"
          ],
          "name": "stdout"
        }
      ]
    },
    {
      "cell_type": "code",
      "metadata": {
        "id": "vBuF0ylQBbdY",
        "colab_type": "code",
        "outputId": "c2f016a5-c611-4ef8-9b5f-f9afe94347d6",
        "colab": {
          "base_uri": "https://localhost:8080/",
          "height": 50
        }
      },
      "source": [
        "#Accuracy score for bag of words\n",
        "lr_bow_score=accuracy_score(test_sentiments,lr_bow_predict)\n",
        "print(\"lr_bow_score :\",lr_bow_score)\n",
        "#Accuracy score for tfidf features\n",
        "lr_tfidf_score=accuracy_score(test_sentiments,lr_tfidf_predict)\n",
        "print(\"lr_tfidf_score :\",lr_tfidf_score)"
      ],
      "execution_count": 38,
      "outputs": [
        {
          "output_type": "stream",
          "text": [
            "lr_bow_score : 0.8244186046511628\n",
            "lr_tfidf_score : 0.8180232558139535\n"
          ],
          "name": "stdout"
        }
      ]
    },
    {
      "cell_type": "markdown",
      "metadata": {
        "id": "z0XR6GhkBfbG",
        "colab_type": "text"
      },
      "source": [
        "#Stochastic gradient descent or Linear support vector machines (SVM) for bag of words and tfidf features"
      ]
    },
    {
      "cell_type": "code",
      "metadata": {
        "id": "gPEgO5bJBeye",
        "colab_type": "code",
        "outputId": "81c65b01-e514-409f-e10c-a93b29005cf6",
        "colab": {
          "base_uri": "https://localhost:8080/",
          "height": 216
        }
      },
      "source": [
        "#training the linear svm\n",
        "svm=SGDClassifier(loss='hinge',max_iter=500,random_state=42)\n",
        "#fitting the svm for bag of words\n",
        "svm_bow=svm.fit(cv_train_reviews,train_sentiments)\n",
        "print(svm_bow)\n",
        "#fitting the svm for tfidf features\n",
        "svm_tfidf=svm.fit(tv_train_reviews,train_sentiments)\n",
        "print(svm_tfidf)"
      ],
      "execution_count": 39,
      "outputs": [
        {
          "output_type": "stream",
          "text": [
            "SGDClassifier(alpha=0.0001, average=False, class_weight=None,\n",
            "              early_stopping=False, epsilon=0.1, eta0=0.0, fit_intercept=True,\n",
            "              l1_ratio=0.15, learning_rate='optimal', loss='hinge',\n",
            "              max_iter=500, n_iter_no_change=5, n_jobs=None, penalty='l2',\n",
            "              power_t=0.5, random_state=42, shuffle=True, tol=0.001,\n",
            "              validation_fraction=0.1, verbose=0, warm_start=False)\n",
            "SGDClassifier(alpha=0.0001, average=False, class_weight=None,\n",
            "              early_stopping=False, epsilon=0.1, eta0=0.0, fit_intercept=True,\n",
            "              l1_ratio=0.15, learning_rate='optimal', loss='hinge',\n",
            "              max_iter=500, n_iter_no_change=5, n_jobs=None, penalty='l2',\n",
            "              power_t=0.5, random_state=42, shuffle=True, tol=0.001,\n",
            "              validation_fraction=0.1, verbose=0, warm_start=False)\n"
          ],
          "name": "stdout"
        }
      ]
    },
    {
      "cell_type": "code",
      "metadata": {
        "id": "P7svFcrXBj9w",
        "colab_type": "code",
        "outputId": "15597e2d-75a8-4db8-84f1-69f3834c5857",
        "colab": {
          "base_uri": "https://localhost:8080/",
          "height": 50
        }
      },
      "source": [
        "#Predicting the model for bag of words\n",
        "svm_bow_predict=svm.predict(cv_test_reviews)\n",
        "print(Counter(svm_bow_predict))\n",
        "#Predicting the model for tfidf features\n",
        "svm_tfidf_predict=svm.predict(tv_test_reviews)\n",
        "print(Counter(svm_tfidf_predict))"
      ],
      "execution_count": 54,
      "outputs": [
        {
          "output_type": "stream",
          "text": [
            "Counter({'neutral': 3360, 'happy': 71, 'unhappy': 9})\n",
            "Counter({'neutral': 3410, 'happy': 27, 'unhappy': 3})\n"
          ],
          "name": "stdout"
        }
      ]
    },
    {
      "cell_type": "code",
      "metadata": {
        "id": "rpyYQUsKBmKn",
        "colab_type": "code",
        "outputId": "3ab3adb9-cddf-4852-a87a-693b0f05d04f",
        "colab": {
          "base_uri": "https://localhost:8080/",
          "height": 50
        }
      },
      "source": [
        "#Accuracy score for bag of words\n",
        "svm_bow_score=accuracy_score(test_sentiments,svm_bow_predict)\n",
        "print(\"svm_bow_score :\",svm_bow_score)\n",
        "#Accuracy score for tfidf features\n",
        "svm_tfidf_score=accuracy_score(test_sentiments,svm_tfidf_predict)\n",
        "print(\"svm_tfidf_score :\",svm_tfidf_score)"
      ],
      "execution_count": 41,
      "outputs": [
        {
          "output_type": "stream",
          "text": [
            "svm_bow_score : 0.8244186046511628\n",
            "svm_tfidf_score : 0.8226744186046512\n"
          ],
          "name": "stdout"
        }
      ]
    },
    {
      "cell_type": "markdown",
      "metadata": {
        "id": "ythPa88OBoy3",
        "colab_type": "text"
      },
      "source": [
        "#Multinomial Naive Bayes for bag of words and tfidf features"
      ]
    },
    {
      "cell_type": "code",
      "metadata": {
        "id": "VqEVQub_Bq58",
        "colab_type": "code",
        "outputId": "477e1122-9601-41d3-c2d4-4b824def4a6e",
        "colab": {
          "base_uri": "https://localhost:8080/",
          "height": 50
        }
      },
      "source": [
        "#training the model\n",
        "mnb=MultinomialNB()\n",
        "#fitting the svm for bag of words\n",
        "mnb_bow=mnb.fit(cv_train_reviews,train_sentiments)\n",
        "print(mnb_bow)\n",
        "#fitting the svm for tfidf features\n",
        "mnb_tfidf=mnb.fit(tv_train_reviews,train_sentiments)\n",
        "print(mnb_tfidf)"
      ],
      "execution_count": 42,
      "outputs": [
        {
          "output_type": "stream",
          "text": [
            "MultinomialNB(alpha=1.0, class_prior=None, fit_prior=True)\n",
            "MultinomialNB(alpha=1.0, class_prior=None, fit_prior=True)\n"
          ],
          "name": "stdout"
        }
      ]
    },
    {
      "cell_type": "code",
      "metadata": {
        "id": "5sIT2DHaBsyg",
        "colab_type": "code",
        "outputId": "327e14b4-4e22-4bf1-d879-81e75ddb6bdf",
        "colab": {
          "base_uri": "https://localhost:8080/",
          "height": 50
        }
      },
      "source": [
        "#Predicting the model for bag of words\n",
        "mnb_bow_predict=mnb.predict(cv_test_reviews)\n",
        "print(Counter(mnb_bow_predict))\n",
        "#Predicting the model for tfidf features\n",
        "mnb_tfidf_predict=mnb.predict(tv_test_reviews)\n",
        "print(Counter(mnb_tfidf_predict))"
      ],
      "execution_count": 56,
      "outputs": [
        {
          "output_type": "stream",
          "text": [
            "Counter({'neutral': 3381, 'happy': 48, 'unhappy': 11})\n",
            "Counter({'neutral': 3437, 'happy': 3})\n"
          ],
          "name": "stdout"
        }
      ]
    },
    {
      "cell_type": "code",
      "metadata": {
        "id": "JJDVaDtaBu1V",
        "colab_type": "code",
        "outputId": "7aff14ee-deef-49e1-da67-9cccbf5addf5",
        "colab": {
          "base_uri": "https://localhost:8080/",
          "height": 50
        }
      },
      "source": [
        "#Accuracy score for bag of words\n",
        "mnb_bow_score=accuracy_score(test_sentiments,mnb_bow_predict)\n",
        "print(\"mnb_bow_score :\",mnb_bow_score)\n",
        "#Accuracy score for tfidf features\n",
        "mnb_tfidf_score=accuracy_score(test_sentiments,mnb_tfidf_predict)\n",
        "print(\"mnb_tfidf_score :\",mnb_tfidf_score)"
      ],
      "execution_count": 44,
      "outputs": [
        {
          "output_type": "stream",
          "text": [
            "mnb_bow_score : 0.8241279069767442\n",
            "mnb_tfidf_score : 0.8183139534883721\n"
          ],
          "name": "stdout"
        }
      ]
    }
  ]
}