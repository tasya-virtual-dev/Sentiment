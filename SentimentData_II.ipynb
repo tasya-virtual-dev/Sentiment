{
  "nbformat": 4,
  "nbformat_minor": 0,
  "metadata": {
    "colab": {
      "name": "SentimentData II.ipynb",
      "provenance": []
    },
    "kernelspec": {
      "name": "python3",
      "display_name": "Python 3"
    }
  },
  "cells": [
    {
      "cell_type": "code",
      "metadata": {
        "id": "43TDHe3nElVQ",
        "colab_type": "code",
        "colab": {}
      },
      "source": [
        "import pandas as pd"
      ],
      "execution_count": 0,
      "outputs": []
    },
    {
      "cell_type": "code",
      "metadata": {
        "id": "uVS6-pRXEnDc",
        "colab_type": "code",
        "colab": {}
      },
      "source": [
        "tweets_data = pd.read_csv('NoLimit-EN.csv')"
      ],
      "execution_count": 0,
      "outputs": []
    },
    {
      "cell_type": "code",
      "metadata": {
        "id": "u8G9Tmo0Evt-",
        "colab_type": "code",
        "colab": {
          "base_uri": "https://localhost:8080/",
          "height": 197
        },
        "outputId": "3bfb020c-8cc5-4bc1-a14c-ae2aaf0fec1b"
      },
      "source": [
        "tweets_data.head()"
      ],
      "execution_count": 110,
      "outputs": [
        {
          "output_type": "execute_result",
          "data": {
            "text/html": [
              "<div>\n",
              "<style scoped>\n",
              "    .dataframe tbody tr th:only-of-type {\n",
              "        vertical-align: middle;\n",
              "    }\n",
              "\n",
              "    .dataframe tbody tr th {\n",
              "        vertical-align: top;\n",
              "    }\n",
              "\n",
              "    .dataframe thead th {\n",
              "        text-align: right;\n",
              "    }\n",
              "</style>\n",
              "<table border=\"1\" class=\"dataframe\">\n",
              "  <thead>\n",
              "    <tr style=\"text-align: right;\">\n",
              "      <th></th>\n",
              "      <th>text</th>\n",
              "      <th>English</th>\n",
              "    </tr>\n",
              "  </thead>\n",
              "  <tbody>\n",
              "    <tr>\n",
              "      <th>0</th>\n",
              "      <td>gsxr</td>\n",
              "      <td>gsxr</td>\n",
              "    </tr>\n",
              "    <tr>\n",
              "      <th>1</th>\n",
              "      <td>daihatsu sirion kuisdaihatsu daihatsusahabatku...</td>\n",
              "      <td>Daihatsu Sirion kuisdaihatsu daihatsusahabatku...</td>\n",
              "    </tr>\n",
              "    <tr>\n",
              "      <th>2</th>\n",
              "      <td>Satria Suzukiquiz Kuy followup Gaes at Suzuki ...</td>\n",
              "      <td>Satria Suzukiquiz Kuy followup gaes at Suzuki ...</td>\n",
              "    </tr>\n",
              "    <tr>\n",
              "      <th>3</th>\n",
              "      <td>satria suzukiquiz berjalan ke atas rotan liat ...</td>\n",
              "      <td>knight suzukiquiz walk up to dry his underwate...</td>\n",
              "    </tr>\n",
              "    <tr>\n",
              "      <th>4</th>\n",
              "      <td>satria suzuqiquiz satria armanih</td>\n",
              "      <td>suzuqiquiz noble knight armanih</td>\n",
              "    </tr>\n",
              "  </tbody>\n",
              "</table>\n",
              "</div>"
            ],
            "text/plain": [
              "                                                text                                            English\n",
              "0                                               gsxr                                               gsxr\n",
              "1  daihatsu sirion kuisdaihatsu daihatsusahabatku...  Daihatsu Sirion kuisdaihatsu daihatsusahabatku...\n",
              "2  Satria Suzukiquiz Kuy followup Gaes at Suzuki ...  Satria Suzukiquiz Kuy followup gaes at Suzuki ...\n",
              "3  satria suzukiquiz berjalan ke atas rotan liat ...  knight suzukiquiz walk up to dry his underwate...\n",
              "4                   satria suzuqiquiz satria armanih                    suzuqiquiz noble knight armanih"
            ]
          },
          "metadata": {
            "tags": []
          },
          "execution_count": 110
        }
      ]
    },
    {
      "cell_type": "code",
      "metadata": {
        "id": "iUdISPoeUgbm",
        "colab_type": "code",
        "colab": {
          "base_uri": "https://localhost:8080/",
          "height": 33
        },
        "outputId": "6274df3d-e5e4-40b6-a428-15e2dccc2f7e"
      },
      "source": [
        "print(len(tweets_data))"
      ],
      "execution_count": 111,
      "outputs": [
        {
          "output_type": "stream",
          "text": [
            "13532\n"
          ],
          "name": "stdout"
        }
      ]
    },
    {
      "cell_type": "code",
      "metadata": {
        "id": "YwJeROomGlCM",
        "colab_type": "code",
        "colab": {
          "base_uri": "https://localhost:8080/",
          "height": 66
        },
        "outputId": "6fc66c79-9816-4441-e3c8-bff1e5100550"
      },
      "source": [
        "tweets_data.dropna(axis = 0, how = \"any\", inplace = True)\n",
        "tweets_data.isnull().sum()"
      ],
      "execution_count": 112,
      "outputs": [
        {
          "output_type": "execute_result",
          "data": {
            "text/plain": [
              "text       0\n",
              "English    0\n",
              "dtype: int64"
            ]
          },
          "metadata": {
            "tags": []
          },
          "execution_count": 112
        }
      ]
    },
    {
      "cell_type": "code",
      "metadata": {
        "id": "3yaS_z5gGv7b",
        "colab_type": "code",
        "colab": {
          "base_uri": "https://localhost:8080/",
          "height": 33
        },
        "outputId": "3719594f-39a3-46ef-ef76-422722b488ad"
      },
      "source": [
        "print (len(tweets_data))"
      ],
      "execution_count": 113,
      "outputs": [
        {
          "output_type": "stream",
          "text": [
            "12928\n"
          ],
          "name": "stdout"
        }
      ]
    },
    {
      "cell_type": "code",
      "metadata": {
        "id": "d0m9nzQIUmqY",
        "colab_type": "code",
        "colab": {}
      },
      "source": [
        "tweets_data.drop_duplicates(inplace=True)"
      ],
      "execution_count": 0,
      "outputs": []
    },
    {
      "cell_type": "code",
      "metadata": {
        "id": "8fbUVCigUr5s",
        "colab_type": "code",
        "colab": {
          "base_uri": "https://localhost:8080/",
          "height": 33
        },
        "outputId": "f1fb3505-1f7b-4bdb-fb26-9591fa8276ce"
      },
      "source": [
        "print (len(tweets_data))"
      ],
      "execution_count": 115,
      "outputs": [
        {
          "output_type": "stream",
          "text": [
            "10666\n"
          ],
          "name": "stdout"
        }
      ]
    },
    {
      "cell_type": "code",
      "metadata": {
        "id": "tY-KIs5CUvVt",
        "colab_type": "code",
        "colab": {
          "base_uri": "https://localhost:8080/",
          "height": 33
        },
        "outputId": "c7629ac5-431b-4ea3-dd81-2590fedf06bd"
      },
      "source": [
        "import re\n",
        "def word_in_text(word, English):\n",
        "    try:\n",
        "        English = English.lower()\n",
        "        match = re.search(word, English)\n",
        "        if match:\n",
        "            return True\n",
        "        return False\n",
        "    except AttributeError:\n",
        "        return False\n",
        "print(word_in_text('hello','Hi there maybe, I would say hello instead'))"
      ],
      "execution_count": 116,
      "outputs": [
        {
          "output_type": "stream",
          "text": [
            "True\n"
          ],
          "name": "stdout"
        }
      ]
    },
    {
      "cell_type": "code",
      "metadata": {
        "id": "kvY7QbolW8_J",
        "colab_type": "code",
        "colab": {
          "base_uri": "https://localhost:8080/",
          "height": 116
        },
        "outputId": "4ff072b1-2f55-497a-e778-bb179b33b883"
      },
      "source": [
        "from textblob import TextBlob\n",
        "# Sample of using TextBlob sentiment\n",
        "print (TextBlob(\"This food is good\").polarity)\n",
        "print (TextBlob(\"This food is bad\").polarity)\n",
        "print (TextBlob(\"This food is very good\").polarity)\n",
        "print (TextBlob(\"This food is very bad\").polarity)\n",
        "print (TextBlob(\"This food is not very good\").polarity)\n",
        "print (TextBlob(\"This food is very not good\").polarity)"
      ],
      "execution_count": 117,
      "outputs": [
        {
          "output_type": "stream",
          "text": [
            "0.7\n",
            "-0.6999999999999998\n",
            "0.9099999999999999\n",
            "-0.9099999999999998\n",
            "-0.26923076923076916\n",
            "-0.07499999999999998\n"
          ],
          "name": "stdout"
        }
      ]
    },
    {
      "cell_type": "code",
      "metadata": {
        "id": "Pox1YMizXELb",
        "colab_type": "code",
        "colab": {
          "base_uri": "https://localhost:8080/",
          "height": 33
        },
        "outputId": "32458f8f-98a6-4aa4-84df-e0f2603dca9e"
      },
      "source": [
        "type(tweets_data['English'])"
      ],
      "execution_count": 118,
      "outputs": [
        {
          "output_type": "execute_result",
          "data": {
            "text/plain": [
              "pandas.core.series.Series"
            ]
          },
          "metadata": {
            "tags": []
          },
          "execution_count": 118
        }
      ]
    },
    {
      "cell_type": "code",
      "metadata": {
        "id": "XtmmQ0JBXI1s",
        "colab_type": "code",
        "colab": {}
      },
      "source": [
        "# Importing TextBlob from textblob to find polarity\n",
        "from textblob import TextBlob\n",
        "\n",
        "def find_polarity(tweet):\n",
        "    try:\n",
        "        textblob_tweet = TextBlob(tweet)\n",
        "        return textblob_tweet.polarity\n",
        "    except:\n",
        "        pass\n",
        "    \n",
        "def find_subjectivity(tweet):\n",
        "    try:\n",
        "        textblob_tweet = TextBlob(tweet)\n",
        "        return textblob_tweet.subjectivity\n",
        "    except:\n",
        "        pass"
      ],
      "execution_count": 0,
      "outputs": []
    },
    {
      "cell_type": "code",
      "metadata": {
        "id": "pxWytA2nXLfd",
        "colab_type": "code",
        "colab": {
          "base_uri": "https://localhost:8080/",
          "height": 197
        },
        "outputId": "b17223af-b0ce-4632-9d7d-516c32a6a84b"
      },
      "source": [
        "# Applying textblob to each tweets text\n",
        "tweets_data['polarity'] = tweets_data['English'].apply(lambda tweet:find_polarity(tweet))\n",
        "tweets_data['subjectivity'] = tweets_data['English'].apply(lambda tweet:find_subjectivity(tweet))\n",
        "tweets_data.head()"
      ],
      "execution_count": 120,
      "outputs": [
        {
          "output_type": "execute_result",
          "data": {
            "text/html": [
              "<div>\n",
              "<style scoped>\n",
              "    .dataframe tbody tr th:only-of-type {\n",
              "        vertical-align: middle;\n",
              "    }\n",
              "\n",
              "    .dataframe tbody tr th {\n",
              "        vertical-align: top;\n",
              "    }\n",
              "\n",
              "    .dataframe thead th {\n",
              "        text-align: right;\n",
              "    }\n",
              "</style>\n",
              "<table border=\"1\" class=\"dataframe\">\n",
              "  <thead>\n",
              "    <tr style=\"text-align: right;\">\n",
              "      <th></th>\n",
              "      <th>text</th>\n",
              "      <th>English</th>\n",
              "      <th>polarity</th>\n",
              "      <th>subjectivity</th>\n",
              "    </tr>\n",
              "  </thead>\n",
              "  <tbody>\n",
              "    <tr>\n",
              "      <th>0</th>\n",
              "      <td>gsxr</td>\n",
              "      <td>gsxr</td>\n",
              "      <td>0.000000</td>\n",
              "      <td>0.000000</td>\n",
              "    </tr>\n",
              "    <tr>\n",
              "      <th>1</th>\n",
              "      <td>daihatsu sirion kuisdaihatsu daihatsusahabatku...</td>\n",
              "      <td>Daihatsu Sirion kuisdaihatsu daihatsusahabatku...</td>\n",
              "      <td>0.000000</td>\n",
              "      <td>0.000000</td>\n",
              "    </tr>\n",
              "    <tr>\n",
              "      <th>2</th>\n",
              "      <td>Satria Suzukiquiz Kuy followup Gaes at Suzuki ...</td>\n",
              "      <td>Satria Suzukiquiz Kuy followup gaes at Suzuki ...</td>\n",
              "      <td>0.000000</td>\n",
              "      <td>0.000000</td>\n",
              "    </tr>\n",
              "    <tr>\n",
              "      <th>3</th>\n",
              "      <td>satria suzukiquiz berjalan ke atas rotan liat ...</td>\n",
              "      <td>knight suzukiquiz walk up to dry his underwate...</td>\n",
              "      <td>0.255556</td>\n",
              "      <td>0.677778</td>\n",
              "    </tr>\n",
              "    <tr>\n",
              "      <th>4</th>\n",
              "      <td>satria suzuqiquiz satria armanih</td>\n",
              "      <td>suzuqiquiz noble knight armanih</td>\n",
              "      <td>0.600000</td>\n",
              "      <td>0.900000</td>\n",
              "    </tr>\n",
              "  </tbody>\n",
              "</table>\n",
              "</div>"
            ],
            "text/plain": [
              "                                                text  ... subjectivity\n",
              "0                                               gsxr  ...     0.000000\n",
              "1  daihatsu sirion kuisdaihatsu daihatsusahabatku...  ...     0.000000\n",
              "2  Satria Suzukiquiz Kuy followup Gaes at Suzuki ...  ...     0.000000\n",
              "3  satria suzukiquiz berjalan ke atas rotan liat ...  ...     0.677778\n",
              "4                   satria suzuqiquiz satria armanih  ...     0.900000\n",
              "\n",
              "[5 rows x 4 columns]"
            ]
          },
          "metadata": {
            "tags": []
          },
          "execution_count": 120
        }
      ]
    },
    {
      "cell_type": "code",
      "metadata": {
        "id": "iFzaWJefXgil",
        "colab_type": "code",
        "colab": {
          "base_uri": "https://localhost:8080/",
          "height": 197
        },
        "outputId": "38342a3a-7440-4a3c-d7c6-a86eceaf6f51"
      },
      "source": [
        "# Let's do a check on polarity texts\n",
        "tweets_data.sort_values('polarity',ascending=True).head()"
      ],
      "execution_count": 121,
      "outputs": [
        {
          "output_type": "execute_result",
          "data": {
            "text/html": [
              "<div>\n",
              "<style scoped>\n",
              "    .dataframe tbody tr th:only-of-type {\n",
              "        vertical-align: middle;\n",
              "    }\n",
              "\n",
              "    .dataframe tbody tr th {\n",
              "        vertical-align: top;\n",
              "    }\n",
              "\n",
              "    .dataframe thead th {\n",
              "        text-align: right;\n",
              "    }\n",
              "</style>\n",
              "<table border=\"1\" class=\"dataframe\">\n",
              "  <thead>\n",
              "    <tr style=\"text-align: right;\">\n",
              "      <th></th>\n",
              "      <th>text</th>\n",
              "      <th>English</th>\n",
              "      <th>polarity</th>\n",
              "      <th>subjectivity</th>\n",
              "    </tr>\n",
              "  </thead>\n",
              "  <tbody>\n",
              "    <tr>\n",
              "      <th>9472</th>\n",
              "      <td>pickup was very worst</td>\n",
              "      <td>pickup was very worst</td>\n",
              "      <td>-1.0</td>\n",
              "      <td>1.0</td>\n",
              "    </tr>\n",
              "    <tr>\n",
              "      <th>4186</th>\n",
              "      <td>booking fee cuman juta masa gila</td>\n",
              "      <td>booking fee cuman million times insane</td>\n",
              "      <td>-1.0</td>\n",
              "      <td>1.0</td>\n",
              "    </tr>\n",
              "    <tr>\n",
              "      <th>11619</th>\n",
              "      <td>semoga segera punya mobil impian sprti ini</td>\n",
              "      <td>hopefully soon have this bleak dream car</td>\n",
              "      <td>-1.0</td>\n",
              "      <td>1.0</td>\n",
              "    </tr>\n",
              "    <tr>\n",
              "      <th>3417</th>\n",
              "      <td>any car but not maruti suzuki india they are w...</td>\n",
              "      <td>any car but not maruti suzuki india worst qual...</td>\n",
              "      <td>-1.0</td>\n",
              "      <td>1.0</td>\n",
              "    </tr>\n",
              "    <tr>\n",
              "      <th>7657</th>\n",
              "      <td>leftover roundabout hero clips those sliders a...</td>\n",
              "      <td>Reviews those leftover clips roundabout hero s...</td>\n",
              "      <td>-1.0</td>\n",
              "      <td>1.0</td>\n",
              "    </tr>\n",
              "  </tbody>\n",
              "</table>\n",
              "</div>"
            ],
            "text/plain": [
              "                                                    text  ... subjectivity\n",
              "9472                               pickup was very worst  ...          1.0\n",
              "4186                    booking fee cuman juta masa gila  ...          1.0\n",
              "11619         semoga segera punya mobil impian sprti ini  ...          1.0\n",
              "3417   any car but not maruti suzuki india they are w...  ...          1.0\n",
              "7657   leftover roundabout hero clips those sliders a...  ...          1.0\n",
              "\n",
              "[5 rows x 4 columns]"
            ]
          },
          "metadata": {
            "tags": []
          },
          "execution_count": 121
        }
      ]
    },
    {
      "cell_type": "code",
      "metadata": {
        "id": "GYbiXvtIXooG",
        "colab_type": "code",
        "colab": {
          "base_uri": "https://localhost:8080/",
          "height": 281
        },
        "outputId": "444ef596-69e4-4213-ef3c-6d7274460d49"
      },
      "source": [
        "tweets_data.polarity.hist()"
      ],
      "execution_count": 122,
      "outputs": [
        {
          "output_type": "execute_result",
          "data": {
            "text/plain": [
              "<matplotlib.axes._subplots.AxesSubplot at 0x7fc6eb64e9b0>"
            ]
          },
          "metadata": {
            "tags": []
          },
          "execution_count": 122
        },
        {
          "output_type": "display_data",
          "data": {
            "image/png": "[encoded data removed]",
            "text/plain": [
              "<Figure size 432x288 with 1 Axes>"
            ]
          },
          "metadata": {
            "tags": [],
            "image/png": {
              "width": 381,
              "height": 248
            }
          }
        }
      ]
    },
    {
      "cell_type": "code",
      "metadata": {
        "id": "0EOODSYlXuBU",
        "colab_type": "code",
        "colab": {
          "base_uri": "https://localhost:8080/",
          "height": 281
        },
        "outputId": "4095aac8-5b9e-4aad-b770-78942f9d71aa"
      },
      "source": [
        "tweets_data.subjectivity.hist()"
      ],
      "execution_count": 123,
      "outputs": [
        {
          "output_type": "execute_result",
          "data": {
            "text/plain": [
              "<matplotlib.axes._subplots.AxesSubplot at 0x7fc74863a198>"
            ]
          },
          "metadata": {
            "tags": []
          },
          "execution_count": 123
        },
        {
          "output_type": "display_data",
          "data": {
            "image/png": "[encoded data removed]",
            "text/plain": [
              "<Figure size 432x288 with 1 Axes>"
            ]
          },
          "metadata": {
            "tags": [],
            "image/png": {
              "width": 381,
              "height": 248
            }
          }
        }
      ]
    },
    {
      "cell_type": "code",
      "metadata": {
        "id": "KAUaJTzKXxpZ",
        "colab_type": "code",
        "colab": {}
      },
      "source": [
        "# Determining if they a comment is satisfied or not satisfied (split by range)\n",
        "tweets_data['polaritytext'] =  pd.cut(tweets_data.polarity, 3,labels=[\"unhappy\",\"neutral\",\"happy\"])\n",
        "tweets_data['subjectivitytext'] =  pd.cut(tweets_data.subjectivity, 2,labels=[\"meaningful\",\"subjective\"])"
      ],
      "execution_count": 0,
      "outputs": []
    },
    {
      "cell_type": "code",
      "metadata": {
        "id": "DkVsQLObX_af",
        "colab_type": "code",
        "colab": {
          "base_uri": "https://localhost:8080/",
          "height": 247
        },
        "outputId": "f4951075-d402-404c-b450-ef621c007234"
      },
      "source": [
        "# Let's do a check on polarity texts\n",
        "tweets_data.sort_values('polaritytext',ascending=False).head()"
      ],
      "execution_count": 126,
      "outputs": [
        {
          "output_type": "execute_result",
          "data": {
            "text/html": [
              "<div>\n",
              "<style scoped>\n",
              "    .dataframe tbody tr th:only-of-type {\n",
              "        vertical-align: middle;\n",
              "    }\n",
              "\n",
              "    .dataframe tbody tr th {\n",
              "        vertical-align: top;\n",
              "    }\n",
              "\n",
              "    .dataframe thead th {\n",
              "        text-align: right;\n",
              "    }\n",
              "</style>\n",
              "<table border=\"1\" class=\"dataframe\">\n",
              "  <thead>\n",
              "    <tr style=\"text-align: right;\">\n",
              "      <th></th>\n",
              "      <th>text</th>\n",
              "      <th>English</th>\n",
              "      <th>polarity</th>\n",
              "      <th>subjectivity</th>\n",
              "      <th>polaritytext</th>\n",
              "      <th>subjectivitytext</th>\n",
              "    </tr>\n",
              "  </thead>\n",
              "  <tbody>\n",
              "    <tr>\n",
              "      <th>6735</th>\n",
              "      <td>jawaban nya satria suzukiquiz deis eka fara mu...</td>\n",
              "      <td>Her answer noble suzukiquiz deist fara eka mut...</td>\n",
              "      <td>0.600</td>\n",
              "      <td>0.900</td>\n",
              "      <td>happy</td>\n",
              "      <td>subjective</td>\n",
              "    </tr>\n",
              "    <tr>\n",
              "      <th>10939</th>\n",
              "      <td>satria suzukiquiz mss bean boby rani cool rani...</td>\n",
              "      <td>mss suzukiquiz noble bean boby rani rani Agast...</td>\n",
              "      <td>0.475</td>\n",
              "      <td>0.775</td>\n",
              "      <td>happy</td>\n",
              "      <td>subjective</td>\n",
              "    </tr>\n",
              "    <tr>\n",
              "      <th>10949</th>\n",
              "      <td>satria nugroho r suzukiquiz</td>\n",
              "      <td>nugroho noble r suzukiquiz</td>\n",
              "      <td>0.600</td>\n",
              "      <td>0.900</td>\n",
              "      <td>happy</td>\n",
              "      <td>subjective</td>\n",
              "    </tr>\n",
              "    <tr>\n",
              "      <th>10947</th>\n",
              "      <td>satria suzuqiquiz satria yuk ikutan yaddi july...</td>\n",
              "      <td>suzuqiquiz noble knight yuk follow yaddi julyo...</td>\n",
              "      <td>0.650</td>\n",
              "      <td>0.750</td>\n",
              "      <td>happy</td>\n",
              "      <td>subjective</td>\n",
              "    </tr>\n",
              "    <tr>\n",
              "      <th>10946</th>\n",
              "      <td>satria suzukiquiz suzukiindonesiamotor nyalaks...</td>\n",
              "      <td>suzukiquiz noble suzukiindonesiamotor nyalaksn...</td>\n",
              "      <td>0.600</td>\n",
              "      <td>0.900</td>\n",
              "      <td>happy</td>\n",
              "      <td>subjective</td>\n",
              "    </tr>\n",
              "  </tbody>\n",
              "</table>\n",
              "</div>"
            ],
            "text/plain": [
              "                                                    text  ... subjectivitytext\n",
              "6735   jawaban nya satria suzukiquiz deis eka fara mu...  ...       subjective\n",
              "10939  satria suzukiquiz mss bean boby rani cool rani...  ...       subjective\n",
              "10949                        satria nugroho r suzukiquiz  ...       subjective\n",
              "10947  satria suzuqiquiz satria yuk ikutan yaddi july...  ...       subjective\n",
              "10946  satria suzukiquiz suzukiindonesiamotor nyalaks...  ...       subjective\n",
              "\n",
              "[5 rows x 6 columns]"
            ]
          },
          "metadata": {
            "tags": []
          },
          "execution_count": 126
        }
      ]
    },
    {
      "cell_type": "code",
      "metadata": {
        "id": "m8UPG-l_d-6l",
        "colab_type": "code",
        "colab": {
          "base_uri": "https://localhost:8080/",
          "height": 287
        },
        "outputId": "564e33a4-2801-4f76-ebbb-70322ebf7f0c"
      },
      "source": [
        "#Summary of the dataset\n",
        "tweets_data.describe()"
      ],
      "execution_count": 127,
      "outputs": [
        {
          "output_type": "execute_result",
          "data": {
            "text/html": [
              "<div>\n",
              "<style scoped>\n",
              "    .dataframe tbody tr th:only-of-type {\n",
              "        vertical-align: middle;\n",
              "    }\n",
              "\n",
              "    .dataframe tbody tr th {\n",
              "        vertical-align: top;\n",
              "    }\n",
              "\n",
              "    .dataframe thead th {\n",
              "        text-align: right;\n",
              "    }\n",
              "</style>\n",
              "<table border=\"1\" class=\"dataframe\">\n",
              "  <thead>\n",
              "    <tr style=\"text-align: right;\">\n",
              "      <th></th>\n",
              "      <th>polarity</th>\n",
              "      <th>subjectivity</th>\n",
              "    </tr>\n",
              "  </thead>\n",
              "  <tbody>\n",
              "    <tr>\n",
              "      <th>count</th>\n",
              "      <td>10666.000000</td>\n",
              "      <td>10666.000000</td>\n",
              "    </tr>\n",
              "    <tr>\n",
              "      <th>mean</th>\n",
              "      <td>0.118122</td>\n",
              "      <td>0.282577</td>\n",
              "    </tr>\n",
              "    <tr>\n",
              "      <th>std</th>\n",
              "      <td>0.233794</td>\n",
              "      <td>0.326555</td>\n",
              "    </tr>\n",
              "    <tr>\n",
              "      <th>min</th>\n",
              "      <td>-1.000000</td>\n",
              "      <td>0.000000</td>\n",
              "    </tr>\n",
              "    <tr>\n",
              "      <th>25%</th>\n",
              "      <td>0.000000</td>\n",
              "      <td>0.000000</td>\n",
              "    </tr>\n",
              "    <tr>\n",
              "      <th>50%</th>\n",
              "      <td>0.000000</td>\n",
              "      <td>0.066667</td>\n",
              "    </tr>\n",
              "    <tr>\n",
              "      <th>75%</th>\n",
              "      <td>0.225000</td>\n",
              "      <td>0.533333</td>\n",
              "    </tr>\n",
              "    <tr>\n",
              "      <th>max</th>\n",
              "      <td>1.000000</td>\n",
              "      <td>1.000000</td>\n",
              "    </tr>\n",
              "  </tbody>\n",
              "</table>\n",
              "</div>"
            ],
            "text/plain": [
              "           polarity  subjectivity\n",
              "count  10666.000000  10666.000000\n",
              "mean       0.118122      0.282577\n",
              "std        0.233794      0.326555\n",
              "min       -1.000000      0.000000\n",
              "25%        0.000000      0.000000\n",
              "50%        0.000000      0.066667\n",
              "75%        0.225000      0.533333\n",
              "max        1.000000      1.000000"
            ]
          },
          "metadata": {
            "tags": []
          },
          "execution_count": 127
        }
      ]
    },
    {
      "cell_type": "code",
      "metadata": {
        "id": "2wAycip9eMsk",
        "colab_type": "code",
        "colab": {
          "base_uri": "https://localhost:8080/",
          "height": 83
        },
        "outputId": "c700fdb9-9fd7-41e7-a5bc-4b3b2592adab"
      },
      "source": [
        "tweets_data['polaritytext'].value_counts()"
      ],
      "execution_count": 128,
      "outputs": [
        {
          "output_type": "execute_result",
          "data": {
            "text/plain": [
              "neutral    8531\n",
              "happy      1953\n",
              "unhappy     182\n",
              "Name: polaritytext, dtype: int64"
            ]
          },
          "metadata": {
            "tags": []
          },
          "execution_count": 128
        }
      ]
    },
    {
      "cell_type": "code",
      "metadata": {
        "id": "2-yuwCx-i_fl",
        "colab_type": "code",
        "colab": {}
      },
      "source": [
        "#Load the libraries\n",
        "import numpy as np\n",
        "import pandas as pd\n",
        "import seaborn as sns\n",
        "import matplotlib.pyplot as plt\n",
        "import nltk\n",
        "from sklearn.feature_extraction.text import CountVectorizer\n",
        "from sklearn.feature_extraction.text import TfidfVectorizer\n",
        "from sklearn.preprocessing import LabelBinarizer\n",
        "from nltk.corpus import stopwords\n",
        "from nltk.stem.porter import PorterStemmer\n",
        "from wordcloud import WordCloud,STOPWORDS\n",
        "from nltk.stem import WordNetLemmatizer\n",
        "from nltk.tokenize import word_tokenize,sent_tokenize\n",
        "from bs4 import BeautifulSoup\n",
        "import spacy\n",
        "import re,string,unicodedata\n",
        "from nltk.tokenize.toktok import ToktokTokenizer\n",
        "from nltk.stem import LancasterStemmer,WordNetLemmatizer\n",
        "from sklearn.linear_model import LogisticRegression,SGDClassifier\n",
        "from sklearn.naive_bayes import MultinomialNB\n",
        "from sklearn.svm import SVC\n",
        "from textblob import TextBlob\n",
        "from textblob import Word\n",
        "from sklearn.metrics import classification_report,confusion_matrix,accuracy_score"
      ],
      "execution_count": 0,
      "outputs": []
    },
    {
      "cell_type": "markdown",
      "metadata": {
        "id": "PIWIZfCUemmh",
        "colab_type": "text"
      },
      "source": [
        "split the training dataset"
      ]
    },
    {
      "cell_type": "code",
      "metadata": {
        "id": "AXP-Dovteoxi",
        "colab_type": "code",
        "colab": {
          "base_uri": "https://localhost:8080/",
          "height": 50
        },
        "outputId": "744f09f3-9cab-481d-cc27-fc238a9d2961"
      },
      "source": [
        "train_reviews=tweets_data.English[:7466]\n",
        "train_sentiments=tweets_data.polaritytext[:7466]\n",
        "test_reviews=tweets_data.English[7466:]\n",
        "test_sentiments=tweets_data.polaritytext[7466:]\n",
        "print(train_reviews.shape,train_sentiments.shape)\n",
        "print(test_reviews.shape,test_sentiments.shape)"
      ],
      "execution_count": 130,
      "outputs": [
        {
          "output_type": "stream",
          "text": [
            "(7466,) (7466,)\n",
            "(3200,) (3200,)\n"
          ],
          "name": "stdout"
        }
      ]
    },
    {
      "cell_type": "code",
      "metadata": {
        "id": "Ro4gXbE4i5ln",
        "colab_type": "code",
        "colab": {}
      },
      "source": [
        "#Tokenization of text\n",
        "tokenizer=ToktokTokenizer()"
      ],
      "execution_count": 0,
      "outputs": []
    },
    {
      "cell_type": "code",
      "metadata": {
        "id": "r6UGToY0jF5U",
        "colab_type": "code",
        "colab": {}
      },
      "source": [
        "#Removing the html strips\n",
        "def strip_html(text):\n",
        "    soup = BeautifulSoup(text, \"html.parser\")\n",
        "    return soup.get_text()\n",
        "\n",
        "#Removing the square brackets\n",
        "def remove_between_square_brackets(text):\n",
        "    return re.sub('\\[[^]]*\\]', '', text)\n",
        "\n",
        "#Removing the noisy text\n",
        "def denoise_text(text):\n",
        "    text = strip_html(text)\n",
        "    text = remove_between_square_brackets(text)\n",
        "    return text\n",
        "#Apply function on review column\n",
        "tweets_data['English']=tweets_data['English'].apply(denoise_text)"
      ],
      "execution_count": 0,
      "outputs": []
    },
    {
      "cell_type": "code",
      "metadata": {
        "id": "QfMqXuQBjTb0",
        "colab_type": "code",
        "colab": {}
      },
      "source": [
        "#Define function for removing special characters\n",
        "def remove_special_characters(text, remove_digits=True):\n",
        "    pattern=r'[^a-zA-z0-9\\s]'\n",
        "    text=re.sub(pattern,'',text)\n",
        "    return text\n",
        "#Apply function on review column\n",
        "tweets_data['English']=tweets_data['English'].apply(remove_special_characters)"
      ],
      "execution_count": 0,
      "outputs": []
    },
    {
      "cell_type": "code",
      "metadata": {
        "id": "EG8GNZX4jYiu",
        "colab_type": "code",
        "colab": {}
      },
      "source": [
        "#Stemming the text\n",
        "def simple_stemmer(text):\n",
        "    ps=nltk.porter.PorterStemmer()\n",
        "    text= ' '.join([ps.stem(word) for word in text.split()])\n",
        "    return text\n",
        "#Apply function on review column\n",
        "tweets_data['English']=tweets_data['English'].apply(simple_stemmer)"
      ],
      "execution_count": 0,
      "outputs": []
    },
    {
      "cell_type": "code",
      "metadata": {
        "id": "hiXEToH3jk5R",
        "colab_type": "code",
        "colab": {
          "base_uri": "https://localhost:8080/",
          "height": 66
        },
        "outputId": "bbfab540-122a-4c66-fed2-027f900d615d"
      },
      "source": [
        "nltk.download('stopwords')"
      ],
      "execution_count": 135,
      "outputs": [
        {
          "output_type": "stream",
          "text": [
            "[nltk_data] Downloading package stopwords to /root/nltk_data...\n",
            "[nltk_data]   Package stopwords is already up-to-date!\n"
          ],
          "name": "stdout"
        },
        {
          "output_type": "execute_result",
          "data": {
            "text/plain": [
              "True"
            ]
          },
          "metadata": {
            "tags": []
          },
          "execution_count": 135
        }
      ]
    },
    {
      "cell_type": "code",
      "metadata": {
        "id": "rKFzqgMsjx1u",
        "colab_type": "code",
        "colab": {}
      },
      "source": [
        "stopword_list=nltk.corpus.stopwords.words('english')"
      ],
      "execution_count": 0,
      "outputs": []
    },
    {
      "cell_type": "code",
      "metadata": {
        "id": "fqVcSrdPjggH",
        "colab_type": "code",
        "colab": {
          "base_uri": "https://localhost:8080/",
          "height": 53
        },
        "outputId": "350974e3-5e40-46e2-b650-6d3d46cdfe61"
      },
      "source": [
        "#set stopwords to english\n",
        "stop=set(stopwords.words('english'))\n",
        "print(stop)\n",
        "\n",
        "#removing the stopwords\n",
        "def remove_stopwords(text, is_lower_case=False):\n",
        "    tokens = tokenizer.tokenize(text)\n",
        "    tokens = [token.strip() for token in tokens]\n",
        "    if is_lower_case:\n",
        "        filtered_tokens = [token for token in tokens if token not in stopword_list]\n",
        "    else:\n",
        "        filtered_tokens = [token for token in tokens if token.lower() not in stopword_list]\n",
        "    filtered_text = ' '.join(filtered_tokens)    \n",
        "    return filtered_text\n",
        "#Apply function on review column\n",
        "tweets_data['English']=tweets_data['English'].apply(remove_stopwords)"
      ],
      "execution_count": 137,
      "outputs": [
        {
          "output_type": "stream",
          "text": [
            "{'they', 'not', 'those', \"isn't\", 'her', 'do', 'then', \"you'd\", 'hasn', 'himself', 'same', 'needn', 'couldn', 'ma', 'a', 'because', 'been', 'had', 'having', 'some', 'just', 'didn', 'your', 'against', 'but', 's', 'hers', 'own', 'this', 'being', 'or', 'while', 'was', 'will', 'aren', 'hadn', 'most', \"hasn't\", 'and', 'yours', 'once', 'where', 'few', 'such', 'nor', \"couldn't\", 'very', 'out', \"she's\", \"wouldn't\", 'the', 'by', 'don', 'its', 'mightn', 'who', 'does', 'down', 'whom', 'ours', 'o', 'ain', 'in', 'more', 'if', 'through', 'why', 'she', 'after', 'below', 'them', \"mustn't\", \"shouldn't\", 'is', 'with', 'i', 'were', 'these', 'off', 'be', 'yourselves', \"don't\", 'too', 'until', 'did', 'now', 'herself', \"weren't\", 'itself', 'themselves', 'wouldn', 'are', 'of', 'y', 've', \"hadn't\", 'my', 'other', \"wasn't\", 'each', \"should've\", 'so', 'doing', 'myself', \"mightn't\", \"you're\", 'his', 'both', 'theirs', 'am', 'mustn', 'their', 'any', 'over', \"you'll\", 'doesn', 'll', 'him', \"it's\", 'it', \"you've\", 'under', 'there', 'have', 'all', 'above', 't', 'weren', 'about', 'can', 're', 'yourself', 'for', \"haven't\", \"aren't\", 'he', 'no', 'again', 'how', 'should', 'isn', \"shan't\", \"that'll\", 'further', 'shan', 'won', 'when', 'our', \"needn't\", 'during', 'haven', 'here', 'shouldn', 'm', 'ourselves', 'wasn', 'into', 'you', 'before', 'up', 'that', 'has', 'only', 'an', 'to', 'from', 'than', 'what', 'd', 'me', \"doesn't\", \"won't\", 'we', 'which', 'on', \"didn't\", 'as', 'between', 'at'}\n"
          ],
          "name": "stdout"
        }
      ]
    },
    {
      "cell_type": "code",
      "metadata": {
        "id": "BIeKF5wZj4-X",
        "colab_type": "code",
        "colab": {
          "base_uri": "https://localhost:8080/",
          "height": 33
        },
        "outputId": "d4cb3c88-1f22-4020-c2d1-672013ab73e4"
      },
      "source": [
        "norm_train_reviews=tweets_data.English[:7466]\n",
        "print(len(norm_train_reviews))"
      ],
      "execution_count": 138,
      "outputs": [
        {
          "output_type": "stream",
          "text": [
            "7466\n"
          ],
          "name": "stdout"
        }
      ]
    },
    {
      "cell_type": "code",
      "metadata": {
        "id": "C4-PwL1PkAJ4",
        "colab_type": "code",
        "colab": {
          "base_uri": "https://localhost:8080/",
          "height": 33
        },
        "outputId": "6c912756-6822-46bf-c1e7-f58d4ebca4d2"
      },
      "source": [
        "norm_test_reviews=tweets_data.English[7466:]\n",
        "print(len(norm_test_reviews))"
      ],
      "execution_count": 139,
      "outputs": [
        {
          "output_type": "stream",
          "text": [
            "3200\n"
          ],
          "name": "stdout"
        }
      ]
    },
    {
      "cell_type": "markdown",
      "metadata": {
        "id": "Rc83vTPrkbW1",
        "colab_type": "text"
      },
      "source": [
        "#Bag Of Word Model"
      ]
    },
    {
      "cell_type": "code",
      "metadata": {
        "id": "4oael5wFkXgl",
        "colab_type": "code",
        "colab": {
          "base_uri": "https://localhost:8080/",
          "height": 50
        },
        "outputId": "26fd398c-2ee8-452f-ea68-c07294335fc2"
      },
      "source": [
        "#Count vectorizer for bag of words\n",
        "cv=CountVectorizer(min_df=0,max_df=1,binary=False,ngram_range=(1,3))\n",
        "#transformed train reviews\n",
        "cv_train_reviews=cv.fit_transform(norm_train_reviews)\n",
        "#transformed test reviews\n",
        "cv_test_reviews=cv.transform(norm_test_reviews)\n",
        "\n",
        "print('BOW_cv_train:',cv_train_reviews.shape)\n",
        "print('BOW_cv_test:',cv_test_reviews.shape)\n",
        "#vocab=cv.get_feature_names()-toget feature names"
      ],
      "execution_count": 140,
      "outputs": [
        {
          "output_type": "stream",
          "text": [
            "BOW_cv_train: (7466, 117364)\n",
            "BOW_cv_test: (3200, 117364)\n"
          ],
          "name": "stdout"
        }
      ]
    },
    {
      "cell_type": "markdown",
      "metadata": {
        "id": "SO-qMv28kglp",
        "colab_type": "text"
      },
      "source": [
        "#Term Frequency-Inverse Document Frequency model (TFIDF)"
      ]
    },
    {
      "cell_type": "code",
      "metadata": {
        "id": "qUs6z6Q7kh-k",
        "colab_type": "code",
        "colab": {
          "base_uri": "https://localhost:8080/",
          "height": 50
        },
        "outputId": "e7a30ed8-6b19-4ab9-c44d-f1da43c1f988"
      },
      "source": [
        "#Tfidf vectorizer\n",
        "tv=TfidfVectorizer(min_df=0,max_df=1,use_idf=True,ngram_range=(1,3))\n",
        "#transformed train reviews\n",
        "tv_train_reviews=tv.fit_transform(norm_train_reviews)\n",
        "#transformed test reviews\n",
        "tv_test_reviews=tv.transform(norm_test_reviews)\n",
        "print('Tfidf_train:',tv_train_reviews.shape)\n",
        "print('Tfidf_test:',tv_test_reviews.shape)"
      ],
      "execution_count": 141,
      "outputs": [
        {
          "output_type": "stream",
          "text": [
            "Tfidf_train: (7466, 117364)\n",
            "Tfidf_test: (3200, 117364)\n"
          ],
          "name": "stdout"
        }
      ]
    },
    {
      "cell_type": "markdown",
      "metadata": {
        "id": "-unbE4tqkpF2",
        "colab_type": "text"
      },
      "source": [
        "#Labeling the sentiment text"
      ]
    },
    {
      "cell_type": "code",
      "metadata": {
        "id": "WI7gOEcYknXF",
        "colab_type": "code",
        "colab": {}
      },
      "source": [
        "#labeling the sentient data\n",
        "lb=LabelBinarizer()\n",
        "#transformed sentiment data\n",
        "sentiment_data=lb.fit_transform(tweets_data['polaritytext'])"
      ],
      "execution_count": 0,
      "outputs": []
    },
    {
      "cell_type": "code",
      "metadata": {
        "id": "AdrLOz08kzas",
        "colab_type": "code",
        "colab": {
          "base_uri": "https://localhost:8080/",
          "height": 50
        },
        "outputId": "de47c598-2369-4393-c8ac-bdec96233b2e"
      },
      "source": [
        "print(len(train_sentiments))\n",
        "print(len(test_sentiments))"
      ],
      "execution_count": 143,
      "outputs": [
        {
          "output_type": "stream",
          "text": [
            "7466\n",
            "3200\n"
          ],
          "name": "stdout"
        }
      ]
    },
    {
      "cell_type": "markdown",
      "metadata": {
        "id": "drnziVcAoK25",
        "colab_type": "text"
      },
      "source": [
        "#Logistic Regression"
      ]
    },
    {
      "cell_type": "code",
      "metadata": {
        "id": "ysJJHny8oNk_",
        "colab_type": "code",
        "colab": {
          "base_uri": "https://localhost:8080/",
          "height": 183
        },
        "outputId": "fc9fc933-2e7d-4c10-d557-0c6c1c165c29"
      },
      "source": [
        "#training the model\n",
        "lr=LogisticRegression(penalty='l2',max_iter=500,C=1,random_state=42)\n",
        "#Fitting the model for Bag of words\n",
        "lr_bow=lr.fit(cv_train_reviews,train_sentiments)\n",
        "print(lr_bow)\n",
        "#Fitting the model for tfidf features\n",
        "lr_tfidf=lr.fit(tv_train_reviews,train_sentiments)\n",
        "print(lr_tfidf)"
      ],
      "execution_count": 145,
      "outputs": [
        {
          "output_type": "stream",
          "text": [
            "LogisticRegression(C=1, class_weight=None, dual=False, fit_intercept=True,\n",
            "                   intercept_scaling=1, l1_ratio=None, max_iter=500,\n",
            "                   multi_class='auto', n_jobs=None, penalty='l2',\n",
            "                   random_state=42, solver='lbfgs', tol=0.0001, verbose=0,\n",
            "                   warm_start=False)\n",
            "LogisticRegression(C=1, class_weight=None, dual=False, fit_intercept=True,\n",
            "                   intercept_scaling=1, l1_ratio=None, max_iter=500,\n",
            "                   multi_class='auto', n_jobs=None, penalty='l2',\n",
            "                   random_state=42, solver='lbfgs', tol=0.0001, verbose=0,\n",
            "                   warm_start=False)\n"
          ],
          "name": "stdout"
        }
      ]
    },
    {
      "cell_type": "code",
      "metadata": {
        "id": "T_6k_uu7oSL6",
        "colab_type": "code",
        "colab": {
          "base_uri": "https://localhost:8080/",
          "height": 50
        },
        "outputId": "07152b42-a1da-4bf0-b595-58ca7aac9611"
      },
      "source": [
        "#Predicting the model for bag of words\n",
        "lr_bow_predict=lr.predict(cv_test_reviews)\n",
        "print(lr_bow_predict)\n",
        "##Predicting the model for tfidf features\n",
        "lr_tfidf_predict=lr.predict(tv_test_reviews)\n",
        "print(lr_tfidf_predict)"
      ],
      "execution_count": 146,
      "outputs": [
        {
          "output_type": "stream",
          "text": [
            "['neutral' 'neutral' 'neutral' ... 'neutral' 'neutral' 'neutral']\n",
            "['neutral' 'neutral' 'neutral' ... 'neutral' 'neutral' 'neutral']\n"
          ],
          "name": "stdout"
        }
      ]
    },
    {
      "cell_type": "code",
      "metadata": {
        "id": "hyvCAOASoVFG",
        "colab_type": "code",
        "colab": {
          "base_uri": "https://localhost:8080/",
          "height": 50
        },
        "outputId": "822d2f9d-a082-4eae-d49a-3609cd7f296f"
      },
      "source": [
        "#Accuracy score for bag of words\n",
        "lr_bow_score=accuracy_score(test_sentiments,lr_bow_predict)\n",
        "print(\"lr_bow_score :\",lr_bow_score)\n",
        "#Accuracy score for tfidf features\n",
        "lr_tfidf_score=accuracy_score(test_sentiments,lr_tfidf_predict)\n",
        "print(\"lr_tfidf_score :\",lr_tfidf_score)"
      ],
      "execution_count": 147,
      "outputs": [
        {
          "output_type": "stream",
          "text": [
            "lr_bow_score : 0.758125\n",
            "lr_tfidf_score : 0.75125\n"
          ],
          "name": "stdout"
        }
      ]
    },
    {
      "cell_type": "markdown",
      "metadata": {
        "id": "o7Mqnr7noioa",
        "colab_type": "text"
      },
      "source": [
        "#Stochastic gradient descent or Linear support vector machines (SVM) for bag of words and tfidf features"
      ]
    },
    {
      "cell_type": "code",
      "metadata": {
        "id": "3rE4UkEJoets",
        "colab_type": "code",
        "colab": {
          "base_uri": "https://localhost:8080/",
          "height": 216
        },
        "outputId": "97173625-f51d-4bd3-8139-6f06fd836c02"
      },
      "source": [
        "#training the linear svm\n",
        "svm=SGDClassifier(loss='hinge',max_iter=500,random_state=42)\n",
        "#fitting the svm for bag of words\n",
        "svm_bow=svm.fit(cv_train_reviews,train_sentiments)\n",
        "print(svm_bow)\n",
        "#fitting the svm for tfidf features\n",
        "svm_tfidf=svm.fit(tv_train_reviews,train_sentiments)\n",
        "print(svm_tfidf)"
      ],
      "execution_count": 148,
      "outputs": [
        {
          "output_type": "stream",
          "text": [
            "SGDClassifier(alpha=0.0001, average=False, class_weight=None,\n",
            "              early_stopping=False, epsilon=0.1, eta0=0.0, fit_intercept=True,\n",
            "              l1_ratio=0.15, learning_rate='optimal', loss='hinge',\n",
            "              max_iter=500, n_iter_no_change=5, n_jobs=None, penalty='l2',\n",
            "              power_t=0.5, random_state=42, shuffle=True, tol=0.001,\n",
            "              validation_fraction=0.1, verbose=0, warm_start=False)\n",
            "SGDClassifier(alpha=0.0001, average=False, class_weight=None,\n",
            "              early_stopping=False, epsilon=0.1, eta0=0.0, fit_intercept=True,\n",
            "              l1_ratio=0.15, learning_rate='optimal', loss='hinge',\n",
            "              max_iter=500, n_iter_no_change=5, n_jobs=None, penalty='l2',\n",
            "              power_t=0.5, random_state=42, shuffle=True, tol=0.001,\n",
            "              validation_fraction=0.1, verbose=0, warm_start=False)\n"
          ],
          "name": "stdout"
        }
      ]
    },
    {
      "cell_type": "code",
      "metadata": {
        "id": "O4bkvTtSw1Z5",
        "colab_type": "code",
        "colab": {
          "base_uri": "https://localhost:8080/",
          "height": 50
        },
        "outputId": "5ad533ec-33ba-468a-df61-c5f5cbdf4b03"
      },
      "source": [
        "#Predicting the model for bag of words\n",
        "svm_bow_predict=svm.predict(cv_test_reviews)\n",
        "print(svm_bow_predict)\n",
        "#Predicting the model for tfidf features\n",
        "svm_tfidf_predict=svm.predict(tv_test_reviews)\n",
        "print(svm_tfidf_predict)"
      ],
      "execution_count": 149,
      "outputs": [
        {
          "output_type": "stream",
          "text": [
            "['neutral' 'neutral' 'neutral' ... 'neutral' 'neutral' 'neutral']\n",
            "['neutral' 'neutral' 'neutral' ... 'neutral' 'neutral' 'neutral']\n"
          ],
          "name": "stdout"
        }
      ]
    },
    {
      "cell_type": "code",
      "metadata": {
        "id": "qnMu-pb-ovAV",
        "colab_type": "code",
        "colab": {
          "base_uri": "https://localhost:8080/",
          "height": 50
        },
        "outputId": "b0cdca57-caff-44a7-a5d0-fc355cd84eac"
      },
      "source": [
        "#Accuracy score for bag of words\n",
        "svm_bow_score=accuracy_score(test_sentiments,svm_bow_predict)\n",
        "print(\"svm_bow_score :\",svm_bow_score)\n",
        "#Accuracy score for tfidf features\n",
        "svm_tfidf_score=accuracy_score(test_sentiments,svm_tfidf_predict)\n",
        "print(\"svm_tfidf_score :\",svm_tfidf_score)"
      ],
      "execution_count": 150,
      "outputs": [
        {
          "output_type": "stream",
          "text": [
            "svm_bow_score : 0.7575\n",
            "svm_tfidf_score : 0.7584375\n"
          ],
          "name": "stdout"
        }
      ]
    },
    {
      "cell_type": "markdown",
      "metadata": {
        "id": "3R44RmmBo3Ef",
        "colab_type": "text"
      },
      "source": [
        "#Multinomial Naive Bayes for bag of words and tfidf features"
      ]
    },
    {
      "cell_type": "code",
      "metadata": {
        "id": "P1DiRP-Go2tN",
        "colab_type": "code",
        "colab": {
          "base_uri": "https://localhost:8080/",
          "height": 50
        },
        "outputId": "30efbc23-1be7-497f-f8b2-7e0d44ba73d7"
      },
      "source": [
        "#training the model\n",
        "mnb=MultinomialNB()\n",
        "#fitting the svm for bag of words\n",
        "mnb_bow=mnb.fit(cv_train_reviews,train_sentiments)\n",
        "print(mnb_bow)\n",
        "#fitting the svm for tfidf features\n",
        "mnb_tfidf=mnb.fit(tv_train_reviews,train_sentiments)\n",
        "print(mnb_tfidf)"
      ],
      "execution_count": 151,
      "outputs": [
        {
          "output_type": "stream",
          "text": [
            "MultinomialNB(alpha=1.0, class_prior=None, fit_prior=True)\n",
            "MultinomialNB(alpha=1.0, class_prior=None, fit_prior=True)\n"
          ],
          "name": "stdout"
        }
      ]
    },
    {
      "cell_type": "code",
      "metadata": {
        "id": "L1grlvLLo_3Q",
        "colab_type": "code",
        "colab": {
          "base_uri": "https://localhost:8080/",
          "height": 50
        },
        "outputId": "4e160bea-fcb4-44bb-8e37-f84fdac115be"
      },
      "source": [
        "#Predicting the model for bag of words\n",
        "mnb_bow_predict=mnb.predict(cv_test_reviews)\n",
        "print(mnb_bow_predict)\n",
        "#Predicting the model for tfidf features\n",
        "mnb_tfidf_predict=mnb.predict(tv_test_reviews)\n",
        "print(mnb_tfidf_predict)"
      ],
      "execution_count": 152,
      "outputs": [
        {
          "output_type": "stream",
          "text": [
            "['neutral' 'neutral' 'neutral' ... 'neutral' 'neutral' 'neutral']\n",
            "['neutral' 'neutral' 'neutral' ... 'neutral' 'neutral' 'neutral']\n"
          ],
          "name": "stdout"
        }
      ]
    },
    {
      "cell_type": "code",
      "metadata": {
        "id": "U6-zoinwo80t",
        "colab_type": "code",
        "colab": {
          "base_uri": "https://localhost:8080/",
          "height": 50
        },
        "outputId": "7235a2c2-b327-49cb-af7e-17e2fb58ebb0"
      },
      "source": [
        "#Accuracy score for bag of words\n",
        "mnb_bow_score=accuracy_score(test_sentiments,mnb_bow_predict)\n",
        "print(\"mnb_bow_score :\",mnb_bow_score)\n",
        "#Accuracy score for tfidf features\n",
        "mnb_tfidf_score=accuracy_score(test_sentiments,mnb_tfidf_predict)\n",
        "print(\"mnb_tfidf_score :\",mnb_tfidf_score)"
      ],
      "execution_count": 153,
      "outputs": [
        {
          "output_type": "stream",
          "text": [
            "mnb_bow_score : 0.756875\n",
            "mnb_tfidf_score : 0.7521875\n"
          ],
          "name": "stdout"
        }
      ]
    },
    {
      "cell_type": "code",
      "metadata": {
        "id": "eIWHqcmbba4S",
        "colab_type": "code",
        "colab": {}
      },
      "source": [
        "# tweets = pd.DataFrame(tweets_data)\n",
        "# tweets.to_csv('tweets_eda.csv', encoding = 'utf-8')"
      ],
      "execution_count": 0,
      "outputs": []
    },
    {
      "cell_type": "markdown",
      "metadata": {
        "id": "AQXqB9RoY1Ee",
        "colab_type": "text"
      },
      "source": [
        "#Topic Extraction"
      ]
    },
    {
      "cell_type": "code",
      "metadata": {
        "id": "P4RXNWktY4fu",
        "colab_type": "code",
        "colab": {
          "base_uri": "https://localhost:8080/",
          "height": 116
        },
        "outputId": "0965cba9-ac3a-463b-b82c-4accc086c49e"
      },
      "source": [
        "for word in ['(?i)RT','(?i)di','(?i)https','(?i)yg','(?i)yang','(?i)ta','(?i)pak','(?i)ibu','(?i)sya','(?i)saya',\n",
        "             '(?i)dan','(?i)ko','(?i)dari','(?i)kepada']:\n",
        "    tweets_data.text = tweets_data.text.str.replace(word,'',regex=True)\n",
        "tweets_data['text'].head()"
      ],
      "execution_count": 154,
      "outputs": [
        {
          "output_type": "execute_result",
          "data": {
            "text/plain": [
              "0                                                 gsxr\n",
              "1    daihatsu sirion kuisdaihatsu daihatsusahabatku...\n",
              "2    Satria Suzukiquiz Kuy followup Gaes at Suzuki ...\n",
              "3    satria suzukiquiz berjalan ke as ron liat bawa...\n",
              "4                     satria suzuqiquiz satria armanih\n",
              "Name: text, dtype: object"
            ]
          },
          "metadata": {
            "tags": []
          },
          "execution_count": 154
        }
      ]
    },
    {
      "cell_type": "code",
      "metadata": {
        "id": "vSPE9PmjZFBQ",
        "colab_type": "code",
        "colab": {
          "base_uri": "https://localhost:8080/",
          "height": 50
        },
        "outputId": "1f38a9c8-392c-4d6a-852a-74bedc44c4b2"
      },
      "source": [
        "# Importing necessary model values\n",
        "import numpy as np\n",
        "from sklearn.feature_extraction.text import CountVectorizer\n",
        "\n",
        "# Getting the X_train\n",
        "X_train = tweets_data.text\n",
        "# print(X_train.head())\n",
        "\n",
        "# tokenize and vectorize the words inside the list of documents/tweets\n",
        "vectorizer = CountVectorizer(stop_words='english')\n",
        "X_train_dtm = vectorizer.fit_transform(X_train)\n",
        "vocab = np.array(vectorizer.get_feature_names())\n",
        "\n",
        "print(X_train_dtm.shape)\n",
        "print(len(vocab))"
      ],
      "execution_count": 155,
      "outputs": [
        {
          "output_type": "stream",
          "text": [
            "(10666, 23700)\n",
            "23700\n"
          ],
          "name": "stdout"
        }
      ]
    },
    {
      "cell_type": "code",
      "metadata": {
        "id": "e4d5ZgrBZSQF",
        "colab_type": "code",
        "colab": {
          "base_uri": "https://localhost:8080/",
          "height": 33
        },
        "outputId": "d3c7f303-f741-46e2-9fb9-1b5cffed812b"
      },
      "source": [
        "X_train.size"
      ],
      "execution_count": 156,
      "outputs": [
        {
          "output_type": "execute_result",
          "data": {
            "text/plain": [
              "10666"
            ]
          },
          "metadata": {
            "tags": []
          },
          "execution_count": 156
        }
      ]
    },
    {
      "cell_type": "code",
      "metadata": {
        "id": "TzoLQZrDZYCj",
        "colab_type": "code",
        "colab": {
          "base_uri": "https://localhost:8080/",
          "height": 50
        },
        "outputId": "336ad247-4b90-4fb5-e6a8-7301b2ea94f8"
      },
      "source": [
        "# Using sklearn library to get the necessary LDA model\n",
        "from sklearn import decomposition\n",
        "\n",
        "num_topics = 8\n",
        "num_top_words = 8\n",
        "clf = decomposition.NMF(n_components=num_topics, random_state=1)\n",
        "\n",
        "# this next step may take some time to train depending on the texts you have\n",
        "doctopic = clf.fit_transform(X_train_dtm)\n",
        "print(doctopic.shape)\n",
        "print(clf.components_.shape)"
      ],
      "execution_count": 157,
      "outputs": [
        {
          "output_type": "stream",
          "text": [
            "(10666, 8)\n",
            "(8, 23700)\n"
          ],
          "name": "stdout"
        }
      ]
    },
    {
      "cell_type": "code",
      "metadata": {
        "id": "1R2Se309Zbue",
        "colab_type": "code",
        "colab": {
          "base_uri": "https://localhost:8080/",
          "height": 233
        },
        "outputId": "623ac80a-b517-43dc-8653-151dbcacfc35"
      },
      "source": [
        "clf.components_"
      ],
      "execution_count": 158,
      "outputs": [
        {
          "output_type": "execute_result",
          "data": {
            "text/plain": [
              "array([[0.00000000e+00, 4.28905365e-04, 0.00000000e+00, ...,\n",
              "        1.36046945e-07, 0.00000000e+00, 0.00000000e+00],\n",
              "       [9.27739206e-03, 0.00000000e+00, 0.00000000e+00, ...,\n",
              "        0.00000000e+00, 0.00000000e+00, 2.25015139e-05],\n",
              "       [5.07838239e-04, 0.00000000e+00, 0.00000000e+00, ...,\n",
              "        0.00000000e+00, 0.00000000e+00, 0.00000000e+00],\n",
              "       ...,\n",
              "       [1.00940549e-02, 1.10597997e-03, 0.00000000e+00, ...,\n",
              "        0.00000000e+00, 0.00000000e+00, 0.00000000e+00],\n",
              "       [5.41779434e-04, 0.00000000e+00, 0.00000000e+00, ...,\n",
              "        0.00000000e+00, 0.00000000e+00, 0.00000000e+00],\n",
              "       [2.74480138e-03, 0.00000000e+00, 5.69896815e-04, ...,\n",
              "        2.65818991e-07, 2.37296314e-04, 1.30843256e-04]])"
            ]
          },
          "metadata": {
            "tags": []
          },
          "execution_count": 158
        }
      ]
    },
    {
      "cell_type": "code",
      "metadata": {
        "id": "s1ijwAuFZedD",
        "colab_type": "code",
        "colab": {}
      },
      "source": [
        "# Getting the dominant topic for each word\n",
        "topic_words = []\n",
        "\n",
        "# Appending top important vocabset list onto topic_words list\n",
        "for topic in clf.components_:\n",
        "#     npargsort gets the index based on the order, [::-1] order it descending and finally num_top_words will filter it\n",
        "    word_idx = np.argsort(topic)[::-1][0:num_top_words]\n",
        "    topic_words.append([vocab[i] for i in word_idx])"
      ],
      "execution_count": 0,
      "outputs": []
    },
    {
      "cell_type": "code",
      "metadata": {
        "id": "BApkREi2ZliE",
        "colab_type": "code",
        "colab": {
          "base_uri": "https://localhost:8080/",
          "height": 183
        },
        "outputId": "b6b22951-f64f-40c5-9ee7-8867f25ce64a"
      },
      "source": [
        "import matplotlib.pyplot as plt\n",
        "\n",
        "# Making DataFrame that gets the doctopic (values of topics for each text)\n",
        "dftopic = pd.DataFrame(doctopic,columns=topic_words)\n",
        "dftopicinv=dftopic.T\n",
        "\n",
        "# Getting the dominant topic\n",
        "topic_series = []\n",
        "for i in np.arange(dftopic.shape[0]):\n",
        "    topic_series.append(dftopicinv[i].argmax())\n",
        "\n",
        "dftopic['dominanttopic'] = topic_series\n",
        "tweets_data['dominanttopic'] = topic_series\n",
        "\n",
        "print(dftopic.shape)\n",
        "print(tweets_data.shape)"
      ],
      "execution_count": 160,
      "outputs": [
        {
          "output_type": "stream",
          "text": [
            "/usr/local/lib/python3.6/dist-packages/ipykernel_launcher.py:10: FutureWarning: \n",
            "The current behaviour of 'Series.argmax' is deprecated, use 'idxmax'\n",
            "instead.\n",
            "The behavior of 'argmax' will be corrected to return the positional\n",
            "maximum in the future. For now, use 'series.values.argmax' or\n",
            "'np.argmax(np.array(values))' to get the position of the maximum\n",
            "row.\n",
            "  # Remove the CWD from sys.path while we load stuff.\n"
          ],
          "name": "stderr"
        },
        {
          "output_type": "stream",
          "text": [
            "(10666, 9)\n",
            "(10666, 7)\n"
          ],
          "name": "stdout"
        }
      ]
    },
    {
      "cell_type": "code",
      "metadata": {
        "id": "KKO5jT7DZxWu",
        "colab_type": "code",
        "colab": {
          "base_uri": "https://localhost:8080/",
          "height": 414
        },
        "outputId": "4e7c1ba6-bb0d-48fb-8d94-df1c2a1dc001"
      },
      "source": [
        "# Getting top dominant topics and count them\n",
        "topic_count =tweets_data.dominanttopic.value_counts()\n",
        "print(topic_count)\n",
        "\n",
        "# Visualizing dominant topics count\n",
        "\n",
        "#The pie chart is oval by default. To make it a circle use pyplot.axis(\"equal\")\n",
        "plt.axis(\"equal\") \n",
        "\n",
        "#To show the percentage of each pie slice, pass an output format to the autopctparameter \n",
        "plt.pie(topic_count.values,labels=topic_count.index,autopct=\"%1.1f%%\") \n",
        "plt.title(\"Topics most talked\")\n",
        "plt.show()"
      ],
      "execution_count": 161,
      "outputs": [
        {
          "output_type": "stream",
          "text": [
            "(covers, ams, repost, terbesar, suzuki, promo, brio, motor)            6788\n",
            "(mofied, unit, fff, jaya, suzukigsxr, ignis, jam, dengan)              1027\n",
            "(baleno, motor, cbr, yamaha, gsxr, suzuki, kami, ini)                   798\n",
            "(car, ninja, hondacbr, sakti, mofikasi, eiga, eiga, ada)                543\n",
            "(mofication, aris, ninja, maram, gsx, dp, anda, mobil)                  469\n",
            "(maruti, mesin, sunmori, terpercaya, indo, kret, driver, indonesia)     450\n",
            "(suzuki, ki, rr, terbaik, id, new, mobil, bisa)                         298\n",
            "(seat, spo, yamahar, mio, indonesia, jt, sewa, untuk)                   293\n",
            "Name: dominanttopic, dtype: int64\n"
          ],
          "name": "stdout"
        },
        {
          "output_type": "display_data",
          "data": {
            "image/png": "[encoded data removed]",
            "text/plain": [
              "<Figure size 432x288 with 1 Axes>"
            ]
          },
          "metadata": {
            "tags": [],
            "image/png": {
              "width": 851,
              "height": 247
            }
          }
        }
      ]
    }
  ]
}