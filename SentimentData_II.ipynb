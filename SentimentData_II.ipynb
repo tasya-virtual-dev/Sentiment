{
  "nbformat": 4,
  "nbformat_minor": 0,
  "metadata": {
    "colab": {
      "name": "SentimentData II.ipynb",
      "provenance": []
    },
    "kernelspec": {
      "name": "python3",
      "display_name": "Python 3"
    }
  },
  "cells": [
    {
      "cell_type": "code",
      "metadata": {
        "id": "43TDHe3nElVQ",
        "colab_type": "code",
        "colab": {}
      },
      "source": [
        "import pandas as pd"
      ],
      "execution_count": 0,
      "outputs": []
    },
    {
      "cell_type": "code",
      "metadata": {
        "id": "uVS6-pRXEnDc",
        "colab_type": "code",
        "colab": {}
      },
      "source": [
        "tweets_data = pd.read_csv('NoLimit-EN.csv')"
      ],
      "execution_count": 0,
      "outputs": []
    },
    {
      "cell_type": "code",
      "metadata": {
        "id": "u8G9Tmo0Evt-",
        "colab_type": "code",
        "colab": {
          "base_uri": "https://localhost:8080/",
          "height": 197
        },
        "outputId": "0240057f-8e19-4f24-a5c7-7bcf1d4f9498"
      },
      "source": [
        "tweets_data.head()"
      ],
      "execution_count": 10,
      "outputs": [
        {
          "output_type": "execute_result",
          "data": {
            "text/html": [
              "<div>\n",
              "<style scoped>\n",
              "    .dataframe tbody tr th:only-of-type {\n",
              "        vertical-align: middle;\n",
              "    }\n",
              "\n",
              "    .dataframe tbody tr th {\n",
              "        vertical-align: top;\n",
              "    }\n",
              "\n",
              "    .dataframe thead th {\n",
              "        text-align: right;\n",
              "    }\n",
              "</style>\n",
              "<table border=\"1\" class=\"dataframe\">\n",
              "  <thead>\n",
              "    <tr style=\"text-align: right;\">\n",
              "      <th></th>\n",
              "      <th>text</th>\n",
              "      <th>English</th>\n",
              "    </tr>\n",
              "  </thead>\n",
              "  <tbody>\n",
              "    <tr>\n",
              "      <th>0</th>\n",
              "      <td>gsxr</td>\n",
              "      <td>gsxr</td>\n",
              "    </tr>\n",
              "    <tr>\n",
              "      <th>1</th>\n",
              "      <td>daihatsu sirion kuisdaihatsu daihatsusahabatku...</td>\n",
              "      <td>Daihatsu Sirion kuisdaihatsu daihatsusahabatku...</td>\n",
              "    </tr>\n",
              "    <tr>\n",
              "      <th>2</th>\n",
              "      <td>Satria Suzukiquiz Kuy followup Gaes at Suzuki ...</td>\n",
              "      <td>Satria Suzukiquiz Kuy followup gaes at Suzuki ...</td>\n",
              "    </tr>\n",
              "    <tr>\n",
              "      <th>3</th>\n",
              "      <td>satria suzukiquiz berjalan ke atas rotan liat ...</td>\n",
              "      <td>knight suzukiquiz walk up to dry his underwate...</td>\n",
              "    </tr>\n",
              "    <tr>\n",
              "      <th>4</th>\n",
              "      <td>satria suzuqiquiz satria armanih</td>\n",
              "      <td>suzuqiquiz noble knight armanih</td>\n",
              "    </tr>\n",
              "  </tbody>\n",
              "</table>\n",
              "</div>"
            ],
            "text/plain": [
              "                                                text                                            English\n",
              "0                                               gsxr                                               gsxr\n",
              "1  daihatsu sirion kuisdaihatsu daihatsusahabatku...  Daihatsu Sirion kuisdaihatsu daihatsusahabatku...\n",
              "2  Satria Suzukiquiz Kuy followup Gaes at Suzuki ...  Satria Suzukiquiz Kuy followup gaes at Suzuki ...\n",
              "3  satria suzukiquiz berjalan ke atas rotan liat ...  knight suzukiquiz walk up to dry his underwate...\n",
              "4                   satria suzuqiquiz satria armanih                    suzuqiquiz noble knight armanih"
            ]
          },
          "metadata": {
            "tags": []
          },
          "execution_count": 10
        }
      ]
    },
    {
      "cell_type": "code",
      "metadata": {
        "id": "iUdISPoeUgbm",
        "colab_type": "code",
        "colab": {
          "base_uri": "https://localhost:8080/",
          "height": 33
        },
        "outputId": "f1c025cc-f018-4776-f305-7b5ca48da809"
      },
      "source": [
        "print(len(tweets_data))"
      ],
      "execution_count": 12,
      "outputs": [
        {
          "output_type": "stream",
          "text": [
            "13532\n"
          ],
          "name": "stdout"
        }
      ]
    },
    {
      "cell_type": "code",
      "metadata": {
        "id": "YwJeROomGlCM",
        "colab_type": "code",
        "colab": {
          "base_uri": "https://localhost:8080/",
          "height": 66
        },
        "outputId": "cc6dc8cf-2521-4f39-b7bf-93e725fbe52a"
      },
      "source": [
        "tweets_data.dropna(axis = 0, how = \"any\", inplace = True)\n",
        "tweets_data.isnull().sum()"
      ],
      "execution_count": 13,
      "outputs": [
        {
          "output_type": "execute_result",
          "data": {
            "text/plain": [
              "text       0\n",
              "English    0\n",
              "dtype: int64"
            ]
          },
          "metadata": {
            "tags": []
          },
          "execution_count": 13
        }
      ]
    },
    {
      "cell_type": "code",
      "metadata": {
        "id": "3yaS_z5gGv7b",
        "colab_type": "code",
        "colab": {
          "base_uri": "https://localhost:8080/",
          "height": 33
        },
        "outputId": "b4695388-534a-422b-ba9f-3c6cc506fb39"
      },
      "source": [
        "print (len(tweets_data))"
      ],
      "execution_count": 14,
      "outputs": [
        {
          "output_type": "stream",
          "text": [
            "12928\n"
          ],
          "name": "stdout"
        }
      ]
    },
    {
      "cell_type": "code",
      "metadata": {
        "id": "d0m9nzQIUmqY",
        "colab_type": "code",
        "colab": {}
      },
      "source": [
        "tweets_data.drop_duplicates(inplace=True)"
      ],
      "execution_count": 0,
      "outputs": []
    },
    {
      "cell_type": "code",
      "metadata": {
        "id": "8fbUVCigUr5s",
        "colab_type": "code",
        "colab": {
          "base_uri": "https://localhost:8080/",
          "height": 33
        },
        "outputId": "970cc0a7-31b7-4961-c14d-adcf84621ab2"
      },
      "source": [
        "print (len(tweets_data))"
      ],
      "execution_count": 16,
      "outputs": [
        {
          "output_type": "stream",
          "text": [
            "10666\n"
          ],
          "name": "stdout"
        }
      ]
    },
    {
      "cell_type": "code",
      "metadata": {
        "id": "tY-KIs5CUvVt",
        "colab_type": "code",
        "colab": {
          "base_uri": "https://localhost:8080/",
          "height": 33
        },
        "outputId": "257b1753-4d74-47fc-c25c-9ef4f2b290f1"
      },
      "source": [
        "import re\n",
        "def word_in_text(word, English):\n",
        "    try:\n",
        "        English = English.lower()\n",
        "        match = re.search(word, English)\n",
        "        if match:\n",
        "            return True\n",
        "        return False\n",
        "    except AttributeError:\n",
        "        return False\n",
        "print(word_in_text('hello','Hi there maybe, I would say hello instead'))"
      ],
      "execution_count": 20,
      "outputs": [
        {
          "output_type": "stream",
          "text": [
            "True\n"
          ],
          "name": "stdout"
        }
      ]
    },
    {
      "cell_type": "code",
      "metadata": {
        "id": "kvY7QbolW8_J",
        "colab_type": "code",
        "colab": {
          "base_uri": "https://localhost:8080/",
          "height": 116
        },
        "outputId": "0bdfa2e5-5372-43d7-f533-d3bcb7798491"
      },
      "source": [
        "from textblob import TextBlob\n",
        "# Sample of using TextBlob sentiment\n",
        "print (TextBlob(\"This food is good\").polarity)\n",
        "print (TextBlob(\"This food is bad\").polarity)\n",
        "print (TextBlob(\"This food is very good\").polarity)\n",
        "print (TextBlob(\"This food is very bad\").polarity)\n",
        "print (TextBlob(\"This food is not very good\").polarity)\n",
        "print (TextBlob(\"This food is very not good\").polarity)"
      ],
      "execution_count": 21,
      "outputs": [
        {
          "output_type": "stream",
          "text": [
            "0.7\n",
            "-0.6999999999999998\n",
            "0.9099999999999999\n",
            "-0.9099999999999998\n",
            "-0.26923076923076916\n",
            "-0.07499999999999998\n"
          ],
          "name": "stdout"
        }
      ]
    },
    {
      "cell_type": "code",
      "metadata": {
        "id": "Pox1YMizXELb",
        "colab_type": "code",
        "colab": {
          "base_uri": "https://localhost:8080/",
          "height": 33
        },
        "outputId": "a4bc3e7f-4b2a-4fe3-d736-3299348f1a9a"
      },
      "source": [
        "type(tweets_data['English'])"
      ],
      "execution_count": 22,
      "outputs": [
        {
          "output_type": "execute_result",
          "data": {
            "text/plain": [
              "pandas.core.series.Series"
            ]
          },
          "metadata": {
            "tags": []
          },
          "execution_count": 22
        }
      ]
    },
    {
      "cell_type": "code",
      "metadata": {
        "id": "XtmmQ0JBXI1s",
        "colab_type": "code",
        "colab": {}
      },
      "source": [
        "# Importing TextBlob from textblob to find polarity\n",
        "from textblob import TextBlob\n",
        "\n",
        "def find_polarity(tweet):\n",
        "    try:\n",
        "        textblob_tweet = TextBlob(tweet)\n",
        "        return textblob_tweet.polarity\n",
        "    except:\n",
        "        pass\n",
        "    \n",
        "def find_subjectivity(tweet):\n",
        "    try:\n",
        "        textblob_tweet = TextBlob(tweet)\n",
        "        return textblob_tweet.subjectivity\n",
        "    except:\n",
        "        pass"
      ],
      "execution_count": 0,
      "outputs": []
    },
    {
      "cell_type": "code",
      "metadata": {
        "id": "pxWytA2nXLfd",
        "colab_type": "code",
        "colab": {
          "base_uri": "https://localhost:8080/",
          "height": 197
        },
        "outputId": "b51e8789-08d0-4651-d07e-73e51a129250"
      },
      "source": [
        "# Applying textblob to each tweets text\n",
        "tweets_data['polarity'] = tweets_data['English'].apply(lambda tweet:find_polarity(tweet))\n",
        "tweets_data['subjectivity'] = tweets_data['English'].apply(lambda tweet:find_subjectivity(tweet))\n",
        "tweets_data.head()"
      ],
      "execution_count": 25,
      "outputs": [
        {
          "output_type": "execute_result",
          "data": {
            "text/html": [
              "<div>\n",
              "<style scoped>\n",
              "    .dataframe tbody tr th:only-of-type {\n",
              "        vertical-align: middle;\n",
              "    }\n",
              "\n",
              "    .dataframe tbody tr th {\n",
              "        vertical-align: top;\n",
              "    }\n",
              "\n",
              "    .dataframe thead th {\n",
              "        text-align: right;\n",
              "    }\n",
              "</style>\n",
              "<table border=\"1\" class=\"dataframe\">\n",
              "  <thead>\n",
              "    <tr style=\"text-align: right;\">\n",
              "      <th></th>\n",
              "      <th>text</th>\n",
              "      <th>English</th>\n",
              "      <th>polarity</th>\n",
              "      <th>subjectivity</th>\n",
              "    </tr>\n",
              "  </thead>\n",
              "  <tbody>\n",
              "    <tr>\n",
              "      <th>0</th>\n",
              "      <td>gsxr</td>\n",
              "      <td>gsxr</td>\n",
              "      <td>0.000000</td>\n",
              "      <td>0.000000</td>\n",
              "    </tr>\n",
              "    <tr>\n",
              "      <th>1</th>\n",
              "      <td>daihatsu sirion kuisdaihatsu daihatsusahabatku...</td>\n",
              "      <td>Daihatsu Sirion kuisdaihatsu daihatsusahabatku...</td>\n",
              "      <td>0.000000</td>\n",
              "      <td>0.000000</td>\n",
              "    </tr>\n",
              "    <tr>\n",
              "      <th>2</th>\n",
              "      <td>Satria Suzukiquiz Kuy followup Gaes at Suzuki ...</td>\n",
              "      <td>Satria Suzukiquiz Kuy followup gaes at Suzuki ...</td>\n",
              "      <td>0.000000</td>\n",
              "      <td>0.000000</td>\n",
              "    </tr>\n",
              "    <tr>\n",
              "      <th>3</th>\n",
              "      <td>satria suzukiquiz berjalan ke atas rotan liat ...</td>\n",
              "      <td>knight suzukiquiz walk up to dry his underwate...</td>\n",
              "      <td>0.255556</td>\n",
              "      <td>0.677778</td>\n",
              "    </tr>\n",
              "    <tr>\n",
              "      <th>4</th>\n",
              "      <td>satria suzuqiquiz satria armanih</td>\n",
              "      <td>suzuqiquiz noble knight armanih</td>\n",
              "      <td>0.600000</td>\n",
              "      <td>0.900000</td>\n",
              "    </tr>\n",
              "  </tbody>\n",
              "</table>\n",
              "</div>"
            ],
            "text/plain": [
              "                                                text  ... subjectivity\n",
              "0                                               gsxr  ...     0.000000\n",
              "1  daihatsu sirion kuisdaihatsu daihatsusahabatku...  ...     0.000000\n",
              "2  Satria Suzukiquiz Kuy followup Gaes at Suzuki ...  ...     0.000000\n",
              "3  satria suzukiquiz berjalan ke atas rotan liat ...  ...     0.677778\n",
              "4                   satria suzuqiquiz satria armanih  ...     0.900000\n",
              "\n",
              "[5 rows x 4 columns]"
            ]
          },
          "metadata": {
            "tags": []
          },
          "execution_count": 25
        }
      ]
    },
    {
      "cell_type": "code",
      "metadata": {
        "id": "iFzaWJefXgil",
        "colab_type": "code",
        "colab": {
          "base_uri": "https://localhost:8080/",
          "height": 197
        },
        "outputId": "fa43da1f-92cd-4619-e092-e279e28cfdfd"
      },
      "source": [
        "# Let's do a check on polarity texts\n",
        "tweets_data.sort_values('polarity',ascending=True).head()"
      ],
      "execution_count": 26,
      "outputs": [
        {
          "output_type": "execute_result",
          "data": {
            "text/html": [
              "<div>\n",
              "<style scoped>\n",
              "    .dataframe tbody tr th:only-of-type {\n",
              "        vertical-align: middle;\n",
              "    }\n",
              "\n",
              "    .dataframe tbody tr th {\n",
              "        vertical-align: top;\n",
              "    }\n",
              "\n",
              "    .dataframe thead th {\n",
              "        text-align: right;\n",
              "    }\n",
              "</style>\n",
              "<table border=\"1\" class=\"dataframe\">\n",
              "  <thead>\n",
              "    <tr style=\"text-align: right;\">\n",
              "      <th></th>\n",
              "      <th>text</th>\n",
              "      <th>English</th>\n",
              "      <th>polarity</th>\n",
              "      <th>subjectivity</th>\n",
              "    </tr>\n",
              "  </thead>\n",
              "  <tbody>\n",
              "    <tr>\n",
              "      <th>9472</th>\n",
              "      <td>pickup was very worst</td>\n",
              "      <td>pickup was very worst</td>\n",
              "      <td>-1.0</td>\n",
              "      <td>1.0</td>\n",
              "    </tr>\n",
              "    <tr>\n",
              "      <th>4186</th>\n",
              "      <td>booking fee cuman juta masa gila</td>\n",
              "      <td>booking fee cuman million times insane</td>\n",
              "      <td>-1.0</td>\n",
              "      <td>1.0</td>\n",
              "    </tr>\n",
              "    <tr>\n",
              "      <th>11619</th>\n",
              "      <td>semoga segera punya mobil impian sprti ini</td>\n",
              "      <td>hopefully soon have this bleak dream car</td>\n",
              "      <td>-1.0</td>\n",
              "      <td>1.0</td>\n",
              "    </tr>\n",
              "    <tr>\n",
              "      <th>3417</th>\n",
              "      <td>any car but not maruti suzuki india they are w...</td>\n",
              "      <td>any car but not maruti suzuki india worst qual...</td>\n",
              "      <td>-1.0</td>\n",
              "      <td>1.0</td>\n",
              "    </tr>\n",
              "    <tr>\n",
              "      <th>7657</th>\n",
              "      <td>leftover roundabout hero clips those sliders a...</td>\n",
              "      <td>Reviews those leftover clips roundabout hero s...</td>\n",
              "      <td>-1.0</td>\n",
              "      <td>1.0</td>\n",
              "    </tr>\n",
              "  </tbody>\n",
              "</table>\n",
              "</div>"
            ],
            "text/plain": [
              "                                                    text  ... subjectivity\n",
              "9472                               pickup was very worst  ...          1.0\n",
              "4186                    booking fee cuman juta masa gila  ...          1.0\n",
              "11619         semoga segera punya mobil impian sprti ini  ...          1.0\n",
              "3417   any car but not maruti suzuki india they are w...  ...          1.0\n",
              "7657   leftover roundabout hero clips those sliders a...  ...          1.0\n",
              "\n",
              "[5 rows x 4 columns]"
            ]
          },
          "metadata": {
            "tags": []
          },
          "execution_count": 26
        }
      ]
    },
    {
      "cell_type": "code",
      "metadata": {
        "id": "GYbiXvtIXooG",
        "colab_type": "code",
        "colab": {
          "base_uri": "https://localhost:8080/",
          "height": 281
        },
        "outputId": "fdd52942-fe91-4bb3-e548-fe632144df19"
      },
      "source": [
        "tweets_data.polarity.hist()"
      ],
      "execution_count": 28,
      "outputs": [
        {
          "output_type": "execute_result",
          "data": {
            "text/plain": [
              "<matplotlib.axes._subplots.AxesSubplot at 0x7fc74861e128>"
            ]
          },
          "metadata": {
            "tags": []
          },
          "execution_count": 28
        },
        {
          "output_type": "display_data",
          "data": {
            "image/png": "[encoded data removed]",
            "text/plain": [
              "<Figure size 432x288 with 1 Axes>"
            ]
          },
          "metadata": {
            "tags": []
          }
        }
      ]
    },
    {
      "cell_type": "code",
      "metadata": {
        "id": "0EOODSYlXuBU",
        "colab_type": "code",
        "colab": {
          "base_uri": "https://localhost:8080/",
          "height": 281
        },
        "outputId": "a99a956d-782f-4a3f-8408-1daa16a0c295"
      },
      "source": [
        "tweets_data.subjectivity.hist()"
      ],
      "execution_count": 29,
      "outputs": [
        {
          "output_type": "execute_result",
          "data": {
            "text/plain": [
              "<matplotlib.axes._subplots.AxesSubplot at 0x7fc748601f60>"
            ]
          },
          "metadata": {
            "tags": []
          },
          "execution_count": 29
        },
        {
          "output_type": "display_data",
          "data": {
            "image/png": "[encoded data removed]",
            "text/plain": [
              "<Figure size 432x288 with 1 Axes>"
            ]
          },
          "metadata": {
            "tags": []
          }
        }
      ]
    },
    {
      "cell_type": "code",
      "metadata": {
        "id": "KAUaJTzKXxpZ",
        "colab_type": "code",
        "colab": {}
      },
      "source": [
        "# Determining if they a comment is satisfied or not satisfied (split by range)\n",
        "tweets_data['polaritytext'] =  pd.cut(tweets_data.polarity, 3,labels=[\"unhappy\",\"neutral\",\"happy\"])\n",
        "tweets_data['subjectivitytext'] =  pd.cut(tweets_data.subjectivity, 2,labels=[\"meaningful\",\"subjective\"])"
      ],
      "execution_count": 0,
      "outputs": []
    },
    {
      "cell_type": "code",
      "metadata": {
        "id": "DkVsQLObX_af",
        "colab_type": "code",
        "colab": {
          "base_uri": "https://localhost:8080/",
          "height": 381
        },
        "outputId": "6f191963-d9ad-4541-d686-88252864c9bd"
      },
      "source": [
        "# Let's do a check on polarity texts\n",
        "tweets_data.sort_values('subjectivity',ascending=False).head()"
      ],
      "execution_count": 58,
      "outputs": [
        {
          "output_type": "execute_result",
          "data": {
            "text/html": [
              "<div>\n",
              "<style scoped>\n",
              "    .dataframe tbody tr th:only-of-type {\n",
              "        vertical-align: middle;\n",
              "    }\n",
              "\n",
              "    .dataframe tbody tr th {\n",
              "        vertical-align: top;\n",
              "    }\n",
              "\n",
              "    .dataframe thead th {\n",
              "        text-align: right;\n",
              "    }\n",
              "</style>\n",
              "<table border=\"1\" class=\"dataframe\">\n",
              "  <thead>\n",
              "    <tr style=\"text-align: right;\">\n",
              "      <th></th>\n",
              "      <th>text</th>\n",
              "      <th>English</th>\n",
              "      <th>polarity</th>\n",
              "      <th>subjectivity</th>\n",
              "      <th>polaritytext</th>\n",
              "      <th>subjectivitytext</th>\n",
              "      <th>dominanttopic</th>\n",
              "    </tr>\n",
              "  </thead>\n",
              "  <tbody>\n",
              "    <tr>\n",
              "      <th>3631</th>\n",
              "      <td>bagus semua pi  matte silver kayaknya jd pilih...</td>\n",
              "      <td>Nice all but that matte silver jd think my choice</td>\n",
              "      <td>0.60</td>\n",
              "      <td>1.0</td>\n",
              "      <td>happy</td>\n",
              "      <td>subjective</td>\n",
              "      <td>(covers, ams, repost, terbesar, suzuki, promo,...</td>\n",
              "    </tr>\n",
              "    <tr>\n",
              "      <th>11652</th>\n",
              "      <td>semua penonton cewek pengen ja model iklan cew...</td>\n",
              "      <td>all spectators girls want to be models of adve...</td>\n",
              "      <td>0.85</td>\n",
              "      <td>1.0</td>\n",
              "      <td>happy</td>\n",
              "      <td>subjective</td>\n",
              "      <td>(covers, ams, repost, terbesar, suzuki, promo,...</td>\n",
              "    </tr>\n",
              "    <tr>\n",
              "      <th>5610</th>\n",
              "      <td>happy holiday ho ho ho hari lagi menuju nal de...</td>\n",
              "      <td>ho ho ho happy holiday days to christmas decem...</td>\n",
              "      <td>0.80</td>\n",
              "      <td>1.0</td>\n",
              "      <td>happy</td>\n",
              "      <td>subjective</td>\n",
              "      <td>(car, ninja, hondacbr, sakti, mofikasi, eiga, ...</td>\n",
              "    </tr>\n",
              "    <tr>\n",
              "      <th>11619</th>\n",
              "      <td>semoga segera punya mobil impian spi ini</td>\n",
              "      <td>hopefully soon have this bleak dream car</td>\n",
              "      <td>-1.00</td>\n",
              "      <td>1.0</td>\n",
              "      <td>unhappy</td>\n",
              "      <td>subjective</td>\n",
              "      <td>(covers, ams, repost, terbesar, suzuki, promo,...</td>\n",
              "    </tr>\n",
              "    <tr>\n",
              "      <th>5609</th>\n",
              "      <td>hanya  ini min</td>\n",
              "      <td>only this reply min</td>\n",
              "      <td>0.00</td>\n",
              "      <td>1.0</td>\n",
              "      <td>neutral</td>\n",
              "      <td>subjective</td>\n",
              "      <td>(covers, ams, repost, terbesar, suzuki, promo,...</td>\n",
              "    </tr>\n",
              "  </tbody>\n",
              "</table>\n",
              "</div>"
            ],
            "text/plain": [
              "                                                    text  ...                                      dominanttopic\n",
              "3631   bagus semua pi  matte silver kayaknya jd pilih...  ...  (covers, ams, repost, terbesar, suzuki, promo,...\n",
              "11652  semua penonton cewek pengen ja model iklan cew...  ...  (covers, ams, repost, terbesar, suzuki, promo,...\n",
              "5610   happy holiday ho ho ho hari lagi menuju nal de...  ...  (car, ninja, hondacbr, sakti, mofikasi, eiga, ...\n",
              "11619           semoga segera punya mobil impian spi ini  ...  (covers, ams, repost, terbesar, suzuki, promo,...\n",
              "5609                                      hanya  ini min  ...  (covers, ams, repost, terbesar, suzuki, promo,...\n",
              "\n",
              "[5 rows x 7 columns]"
            ]
          },
          "metadata": {
            "tags": []
          },
          "execution_count": 58
        }
      ]
    },
    {
      "cell_type": "code",
      "metadata": {
        "id": "m8UPG-l_d-6l",
        "colab_type": "code",
        "colab": {
          "base_uri": "https://localhost:8080/",
          "height": 287
        },
        "outputId": "71782ac2-0fdd-46d6-8276-542aa3206c03"
      },
      "source": [
        "#Summary of the dataset\n",
        "tweets_data.describe()"
      ],
      "execution_count": 59,
      "outputs": [
        {
          "output_type": "execute_result",
          "data": {
            "text/html": [
              "<div>\n",
              "<style scoped>\n",
              "    .dataframe tbody tr th:only-of-type {\n",
              "        vertical-align: middle;\n",
              "    }\n",
              "\n",
              "    .dataframe tbody tr th {\n",
              "        vertical-align: top;\n",
              "    }\n",
              "\n",
              "    .dataframe thead th {\n",
              "        text-align: right;\n",
              "    }\n",
              "</style>\n",
              "<table border=\"1\" class=\"dataframe\">\n",
              "  <thead>\n",
              "    <tr style=\"text-align: right;\">\n",
              "      <th></th>\n",
              "      <th>polarity</th>\n",
              "      <th>subjectivity</th>\n",
              "    </tr>\n",
              "  </thead>\n",
              "  <tbody>\n",
              "    <tr>\n",
              "      <th>count</th>\n",
              "      <td>10666.000000</td>\n",
              "      <td>10666.000000</td>\n",
              "    </tr>\n",
              "    <tr>\n",
              "      <th>mean</th>\n",
              "      <td>0.118122</td>\n",
              "      <td>0.282577</td>\n",
              "    </tr>\n",
              "    <tr>\n",
              "      <th>std</th>\n",
              "      <td>0.233794</td>\n",
              "      <td>0.326555</td>\n",
              "    </tr>\n",
              "    <tr>\n",
              "      <th>min</th>\n",
              "      <td>-1.000000</td>\n",
              "      <td>0.000000</td>\n",
              "    </tr>\n",
              "    <tr>\n",
              "      <th>25%</th>\n",
              "      <td>0.000000</td>\n",
              "      <td>0.000000</td>\n",
              "    </tr>\n",
              "    <tr>\n",
              "      <th>50%</th>\n",
              "      <td>0.000000</td>\n",
              "      <td>0.066667</td>\n",
              "    </tr>\n",
              "    <tr>\n",
              "      <th>75%</th>\n",
              "      <td>0.225000</td>\n",
              "      <td>0.533333</td>\n",
              "    </tr>\n",
              "    <tr>\n",
              "      <th>max</th>\n",
              "      <td>1.000000</td>\n",
              "      <td>1.000000</td>\n",
              "    </tr>\n",
              "  </tbody>\n",
              "</table>\n",
              "</div>"
            ],
            "text/plain": [
              "           polarity  subjectivity\n",
              "count  10666.000000  10666.000000\n",
              "mean       0.118122      0.282577\n",
              "std        0.233794      0.326555\n",
              "min       -1.000000      0.000000\n",
              "25%        0.000000      0.000000\n",
              "50%        0.000000      0.066667\n",
              "75%        0.225000      0.533333\n",
              "max        1.000000      1.000000"
            ]
          },
          "metadata": {
            "tags": []
          },
          "execution_count": 59
        }
      ]
    },
    {
      "cell_type": "code",
      "metadata": {
        "id": "2wAycip9eMsk",
        "colab_type": "code",
        "colab": {
          "base_uri": "https://localhost:8080/",
          "height": 83
        },
        "outputId": "540edd86-d2a0-4f8e-de4a-6cc5f89a7612"
      },
      "source": [
        "tweets_data['polaritytext'].value_counts()"
      ],
      "execution_count": 60,
      "outputs": [
        {
          "output_type": "execute_result",
          "data": {
            "text/plain": [
              "neutral    8531\n",
              "happy      1953\n",
              "unhappy     182\n",
              "Name: polaritytext, dtype: int64"
            ]
          },
          "metadata": {
            "tags": []
          },
          "execution_count": 60
        }
      ]
    },
    {
      "cell_type": "code",
      "metadata": {
        "id": "2-yuwCx-i_fl",
        "colab_type": "code",
        "colab": {}
      },
      "source": [
        "#Load the libraries\n",
        "import numpy as np\n",
        "import pandas as pd\n",
        "import seaborn as sns\n",
        "import matplotlib.pyplot as plt\n",
        "import nltk\n",
        "from sklearn.feature_extraction.text import CountVectorizer\n",
        "from sklearn.feature_extraction.text import TfidfVectorizer\n",
        "from sklearn.preprocessing import LabelBinarizer\n",
        "from nltk.corpus import stopwords\n",
        "from nltk.stem.porter import PorterStemmer\n",
        "from wordcloud import WordCloud,STOPWORDS\n",
        "from nltk.stem import WordNetLemmatizer\n",
        "from nltk.tokenize import word_tokenize,sent_tokenize\n",
        "from bs4 import BeautifulSoup\n",
        "import spacy\n",
        "import re,string,unicodedata\n",
        "from nltk.tokenize.toktok import ToktokTokenizer\n",
        "from nltk.stem import LancasterStemmer,WordNetLemmatizer\n",
        "from sklearn.linear_model import LogisticRegression,SGDClassifier\n",
        "from sklearn.naive_bayes import MultinomialNB\n",
        "from sklearn.svm import SVC\n",
        "from textblob import TextBlob\n",
        "from textblob import Word\n",
        "from sklearn.metrics import classification_report,confusion_matrix,accuracy_score"
      ],
      "execution_count": 0,
      "outputs": []
    },
    {
      "cell_type": "markdown",
      "metadata": {
        "id": "PIWIZfCUemmh",
        "colab_type": "text"
      },
      "source": [
        "split the training dataset"
      ]
    },
    {
      "cell_type": "code",
      "metadata": {
        "id": "AXP-Dovteoxi",
        "colab_type": "code",
        "colab": {
          "base_uri": "https://localhost:8080/",
          "height": 50
        },
        "outputId": "f04f924e-f6f4-4392-cacd-280ad6e972cc"
      },
      "source": [
        "train_reviews=tweets_data.English[:7466]\n",
        "train_sentiments=tweets_data.polaritytext[:7466]\n",
        "test_reviews=tweets_data.English[7466:]\n",
        "test_sentiments=tweets_data.polaritytext[7466:]\n",
        "print(train_reviews.shape,train_sentiments.shape)\n",
        "print(test_reviews.shape,test_sentiments.shape)"
      ],
      "execution_count": 66,
      "outputs": [
        {
          "output_type": "stream",
          "text": [
            "(7466,) (7466,)\n",
            "(3200,) (3200,)\n"
          ],
          "name": "stdout"
        }
      ]
    },
    {
      "cell_type": "code",
      "metadata": {
        "id": "Ro4gXbE4i5ln",
        "colab_type": "code",
        "colab": {}
      },
      "source": [
        "#Tokenization of text\n",
        "tokenizer=ToktokTokenizer()"
      ],
      "execution_count": 0,
      "outputs": []
    },
    {
      "cell_type": "code",
      "metadata": {
        "id": "r6UGToY0jF5U",
        "colab_type": "code",
        "colab": {}
      },
      "source": [
        "#Removing the html strips\n",
        "def strip_html(text):\n",
        "    soup = BeautifulSoup(text, \"html.parser\")\n",
        "    return soup.get_text()\n",
        "\n",
        "#Removing the square brackets\n",
        "def remove_between_square_brackets(text):\n",
        "    return re.sub('\\[[^]]*\\]', '', text)\n",
        "\n",
        "#Removing the noisy text\n",
        "def denoise_text(text):\n",
        "    text = strip_html(text)\n",
        "    text = remove_between_square_brackets(text)\n",
        "    return text\n",
        "#Apply function on review column\n",
        "tweets_data['English']=tweets_data['English'].apply(denoise_text)"
      ],
      "execution_count": 0,
      "outputs": []
    },
    {
      "cell_type": "code",
      "metadata": {
        "id": "QfMqXuQBjTb0",
        "colab_type": "code",
        "colab": {}
      },
      "source": [
        "#Define function for removing special characters\n",
        "def remove_special_characters(text, remove_digits=True):\n",
        "    pattern=r'[^a-zA-z0-9\\s]'\n",
        "    text=re.sub(pattern,'',text)\n",
        "    return text\n",
        "#Apply function on review column\n",
        "tweets_data['English']=tweets_data['English'].apply(remove_special_characters)"
      ],
      "execution_count": 0,
      "outputs": []
    },
    {
      "cell_type": "code",
      "metadata": {
        "id": "EG8GNZX4jYiu",
        "colab_type": "code",
        "colab": {}
      },
      "source": [
        "#Stemming the text\n",
        "def simple_stemmer(text):\n",
        "    ps=nltk.porter.PorterStemmer()\n",
        "    text= ' '.join([ps.stem(word) for word in text.split()])\n",
        "    return text\n",
        "#Apply function on review column\n",
        "tweets_data['English']=tweets_data['English'].apply(simple_stemmer)"
      ],
      "execution_count": 0,
      "outputs": []
    },
    {
      "cell_type": "code",
      "metadata": {
        "id": "hiXEToH3jk5R",
        "colab_type": "code",
        "colab": {
          "base_uri": "https://localhost:8080/",
          "height": 66
        },
        "outputId": "ee03e090-5bfd-4fd2-b935-8537877c599b"
      },
      "source": [
        "nltk.download('stopwords')"
      ],
      "execution_count": 72,
      "outputs": [
        {
          "output_type": "stream",
          "text": [
            "[nltk_data] Downloading package stopwords to /root/nltk_data...\n",
            "[nltk_data]   Unzipping corpora/stopwords.zip.\n"
          ],
          "name": "stdout"
        },
        {
          "output_type": "execute_result",
          "data": {
            "text/plain": [
              "True"
            ]
          },
          "metadata": {
            "tags": []
          },
          "execution_count": 72
        }
      ]
    },
    {
      "cell_type": "code",
      "metadata": {
        "id": "rKFzqgMsjx1u",
        "colab_type": "code",
        "colab": {}
      },
      "source": [
        "stopword_list=nltk.corpus.stopwords.words('english')"
      ],
      "execution_count": 0,
      "outputs": []
    },
    {
      "cell_type": "code",
      "metadata": {
        "id": "fqVcSrdPjggH",
        "colab_type": "code",
        "colab": {
          "base_uri": "https://localhost:8080/",
          "height": 53
        },
        "outputId": "12dde627-19b4-47b9-f60a-90e3d49bb481"
      },
      "source": [
        "#set stopwords to english\n",
        "stop=set(stopwords.words('english'))\n",
        "print(stop)\n",
        "\n",
        "#removing the stopwords\n",
        "def remove_stopwords(text, is_lower_case=False):\n",
        "    tokens = tokenizer.tokenize(text)\n",
        "    tokens = [token.strip() for token in tokens]\n",
        "    if is_lower_case:\n",
        "        filtered_tokens = [token for token in tokens if token not in stopword_list]\n",
        "    else:\n",
        "        filtered_tokens = [token for token in tokens if token.lower() not in stopword_list]\n",
        "    filtered_text = ' '.join(filtered_tokens)    \n",
        "    return filtered_text\n",
        "#Apply function on review column\n",
        "tweets_data['English']=tweets_data['English'].apply(remove_stopwords)"
      ],
      "execution_count": 75,
      "outputs": [
        {
          "output_type": "stream",
          "text": [
            "{'they', 'not', 'those', \"isn't\", 'her', 'do', 'then', \"you'd\", 'hasn', 'himself', 'same', 'needn', 'couldn', 'ma', 'a', 'because', 'been', 'had', 'having', 'some', 'just', 'didn', 'your', 'against', 'but', 's', 'hers', 'own', 'this', 'being', 'or', 'while', 'was', 'will', 'aren', 'hadn', 'most', \"hasn't\", 'and', 'yours', 'once', 'where', 'few', 'such', 'nor', \"couldn't\", 'very', 'out', \"she's\", \"wouldn't\", 'the', 'by', 'don', 'its', 'mightn', 'who', 'does', 'down', 'whom', 'ours', 'o', 'ain', 'in', 'more', 'if', 'through', 'why', 'she', 'after', 'below', 'them', \"mustn't\", \"shouldn't\", 'is', 'with', 'i', 'were', 'these', 'off', 'be', 'yourselves', \"don't\", 'too', 'until', 'did', 'now', 'herself', \"weren't\", 'itself', 'themselves', 'wouldn', 'are', 'of', 'y', 've', \"hadn't\", 'my', 'other', \"wasn't\", 'each', \"should've\", 'so', 'doing', 'myself', \"mightn't\", \"you're\", 'his', 'both', 'theirs', 'am', 'mustn', 'their', 'any', 'over', \"you'll\", 'doesn', 'll', 'him', \"it's\", 'it', \"you've\", 'under', 'there', 'have', 'all', 'above', 't', 'weren', 'about', 'can', 're', 'yourself', 'for', \"haven't\", \"aren't\", 'he', 'no', 'again', 'how', 'should', 'isn', \"shan't\", \"that'll\", 'further', 'shan', 'won', 'when', 'our', \"needn't\", 'during', 'haven', 'here', 'shouldn', 'm', 'ourselves', 'wasn', 'into', 'you', 'before', 'up', 'that', 'has', 'only', 'an', 'to', 'from', 'than', 'what', 'd', 'me', \"doesn't\", \"won't\", 'we', 'which', 'on', \"didn't\", 'as', 'between', 'at'}\n"
          ],
          "name": "stdout"
        }
      ]
    },
    {
      "cell_type": "code",
      "metadata": {
        "id": "BIeKF5wZj4-X",
        "colab_type": "code",
        "colab": {
          "base_uri": "https://localhost:8080/",
          "height": 33
        },
        "outputId": "eb3aa1b6-b142-4133-d3d5-1f7f56bd667c"
      },
      "source": [
        "norm_train_reviews=tweets_data.English[:7466]\n",
        "print(len(norm_train_reviews))"
      ],
      "execution_count": 82,
      "outputs": [
        {
          "output_type": "stream",
          "text": [
            "7466\n"
          ],
          "name": "stdout"
        }
      ]
    },
    {
      "cell_type": "code",
      "metadata": {
        "id": "C4-PwL1PkAJ4",
        "colab_type": "code",
        "colab": {
          "base_uri": "https://localhost:8080/",
          "height": 33
        },
        "outputId": "9880665b-1a56-4cd5-b7ed-bceef1bd1482"
      },
      "source": [
        "norm_test_reviews=tweets_data.English[7466:]\n",
        "print(len(norm_test_reviews))"
      ],
      "execution_count": 83,
      "outputs": [
        {
          "output_type": "stream",
          "text": [
            "3200\n"
          ],
          "name": "stdout"
        }
      ]
    },
    {
      "cell_type": "markdown",
      "metadata": {
        "id": "Rc83vTPrkbW1",
        "colab_type": "text"
      },
      "source": [
        "#Bag Of Word Model"
      ]
    },
    {
      "cell_type": "code",
      "metadata": {
        "id": "4oael5wFkXgl",
        "colab_type": "code",
        "colab": {
          "base_uri": "https://localhost:8080/",
          "height": 50
        },
        "outputId": "7b62323d-f2cf-4da3-ff67-5e7012f2d36e"
      },
      "source": [
        "#Count vectorizer for bag of words\n",
        "cv=CountVectorizer(min_df=0,max_df=1,binary=False,ngram_range=(1,3))\n",
        "#transformed train reviews\n",
        "cv_train_reviews=cv.fit_transform(norm_train_reviews)\n",
        "#transformed test reviews\n",
        "cv_test_reviews=cv.transform(norm_test_reviews)\n",
        "\n",
        "print('BOW_cv_train:',cv_train_reviews.shape)\n",
        "print('BOW_cv_test:',cv_test_reviews.shape)\n",
        "#vocab=cv.get_feature_names()-toget feature names"
      ],
      "execution_count": 84,
      "outputs": [
        {
          "output_type": "stream",
          "text": [
            "BOW_cv_train: (7466, 117364)\n",
            "BOW_cv_test: (3200, 117364)\n"
          ],
          "name": "stdout"
        }
      ]
    },
    {
      "cell_type": "markdown",
      "metadata": {
        "id": "SO-qMv28kglp",
        "colab_type": "text"
      },
      "source": [
        "#Term Frequency-Inverse Document Frequency model (TFIDF)"
      ]
    },
    {
      "cell_type": "code",
      "metadata": {
        "id": "qUs6z6Q7kh-k",
        "colab_type": "code",
        "colab": {
          "base_uri": "https://localhost:8080/",
          "height": 50
        },
        "outputId": "24bcdbca-952a-4e55-90b9-8fe4482273cf"
      },
      "source": [
        "#Tfidf vectorizer\n",
        "tv=TfidfVectorizer(min_df=0,max_df=1,use_idf=True,ngram_range=(1,3))\n",
        "#transformed train reviews\n",
        "tv_train_reviews=tv.fit_transform(norm_train_reviews)\n",
        "#transformed test reviews\n",
        "tv_test_reviews=tv.transform(norm_test_reviews)\n",
        "print('Tfidf_train:',tv_train_reviews.shape)\n",
        "print('Tfidf_test:',tv_test_reviews.shape)"
      ],
      "execution_count": 85,
      "outputs": [
        {
          "output_type": "stream",
          "text": [
            "Tfidf_train: (7466, 117364)\n",
            "Tfidf_test: (3200, 117364)\n"
          ],
          "name": "stdout"
        }
      ]
    },
    {
      "cell_type": "markdown",
      "metadata": {
        "id": "-unbE4tqkpF2",
        "colab_type": "text"
      },
      "source": [
        "#Labeling the sentiment text"
      ]
    },
    {
      "cell_type": "code",
      "metadata": {
        "id": "WI7gOEcYknXF",
        "colab_type": "code",
        "colab": {
          "base_uri": "https://localhost:8080/",
          "height": 50
        },
        "outputId": "1dc4b247-ed4d-4f45-f9f1-32c7ecef215f"
      },
      "source": [
        "#labeling the sentient data\n",
        "lb=LabelBinarizer()\n",
        "#transformed sentiment data\n",
        "sentiment_data=lb.fit_transform(tweets_data['polaritytext'])\n",
        "print(sentiment_data.shape)\n",
        "print(sentiment_data[5])"
      ],
      "execution_count": 90,
      "outputs": [
        {
          "output_type": "stream",
          "text": [
            "(10666, 3)\n",
            "[1 0 0]\n"
          ],
          "name": "stdout"
        }
      ]
    },
    {
      "cell_type": "code",
      "metadata": {
        "id": "AdrLOz08kzas",
        "colab_type": "code",
        "colab": {
          "base_uri": "https://localhost:8080/",
          "height": 50
        },
        "outputId": "cabc1672-bd22-436c-8e2e-7d85f8e1306c"
      },
      "source": [
        "print(len(train_sentiments))\n",
        "print(len(test_sentiments))"
      ],
      "execution_count": 92,
      "outputs": [
        {
          "output_type": "stream",
          "text": [
            "7466\n",
            "3200\n"
          ],
          "name": "stdout"
        }
      ]
    },
    {
      "cell_type": "markdown",
      "metadata": {
        "id": "drnziVcAoK25",
        "colab_type": "text"
      },
      "source": [
        "#Logistic Regression"
      ]
    },
    {
      "cell_type": "code",
      "metadata": {
        "id": "ysJJHny8oNk_",
        "colab_type": "code",
        "colab": {
          "base_uri": "https://localhost:8080/",
          "height": 183
        },
        "outputId": "7eb331bb-450d-4a2c-d4b3-143f078008e2"
      },
      "source": [
        "#training the model\n",
        "lr=LogisticRegression(penalty='l2',max_iter=500,C=1,random_state=42)\n",
        "#Fitting the model for Bag of words\n",
        "lr_bow=lr.fit(cv_train_reviews,train_sentiments)\n",
        "print(lr_bow)\n",
        "#Fitting the model for tfidf features\n",
        "lr_tfidf=lr.fit(tv_train_reviews,train_sentiments)\n",
        "print(lr_tfidf)"
      ],
      "execution_count": 93,
      "outputs": [
        {
          "output_type": "stream",
          "text": [
            "LogisticRegression(C=1, class_weight=None, dual=False, fit_intercept=True,\n",
            "                   intercept_scaling=1, l1_ratio=None, max_iter=500,\n",
            "                   multi_class='auto', n_jobs=None, penalty='l2',\n",
            "                   random_state=42, solver='lbfgs', tol=0.0001, verbose=0,\n",
            "                   warm_start=False)\n",
            "LogisticRegression(C=1, class_weight=None, dual=False, fit_intercept=True,\n",
            "                   intercept_scaling=1, l1_ratio=None, max_iter=500,\n",
            "                   multi_class='auto', n_jobs=None, penalty='l2',\n",
            "                   random_state=42, solver='lbfgs', tol=0.0001, verbose=0,\n",
            "                   warm_start=False)\n"
          ],
          "name": "stdout"
        }
      ]
    },
    {
      "cell_type": "code",
      "metadata": {
        "id": "T_6k_uu7oSL6",
        "colab_type": "code",
        "colab": {
          "base_uri": "https://localhost:8080/",
          "height": 50
        },
        "outputId": "e146446b-fea7-4fb9-cf59-d07adb8ac4a3"
      },
      "source": [
        "#Predicting the model for bag of words\n",
        "lr_bow_predict=lr.predict(cv_test_reviews)\n",
        "print(lr_bow_predict)\n",
        "##Predicting the model for tfidf features\n",
        "lr_tfidf_predict=lr.predict(tv_test_reviews)\n",
        "print(lr_tfidf_predict)"
      ],
      "execution_count": 94,
      "outputs": [
        {
          "output_type": "stream",
          "text": [
            "['neutral' 'neutral' 'neutral' ... 'neutral' 'neutral' 'neutral']\n",
            "['neutral' 'neutral' 'neutral' ... 'neutral' 'neutral' 'neutral']\n"
          ],
          "name": "stdout"
        }
      ]
    },
    {
      "cell_type": "code",
      "metadata": {
        "id": "hyvCAOASoVFG",
        "colab_type": "code",
        "colab": {
          "base_uri": "https://localhost:8080/",
          "height": 50
        },
        "outputId": "fe866fa7-3b6a-4dbd-affa-ee4767b09378"
      },
      "source": [
        "#Accuracy score for bag of words\n",
        "lr_bow_score=accuracy_score(test_sentiments,lr_bow_predict)\n",
        "print(\"lr_bow_score :\",lr_bow_score)\n",
        "#Accuracy score for tfidf features\n",
        "lr_tfidf_score=accuracy_score(test_sentiments,lr_tfidf_predict)\n",
        "print(\"lr_tfidf_score :\",lr_tfidf_score)"
      ],
      "execution_count": 95,
      "outputs": [
        {
          "output_type": "stream",
          "text": [
            "lr_bow_score : 0.758125\n",
            "lr_tfidf_score : 0.75125\n"
          ],
          "name": "stdout"
        }
      ]
    },
    {
      "cell_type": "markdown",
      "metadata": {
        "id": "o7Mqnr7noioa",
        "colab_type": "text"
      },
      "source": [
        "#Stochastic gradient descent or Linear support vector machines for bag of words and tfidf features"
      ]
    },
    {
      "cell_type": "code",
      "metadata": {
        "id": "3rE4UkEJoets",
        "colab_type": "code",
        "colab": {
          "base_uri": "https://localhost:8080/",
          "height": 216
        },
        "outputId": "4160d7be-debf-4c40-a476-a287905f18af"
      },
      "source": [
        "#training the linear svm\n",
        "svm=SGDClassifier(loss='hinge',max_iter=500,random_state=42)\n",
        "#fitting the svm for bag of words\n",
        "svm_bow=svm.fit(cv_train_reviews,train_sentiments)\n",
        "print(svm_bow)\n",
        "#fitting the svm for tfidf features\n",
        "svm_tfidf=svm.fit(tv_train_reviews,train_sentiments)\n",
        "print(svm_tfidf)"
      ],
      "execution_count": 99,
      "outputs": [
        {
          "output_type": "stream",
          "text": [
            "SGDClassifier(alpha=0.0001, average=False, class_weight=None,\n",
            "              early_stopping=False, epsilon=0.1, eta0=0.0, fit_intercept=True,\n",
            "              l1_ratio=0.15, learning_rate='optimal', loss='hinge',\n",
            "              max_iter=500, n_iter_no_change=5, n_jobs=None, penalty='l2',\n",
            "              power_t=0.5, random_state=42, shuffle=True, tol=0.001,\n",
            "              validation_fraction=0.1, verbose=0, warm_start=False)\n",
            "SGDClassifier(alpha=0.0001, average=False, class_weight=None,\n",
            "              early_stopping=False, epsilon=0.1, eta0=0.0, fit_intercept=True,\n",
            "              l1_ratio=0.15, learning_rate='optimal', loss='hinge',\n",
            "              max_iter=500, n_iter_no_change=5, n_jobs=None, penalty='l2',\n",
            "              power_t=0.5, random_state=42, shuffle=True, tol=0.001,\n",
            "              validation_fraction=0.1, verbose=0, warm_start=False)\n"
          ],
          "name": "stdout"
        }
      ]
    },
    {
      "cell_type": "code",
      "metadata": {
        "id": "qnMu-pb-ovAV",
        "colab_type": "code",
        "colab": {
          "base_uri": "https://localhost:8080/",
          "height": 50
        },
        "outputId": "e3910e10-860d-482a-f6b5-aed9adc4c16b"
      },
      "source": [
        "#Accuracy score for bag of words\n",
        "svm_bow_score=accuracy_score(test_sentiments,svm_bow_predict)\n",
        "print(\"svm_bow_score :\",svm_bow_score)\n",
        "#Accuracy score for tfidf features\n",
        "svm_tfidf_score=accuracy_score(test_sentiments,svm_tfidf_predict)\n",
        "print(\"svm_tfidf_score :\",svm_tfidf_score)"
      ],
      "execution_count": 101,
      "outputs": [
        {
          "output_type": "stream",
          "text": [
            "svm_bow_score : 0.7575\n",
            "svm_tfidf_score : 0.7584375\n"
          ],
          "name": "stdout"
        }
      ]
    },
    {
      "cell_type": "markdown",
      "metadata": {
        "id": "3R44RmmBo3Ef",
        "colab_type": "text"
      },
      "source": [
        "#Multinomial Naive Bayes for bag of words and tfidf features"
      ]
    },
    {
      "cell_type": "code",
      "metadata": {
        "id": "P1DiRP-Go2tN",
        "colab_type": "code",
        "colab": {
          "base_uri": "https://localhost:8080/",
          "height": 50
        },
        "outputId": "3d749c7f-4681-46f7-fd8e-db2245509a59"
      },
      "source": [
        "#training the model\n",
        "mnb=MultinomialNB()\n",
        "#fitting the svm for bag of words\n",
        "mnb_bow=mnb.fit(cv_train_reviews,train_sentiments)\n",
        "print(mnb_bow)\n",
        "#fitting the svm for tfidf features\n",
        "mnb_tfidf=mnb.fit(tv_train_reviews,train_sentiments)\n",
        "print(mnb_tfidf)"
      ],
      "execution_count": 102,
      "outputs": [
        {
          "output_type": "stream",
          "text": [
            "MultinomialNB(alpha=1.0, class_prior=None, fit_prior=True)\n",
            "MultinomialNB(alpha=1.0, class_prior=None, fit_prior=True)\n"
          ],
          "name": "stdout"
        }
      ]
    },
    {
      "cell_type": "code",
      "metadata": {
        "id": "L1grlvLLo_3Q",
        "colab_type": "code",
        "colab": {
          "base_uri": "https://localhost:8080/",
          "height": 50
        },
        "outputId": "bf0c1148-43e5-47b3-c62d-2946dda73f77"
      },
      "source": [
        "#Predicting the model for bag of words\n",
        "mnb_bow_predict=mnb.predict(cv_test_reviews)\n",
        "print(mnb_bow_predict)\n",
        "#Predicting the model for tfidf features\n",
        "mnb_tfidf_predict=mnb.predict(tv_test_reviews)\n",
        "print(mnb_tfidf_predict)"
      ],
      "execution_count": 104,
      "outputs": [
        {
          "output_type": "stream",
          "text": [
            "['neutral' 'neutral' 'neutral' ... 'neutral' 'neutral' 'neutral']\n",
            "['neutral' 'neutral' 'neutral' ... 'neutral' 'neutral' 'neutral']\n"
          ],
          "name": "stdout"
        }
      ]
    },
    {
      "cell_type": "code",
      "metadata": {
        "id": "U6-zoinwo80t",
        "colab_type": "code",
        "colab": {
          "base_uri": "https://localhost:8080/",
          "height": 50
        },
        "outputId": "61a6ba6f-0706-4907-d29f-144be844f217"
      },
      "source": [
        "#Accuracy score for bag of words\n",
        "mnb_bow_score=accuracy_score(test_sentiments,mnb_bow_predict)\n",
        "print(\"mnb_bow_score :\",mnb_bow_score)\n",
        "#Accuracy score for tfidf features\n",
        "mnb_tfidf_score=accuracy_score(test_sentiments,mnb_tfidf_predict)\n",
        "print(\"mnb_tfidf_score :\",mnb_tfidf_score)"
      ],
      "execution_count": 105,
      "outputs": [
        {
          "output_type": "stream",
          "text": [
            "mnb_bow_score : 0.756875\n",
            "mnb_tfidf_score : 0.7521875\n"
          ],
          "name": "stdout"
        }
      ]
    },
    {
      "cell_type": "code",
      "metadata": {
        "id": "eIWHqcmbba4S",
        "colab_type": "code",
        "colab": {}
      },
      "source": [
        "# tweets = pd.DataFrame(tweets_data)\n",
        "# tweets.to_csv('tweets_eda.csv', encoding = 'utf-8')"
      ],
      "execution_count": 0,
      "outputs": []
    },
    {
      "cell_type": "markdown",
      "metadata": {
        "id": "AQXqB9RoY1Ee",
        "colab_type": "text"
      },
      "source": [
        "#Topic Extraction"
      ]
    },
    {
      "cell_type": "code",
      "metadata": {
        "id": "P4RXNWktY4fu",
        "colab_type": "code",
        "colab": {
          "base_uri": "https://localhost:8080/",
          "height": 116
        },
        "outputId": "3b5c33db-6872-406f-8b57-9e48c0179272"
      },
      "source": [
        "for word in ['(?i)RT','(?i)di','(?i)https','(?i)yg','(?i)yang','(?i)ta','(?i)pak','(?i)ibu','(?i)sya','(?i)saya',\n",
        "             '(?i)dan','(?i)ko','(?i)dari','(?i)kepada']:\n",
        "    tweets_data.text = tweets_data.text.str.replace(word,'',regex=True)\n",
        "tweets_data['text'].head()"
      ],
      "execution_count": 36,
      "outputs": [
        {
          "output_type": "execute_result",
          "data": {
            "text/plain": [
              "0                                                 gsxr\n",
              "1    daihatsu sirion kuisdaihatsu daihatsusahabatku...\n",
              "2    Satria Suzukiquiz Kuy followup Gaes at Suzuki ...\n",
              "3    satria suzukiquiz berjalan ke as ron liat bawa...\n",
              "4                     satria suzuqiquiz satria armanih\n",
              "Name: text, dtype: object"
            ]
          },
          "metadata": {
            "tags": []
          },
          "execution_count": 36
        }
      ]
    },
    {
      "cell_type": "code",
      "metadata": {
        "id": "vSPE9PmjZFBQ",
        "colab_type": "code",
        "colab": {
          "base_uri": "https://localhost:8080/",
          "height": 50
        },
        "outputId": "5c5c2d27-eade-4d08-a644-3d3b65507d40"
      },
      "source": [
        "# Importing necessary model values\n",
        "import numpy as np\n",
        "from sklearn.feature_extraction.text import CountVectorizer\n",
        "\n",
        "# Getting the X_train\n",
        "X_train = tweets_data.text\n",
        "# print(X_train.head())\n",
        "\n",
        "# tokenize and vectorize the words inside the list of documents/tweets\n",
        "vectorizer = CountVectorizer(stop_words='english')\n",
        "X_train_dtm = vectorizer.fit_transform(X_train)\n",
        "vocab = np.array(vectorizer.get_feature_names())\n",
        "\n",
        "print(X_train_dtm.shape)\n",
        "print(len(vocab))"
      ],
      "execution_count": 37,
      "outputs": [
        {
          "output_type": "stream",
          "text": [
            "(10666, 23698)\n",
            "23698\n"
          ],
          "name": "stdout"
        }
      ]
    },
    {
      "cell_type": "code",
      "metadata": {
        "id": "e4d5ZgrBZSQF",
        "colab_type": "code",
        "colab": {
          "base_uri": "https://localhost:8080/",
          "height": 33
        },
        "outputId": "02f55f02-160d-487e-ac1d-594d9d7ec5c8"
      },
      "source": [
        "X_train.size"
      ],
      "execution_count": 38,
      "outputs": [
        {
          "output_type": "execute_result",
          "data": {
            "text/plain": [
              "10666"
            ]
          },
          "metadata": {
            "tags": []
          },
          "execution_count": 38
        }
      ]
    },
    {
      "cell_type": "code",
      "metadata": {
        "id": "TzoLQZrDZYCj",
        "colab_type": "code",
        "colab": {
          "base_uri": "https://localhost:8080/",
          "height": 50
        },
        "outputId": "c114d429-0ffc-4905-9e9f-d6099dc7cb2a"
      },
      "source": [
        "# Using sklearn library to get the necessary LDA model\n",
        "from sklearn import decomposition\n",
        "\n",
        "num_topics = 8\n",
        "num_top_words = 8\n",
        "clf = decomposition.NMF(n_components=num_topics, random_state=1)\n",
        "\n",
        "# this next step may take some time to train depending on the texts you have\n",
        "doctopic = clf.fit_transform(X_train_dtm)\n",
        "print(doctopic.shape)\n",
        "print(clf.components_.shape)"
      ],
      "execution_count": 39,
      "outputs": [
        {
          "output_type": "stream",
          "text": [
            "(10666, 8)\n",
            "(8, 23698)\n"
          ],
          "name": "stdout"
        }
      ]
    },
    {
      "cell_type": "code",
      "metadata": {
        "id": "1R2Se309Zbue",
        "colab_type": "code",
        "colab": {
          "base_uri": "https://localhost:8080/",
          "height": 233
        },
        "outputId": "125181ce-c3c8-49e4-cb95-6ff916bac4ef"
      },
      "source": [
        "clf.components_"
      ],
      "execution_count": 40,
      "outputs": [
        {
          "output_type": "execute_result",
          "data": {
            "text/plain": [
              "array([[0.00000000e+00, 4.28905304e-04, 0.00000000e+00, ...,\n",
              "        1.36046943e-07, 0.00000000e+00, 0.00000000e+00],\n",
              "       [9.27739207e-03, 0.00000000e+00, 0.00000000e+00, ...,\n",
              "        0.00000000e+00, 0.00000000e+00, 2.25015851e-05],\n",
              "       [5.07838046e-04, 0.00000000e+00, 0.00000000e+00, ...,\n",
              "        0.00000000e+00, 0.00000000e+00, 0.00000000e+00],\n",
              "       ...,\n",
              "       [1.00940423e-02, 1.10597934e-03, 0.00000000e+00, ...,\n",
              "        0.00000000e+00, 0.00000000e+00, 0.00000000e+00],\n",
              "       [5.41772462e-04, 0.00000000e+00, 0.00000000e+00, ...,\n",
              "        0.00000000e+00, 0.00000000e+00, 0.00000000e+00],\n",
              "       [2.74481251e-03, 0.00000000e+00, 5.69896263e-04, ...,\n",
              "        2.65818433e-07, 2.37296737e-04, 1.30842886e-04]])"
            ]
          },
          "metadata": {
            "tags": []
          },
          "execution_count": 40
        }
      ]
    },
    {
      "cell_type": "code",
      "metadata": {
        "id": "s1ijwAuFZedD",
        "colab_type": "code",
        "colab": {}
      },
      "source": [
        "# Getting the dominant topic for each word\n",
        "topic_words = []\n",
        "\n",
        "# Appending top important vocabset list onto topic_words list\n",
        "for topic in clf.components_:\n",
        "#     npargsort gets the index based on the order, [::-1] order it descending and finally num_top_words will filter it\n",
        "    word_idx = np.argsort(topic)[::-1][0:num_top_words]\n",
        "    topic_words.append([vocab[i] for i in word_idx])"
      ],
      "execution_count": 0,
      "outputs": []
    },
    {
      "cell_type": "code",
      "metadata": {
        "id": "VToDEzkHZhoL",
        "colab_type": "code",
        "colab": {
          "base_uri": "https://localhost:8080/",
          "height": 150
        },
        "outputId": "863cb4ea-9216-4415-ba15-2d8df4e174f4"
      },
      "source": [
        "topic_words[:1]"
      ],
      "execution_count": 42,
      "outputs": [
        {
          "output_type": "execute_result",
          "data": {
            "text/plain": [
              "[['baleno',\n",
              "  'mofication',\n",
              "  'seat',\n",
              "  'suzuki',\n",
              "  'car',\n",
              "  'mofied',\n",
              "  'maruti',\n",
              "  'covers']]"
            ]
          },
          "metadata": {
            "tags": []
          },
          "execution_count": 42
        }
      ]
    },
    {
      "cell_type": "code",
      "metadata": {
        "id": "BApkREi2ZliE",
        "colab_type": "code",
        "colab": {
          "base_uri": "https://localhost:8080/",
          "height": 183
        },
        "outputId": "f3c91215-a51b-443d-9e33-86c0e1c0e861"
      },
      "source": [
        "import matplotlib.pyplot as plt\n",
        "\n",
        "# Making DataFrame that gets the doctopic (values of topics for each text)\n",
        "dftopic = pd.DataFrame(doctopic,columns=topic_words)\n",
        "dftopicinv=dftopic.T\n",
        "\n",
        "# Getting the dominant topic\n",
        "topic_series = []\n",
        "for i in np.arange(dftopic.shape[0]):\n",
        "    topic_series.append(dftopicinv[i].argmax())\n",
        "\n",
        "dftopic['dominanttopic'] = topic_series\n",
        "tweets_data['dominanttopic'] = topic_series\n",
        "\n",
        "print(dftopic.shape)\n",
        "print(tweets_data.shape)"
      ],
      "execution_count": 45,
      "outputs": [
        {
          "output_type": "stream",
          "text": [
            "/usr/local/lib/python3.6/dist-packages/ipykernel_launcher.py:10: FutureWarning: \n",
            "The current behaviour of 'Series.argmax' is deprecated, use 'idxmax'\n",
            "instead.\n",
            "The behavior of 'argmax' will be corrected to return the positional\n",
            "maximum in the future. For now, use 'series.values.argmax' or\n",
            "'np.argmax(np.array(values))' to get the position of the maximum\n",
            "row.\n",
            "  # Remove the CWD from sys.path while we load stuff.\n"
          ],
          "name": "stderr"
        },
        {
          "output_type": "stream",
          "text": [
            "(10666, 9)\n",
            "(10666, 7)\n"
          ],
          "name": "stdout"
        }
      ]
    },
    {
      "cell_type": "code",
      "metadata": {
        "id": "KKO5jT7DZxWu",
        "colab_type": "code",
        "colab": {
          "base_uri": "https://localhost:8080/",
          "height": 414
        },
        "outputId": "80df3c6d-9b8a-4c5a-8c55-b62f73ebb04f"
      },
      "source": [
        "# Getting top dominant topics and count them\n",
        "topic_count =tweets_data.dominanttopic.value_counts()\n",
        "print(topic_count)\n",
        "\n",
        "# Visualizing dominant topics count\n",
        "\n",
        "#The pie chart is oval by default. To make it a circle use pyplot.axis(\"equal\")\n",
        "plt.axis(\"equal\") \n",
        "\n",
        "#To show the percentage of each pie slice, pass an output format to the autopctparameter \n",
        "plt.pie(topic_count.values,labels=topic_count.index,autopct=\"%1.1f%%\") \n",
        "plt.title(\"Topics most talked\")\n",
        "plt.show()"
      ],
      "execution_count": 47,
      "outputs": [
        {
          "output_type": "stream",
          "text": [
            "(covers, ams, repost, terbesar, suzuki, promo, brio, motor)            6788\n",
            "(mofied, unit, fff, jaya, suzukigsxr, ignis, jam, dengan)              1027\n",
            "(baleno, motor, cbr, yamaha, gsxr, suzuki, kami, ini)                   798\n",
            "(car, ninja, hondacbr, sakti, mofikasi, eiga, eiga, ada)                543\n",
            "(mofication, aris, ninja, maram, gsx, dp, anda, mobil)                  469\n",
            "(maruti, mesin, sunmori, terpercaya, indo, kret, driver, indonesia)     450\n",
            "(suzuki, ki, rr, terbaik, id, new, mobil, bisa)                         298\n",
            "(seat, spo, yamahar, mio, indonesia, jt, sewa, untuk)                   293\n",
            "Name: dominanttopic, dtype: int64\n"
          ],
          "name": "stdout"
        },
        {
          "output_type": "display_data",
          "data": {
            "image/png": "[encoded data removed]",
            "text/plain": [
              "<Figure size 432x288 with 1 Axes>"
            ]
          },
          "metadata": {
            "tags": []
          }
        }
      ]
    }
  ]
}