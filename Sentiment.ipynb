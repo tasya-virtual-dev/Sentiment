{
  "nbformat": 4,
  "nbformat_minor": 0,
  "metadata": {
    "colab": {
      "name": "Sentiment.ipynb",
      "provenance": []
    },
    "kernelspec": {
      "name": "python3",
      "display_name": "Python 3"
    }
  },
  "cells": [
    {
      "cell_type": "code",
      "metadata": {
        "id": "m2zg1b9dJnm-",
        "colab_type": "code",
        "colab": {
          "base_uri": "https://localhost:8080/",
          "height": 251
        },
        "outputId": "c1399307-0561-4b92-e4f6-0667c69a0932"
      },
      "source": [
        "import pandas as pd  \n",
        "import numpy as np\n",
        "import matplotlib.pyplot as plt\n",
        "df = pd.read_csv('KOMENTRUE.csv', sep = 'delimeter')\n",
        "df.head()"
      ],
      "execution_count": 21,
      "outputs": [
        {
          "output_type": "stream",
          "text": [
            "/usr/local/lib/python3.6/dist-packages/ipykernel_launcher.py:4: ParserWarning: Falling back to the 'python' engine because the 'c' engine does not support regex separators (separators > 1 char and different from '\\s+' are interpreted as regex); you can avoid this warning by specifying engine='python'.\n",
            "  after removing the cwd from sys.path.\n"
          ],
          "name": "stderr"
        },
        {
          "output_type": "execute_result",
          "data": {
            "text/html": [
              "<div>\n",
              "<style scoped>\n",
              "    .dataframe tbody tr th:only-of-type {\n",
              "        vertical-align: middle;\n",
              "    }\n",
              "\n",
              "    .dataframe tbody tr th {\n",
              "        vertical-align: top;\n",
              "    }\n",
              "\n",
              "    .dataframe thead th {\n",
              "        text-align: right;\n",
              "    }\n",
              "</style>\n",
              "<table border=\"1\" class=\"dataframe\">\n",
              "  <thead>\n",
              "    <tr style=\"text-align: right;\">\n",
              "      <th></th>\n",
              "      <th>content</th>\n",
              "    </tr>\n",
              "  </thead>\n",
              "  <tbody>\n",
              "    <tr>\n",
              "      <th>0</th>\n",
              "      <td>'- ������182��������� ������������������������...</td>\n",
              "    </tr>\n",
              "    <tr>\n",
              "      <th>1</th>\n",
              "      <td>\"'\"\" DAIHATSU SIRION \"\"  #KuisDaihatsu #Daihat...</td>\n",
              "    </tr>\n",
              "    <tr>\n",
              "      <th>2</th>\n",
              "      <td>\"'\"\" SATRIA \"\"  #SuzukiQuiz  Kuy ikutan gaes d...</td>\n",
              "    </tr>\n",
              "    <tr>\n",
              "      <th>3</th>\n",
              "      <td>\"'\"\" SATRIA \"\"  #SuzukiQuiz Berjalan ke atas r...</td>\n",
              "    </tr>\n",
              "    <tr>\n",
              "      <th>4</th>\n",
              "      <td>\"'\"\" SATRIA \"\" #SuzuqiQuiz #satria Armanih\"</td>\n",
              "    </tr>\n",
              "  </tbody>\n",
              "</table>\n",
              "</div>"
            ],
            "text/plain": [
              "                                             content\n",
              "0  '- ������182��������� ������������������������...\n",
              "1  \"'\"\" DAIHATSU SIRION \"\"  #KuisDaihatsu #Daihat...\n",
              "2  \"'\"\" SATRIA \"\"  #SuzukiQuiz  Kuy ikutan gaes d...\n",
              "3  \"'\"\" SATRIA \"\"  #SuzukiQuiz Berjalan ke atas r...\n",
              "4        \"'\"\" SATRIA \"\" #SuzuqiQuiz #satria Armanih\""
            ]
          },
          "metadata": {
            "tags": []
          },
          "execution_count": 21
        }
      ]
    },
    {
      "cell_type": "code",
      "metadata": {
        "id": "0HFGpLT8NCat",
        "colab_type": "code",
        "colab": {
          "base_uri": "https://localhost:8080/",
          "height": 33
        },
        "outputId": "32dabc15-2263-4c81-e364-4408c2cb63e4"
      },
      "source": [
        "df.shape"
      ],
      "execution_count": 22,
      "outputs": [
        {
          "output_type": "execute_result",
          "data": {
            "text/plain": [
              "(13532, 1)"
            ]
          },
          "metadata": {
            "tags": []
          },
          "execution_count": 22
        }
      ]
    },
    {
      "cell_type": "code",
      "metadata": {
        "id": "NmEfOcDeNLpd",
        "colab_type": "code",
        "colab": {}
      },
      "source": [
        "df['pre_clean_len'] = [len(t) for t in df.content]"
      ],
      "execution_count": 0,
      "outputs": []
    },
    {
      "cell_type": "code",
      "metadata": {
        "id": "LN9myoAmNmy8",
        "colab_type": "code",
        "colab": {
          "base_uri": "https://localhost:8080/",
          "height": 83
        },
        "outputId": "814f09ee-53ba-497c-f955-91df932a0041"
      },
      "source": [
        "from pprint import pprint\n",
        "data_dict = {\n",
        "    'content':{\n",
        "        'type':df.content.dtype,\n",
        "        'description':'tweet text'\n",
        "    },\n",
        "    'pre_clean_len':{\n",
        "        'type':df.pre_clean_len.dtype,\n",
        "        'description':'Length of the tweet before cleaning'\n",
        "    },\n",
        "    'dataset_shape':df.shape\n",
        "}\n",
        "pprint(data_dict)"
      ],
      "execution_count": 27,
      "outputs": [
        {
          "output_type": "stream",
          "text": [
            "{'content': {'description': 'tweet text', 'type': dtype('O')},\n",
            " 'dataset_shape': (13532, 2),\n",
            " 'pre_clean_len': {'description': 'Length of the tweet before cleaning',\n",
            "                   'type': dtype('int64')}}\n"
          ],
          "name": "stdout"
        }
      ]
    },
    {
      "cell_type": "code",
      "metadata": {
        "id": "ANDrCTItNWSj",
        "colab_type": "code",
        "colab": {
          "base_uri": "https://localhost:8080/",
          "height": 320
        },
        "outputId": "ffe4f43b-5927-480a-b936-9432131649a1"
      },
      "source": [
        "fig, ax = plt.subplots(figsize=(5, 5))\n",
        "plt.boxplot(df.pre_clean_len)\n",
        "plt.show()"
      ],
      "execution_count": 25,
      "outputs": [
        {
          "output_type": "display_data",
          "data": {
            "image/png": "[encoded data removed]",
            "text/plain": [
              "<Figure size 360x360 with 1 Axes>"
            ]
          },
          "metadata": {
            "tags": []
          }
        }
      ]
    },
    {
      "cell_type": "markdown",
      "metadata": {
        "id": "30_j5-TkOXfJ",
        "colab_type": "text"
      },
      "source": [
        "#Data Cleaning"
      ]
    },
    {
      "cell_type": "code",
      "metadata": {
        "id": "3qbdZsLyOopM",
        "colab_type": "code",
        "colab": {
          "base_uri": "https://localhost:8080/",
          "height": 70
        },
        "outputId": "12e7c498-3bdf-4789-ee0e-7f29dbf7e0bc"
      },
      "source": [
        "from nltk.tokenize import WordPunctTokenizer\n",
        "tok = WordPunctTokenizer()\n",
        "pat1 = r'@[A-Za-z0-9]+'\n",
        "pat2 = r'https?://[A-Za-z0-9./]+'\n",
        "combined_pat = r'|'.join((pat1, pat2))\n",
        "def tweet_cleaner(content):\n",
        "    soup = BeautifulSoup(content, 'lxml')\n",
        "    souped = soup.get_text()\n",
        "    stripped = re.sub(combined_pat, '', souped)\n",
        "    try:\n",
        "        clean = stripped.decode(\"utf-8-sig\").replace(u\"\\ufffd\", \"?\")\n",
        "    except:\n",
        "        clean = stripped\n",
        "    letters_only = re.sub(\"[^a-zA-Z]\", \" \", clean)\n",
        "    lower_case = letters_only.lower()\n",
        "    # During the letters_only process two lines above, it has created unnecessay white spaces,\n",
        "    # I will tokenize and join together to remove unneccessary white spaces\n",
        "    words = tok.tokenize(lower_case)\n",
        "    return (\" \".join(words)).strip()\n",
        "content = df['content']\n",
        "test_result = []\n",
        "for t in content:\n",
        "    test_result.append(tweet_cleaner(t))\n",
        "print(test_result[:100])\n"
      ],
      "execution_count": 66,
      "outputs": [
        {
          "output_type": "stream",
          "text": [
            "['gsxr', 'daihatsu sirion kuisdaihatsu daihatsusahabatku armanih susi al faqih wadewa rara ratih sari opih nita mulyani', 'satria suzukiquiz kuy ikutan gaes di suzuki motorcycles indonesia samti rahayu novita ndut may fayza yunita susanti shee mojang suzukiindonesiamotor nyalakannyali suzukiquiz', 'satria suzukiquiz berjalan ke atas rotan liat bawah airnya kering kalau boleh sya kasih saran yuk ikut kuis nya siapa tau beruntung haemy orlando mahdian syarief yogi prayogi sugi djourou ben meshbach fyanti', 'satria suzuqiquiz satria armanih', 'satria beben bahtiar asep ruhiyat tajudin herlinawati wati wati suzukiquiz', 'jawaban no posisi yang terbuka toyota toyotafun tebaktoyota yuk ikutan follow toyotaid aniss fairuz chichy khanza novelia toyotaid', 'saaaahhh', 'begini salah begitu juga salah kek kek kek apayaa gue emang begini ada nyaa yang penting hayukkk meluncurrrr terimakasih id indonesia suzuki gsxr teamsuzuki nolanindonesia', 'enjoy every moment latepost like likes gsxr', 'gimana caranya bahagia kalau sedih aja nggak tahu rasanya kek apa angkasa', 'he s not a just four wheels and engine he s home dg photography suzuki nexa nexaexperience baleno balenomodified balenoclubindonesia balenohatchback balenolovers balenoindonesia suzukibaleno balenoclub marutibaleno kerala palakkad india modifiedcars modified staytunedindia sti palakkadgram palakkaddiaries chennai carsofinstagram modifiedcarsindia', 'hmm ribet juga pake tali double d ring bikelife bikeindonesia indobikelifestyle indonesianbikelife indobikevideos sportbike indonesia sportbike addicts satuaspal instamotogallery sportbikelife indobikesquad teamarogan nyakgaya under indo indorider helmetloversindonesia kythelmet kytfalcon suzukigsxr gsxr', 'in the last year for you suzukiecstarmotogp suzukimotogp suzukigsx gsxteamindonesia gsx indonesia gsxclubindonesia gsxcomunitynusantara gsxr pict gsxr gsx gsx r gsxr id gsx gsxnation ssacornering thegabuters official mori motorider id nyakgaya prostreet sunmoride sunmorikuy sunmoriid sunmoribogor sportbikeindonesia sportfairing under indo sportfairing cc sportfairing sportbikeindonesia', 'inilah sumedang dengan segala keindahan nya like jika kalian cinta sumedang visit ganeas sumedang suzuki suzukiuntukbandung testinjs suzukinjsrancaekek servicenjsrancaekek kreditmobilsuzuki ignis newertiga allnewertiga suzukiertiga suzukipickup karimun karimunwagon suzukikarimun baleno suzukibaleno suzukiuntuksumedang sumedanghits sumedangbanget sumedang jatinangorbanget jatinangorinfo suzukijatinangor jatinangorhits tanjungsari infotanjungsari mobilsumedang aef suzuki jualmobilsumedang suzuki sumedang', 'jawaban no posisi yang terbuka toyota toyotafun tebaktoyota yuk ikutan follow toyotaid achmad bryan moch subandi netizima toyotaid', 'jawaban no posisi yang terbuka toyota toyotafun tebaktoyota yuk ikutan follow toyotaid nur diana nindy nurapriani maria azmi piscessanella toyotaid', 'jika kamu tidak tap x postingan ini nene ani akan mencongkel matamu suzuki suzuki suzukigsx suzukigsx suzukigsxr suzukigsx gsxrmodif gsx gsxr gsx gsxr cc nyalakannyali suzukinyalakannyali l l fff l f lfl', 'jika kau ingin berjalan cepat jalanlah sendirian tapi jika ingin berjalan jauh jalanlah bersama sama gsx club indonesia regional jawa tengah ride to munas jawa barat jateng ora sepele part edited by bram gcijateng gsxr gsxclubindonesia clubmotor riders gsxr gsxmodifikasi gsxrnation jateng hits', 'kalo di suruh pilih mau ambil gsx r atau mobil mevvah di belakang mv mv repost follow tag sportindo r modifikasi r r yamahar cb r gsxr suzukigsxr gsx r cbr rr hondacbr rr cbr cbr r ninja mt cbr hondacbr r sunmori r yamahar ninja fi cbr r kawasakininja yamahar ninja lflf lfllflffllfllflflflfllffllflfllflflfllflflflfllffllflfflfllfllflfl fff fff', 'mantap informasi nya daihatsu semakin terdepan', 'nomor toyota toyotafun tebaktoyota yuk ikutan fina chintia devi mega kasandi fransisca fransda done like fanpage follow toyotaid fb marthin manalu ig manalu tw manalu semoga beruntung', 'rawat sebelum rusak jaga sebelum pergi karena sesuatu yang tumbuh jika kembali rasanya tak sama lagi taken by dayat id id gsx r realkuat mpquadcameraxpert realmext daretoleap agvindonesia agvpistagpr agvpista agv agvhelmets gsxr id independent rider gsx club surabaya indonesia suzukiid suzukigsxr gsxr gsxr pict moge suzukilovers bikers street touring sportbike gsxr gsxclubindonesia gcisuroboyo rizaltography', 'satria motor idaman para kawula muda yg ta lekang oleh jaman satria memang rajanya jalanan satria memang legend satria motor idaman kawula muda satria memang paling top deh yu kawan ikutan juga atmaja laia palala oscar suzukiquiz', 'satria suzukiquiz suzukiindonesia nyalakannyali n hayati lida akiraazzumy sanda tampubolon aya khan srk', 'satria suzukiquiz done like follow suzuki motorcycles indonesia my fb asep burdah mubarokah my ig semoga rezeki yuk ikutan agler kentaro mahdian syarief alqurniawan ahmad andre yane adul', 'satria suzukiquiz ikutan yuk gays meli rembulan idha dhul lailla syah dhiyah nadhiva mylife samti rahayu', 'satria suzukiquiz sandy arnand salman samsul arifin widianto didik romadon', 'satria suzukiquiz yu ikutan sobat x aja dapet hail raflipradipta shahabati semoga beruntung', 'satria suzukiquiz yu ikutan sobat suzuki motorcycles indonesia sakha rafli pradipta anisa rohmah neneng nos tata uliena poerba nia kurniasih nugraha semoga beruntung', 'satria suzukiquiz yuk ikutan winda naz done like fanpage follow fb marthin manalu ig manalu tw manalu semoga beruntung', 'satria suzukiquiz yuk ikutan fina chintia devi yuyun qurota ayun fransisca fransda mega kasandi dirmawan zein done like fanpage follow suzuki motorcycles indonesia fb marthin manalu ig manalu tw manalu semoga beruntung', 'satria hari khurbayatun rivai ad aks yuk ikutan suzukiquiz berhadiah motor baru', 'satria deden trihex deden gaharr dani mangprang dik dik rizky dadan mulyana suzukiquiz suzukiindonesiamotor nyalakannyali', 'satria yok ramekan brothers htb frederick manroe saragih', 'say yes to new adventures gogreen adventures locationshoot shotoniphone wayanadan baleno friendshipgoals', 'sewa avanza xenia ertiga apv harga high season liburan natal tujuan tour batu malang harga rp k jam bromo pantai rp k include mobil supir bbm telp wa mb tour amp', 'sewa avanza xenia ertiga apv harga high season liburan natal tujuan tour batu malang harga rp k jam bromo pantai rp k include mobil supir bbm telp wa mb tour amp', 'sewa avanza xenia ertiga apv harga high season liburan natal tujuan tour batu malang harga rp k jam bromo pantai rp k include mobil supir bbm telp wa mb tour amp', 'sewa avanza xenia ertiga apv harga high season liburan natal tujuan tour batu malang harga rp k jam bromo pantai rp k include mobil supir bbm telp wa mb tour amp', 'sewa avanza xenia ertiga apv harga high season liburan natal tujuan tour batu malang harga rp k jam bromo pantai rp k include mobil supir bbm telp wa mb tour amp', 'sewa avanza xenia ertiga apv harga high season liburan natal tujuan tour batu malang harga rp k jam bromo pantai rp k include mobil supir bbm telp wa mb tour amp', 'sweet baby silver official id car classic photography palembang baleno suzuki silver', 'thoda jiyo par maje se jiyo manalidiaries likeforlike traveldiaries baleno followme followforfollowback', 'through my education i didn t just develop skills i didn t just develop the ability to learn but i developed confidence michelle obama pendidikan tidak hanya mengasah pengetahuan dan ilmu melainkan kan juga mengasah rasa percaya diri happy monday friends toyota toyota car sportscar gainyourpride quotes confidence', 'wadah nomer toyota toyotafun tebaktoyota done like follow toyotaid my fb asep burdah mubarokah my ig semoga rezeki yuk ikutan yogi prayogi yoyon ripora ega prayoga', 'we wander for distraction but we travel for fulfilment ooty coonoor hills nilagiri mettupalayam travel travelphotography photography mobilephotography cartravel cousins nature naturephotography shotononeplus ertiga roads', 'when you can t find the sunshine be the sunshine zaith baleno shotoniphone xs oneofakind sunshine', 'wherever you go go with all your heart confucius perjalanan yang dilakukan dengan senang hati maka akan muncul rasa kebahagiaan sudah siap menyambut perjalanan baru di tahun friends toyota toyotaquotes jumatberkah', 'wiwiting mulyo jalaran seko rekoso gsxr gsx r likeforlikes motorcycle suzuki gsxr gsxr indonesia', 'jangan sampai kuliah atau pekerjaan mengganggu touring mu manado gciregionalsulawesiutara gcichaptermanado gciitutorang torangitugci gcibersatuuntukmaju selalugembiradigci gsx id gsxr gsx id gsx pict gsx modifikasi gsx indonesia gsxrnation', 'baleno', '', 'suzuki gsxr tt motorbike', 'bestnine bestnineinstagram gsxcommunitynusantara weridewithpride menolaktunduk readytodominate nyalakannyali nyalakannyaliuntuknusantara suzuki gsx gsxr gsxs gixxernation suzukilovers motorsport motorcycle bikers rider bike bikelife bikestagram instamoto bikeporn motolifestyle motolife sportbikeindonesia bikersindonesia bikerhits suzuking indonesianrider', 'marutisuzuki baleno facelift launched in indonesia and oh boy oh boy this thing looks absolutely stunning with new lines it s more bolder and more sportier indian launch is expected in february can t wait marutisuzuki vitarabrezza brezza creta tatasafari keralacars kiaseltos kia seltos hyundai creta mghector toyota hyundaikona hyundaii i modified kerala cars instacars balenomodified balenoloverz brezzalovez volkswagen polo pologti hatchback honda', 'tetapkijang', 'ae ae trueno toyotalegends', 'alllnewgrsupra', 'altroz the latest offering from tata s stable that will be locking horns with i baleno and polo tata altroz boasts built on the tata s all new alfa for agile light flexible advanced architecture on offer are litre naturally aspirated petrol and litre turbo diesel engines each allied to manual gearboxes a petrol automatic with a dual clutch transmission is in the works and there s also a more powerful litre turbo petrol that will join the line up in due time will the altroz seem to be the right contender for the i and baleno rivals what s so ever might be the outcome but altroz is surely a head turner', 'baleno', 'baleno', 'baleno', 'baleno', 'baleno agumbe forest', 'baleno anddroid player raman xzarvis xzavis info source india pvt ltd manufacturer of cars android infotainment system deposite for confirmation and remaing cost pay at delivery time follow us on facebook follow me on instagram stereo hub google listing stereos hub business site check my youtube channel ehkp aqjvm kezurdtew contact me on my whatsapp check on blogger company website', 'baleno balenolovers marutisuzuki marutisuzukiclubgoa nexabaleno modifiedsociety goanautomotivepage goanlove richkids goanlifestyle suzuki club goa baleno goa', 'baleno beast brand keshigowda', 'baleno beastmode predator marutisuzuki', 'baleno drift if u like this video press the like button and do subscribe for more this type of video thnx for watching', 'baleno hatchback alloywheelsindia alloywheels concavewheels momowheels michelin stispec onlyatchakra', 'baleno hsrpno plate maruti', 'baleno love', 'baleno myride sweetride ghats wanderlust sahyadri sunset', 'baleno new car l', 'baleno night photooftheday coffee could', 'baleno powerdressed', 'baleno suzukibaleno clouds rain slowmotion oneplus', 'baleno winter nutellacoffee relaxtime khalijimusic', 'baleno', 'baleno mycar greybeast', 'baleno', 'baleno', 'baleno lover', 'baleno with koubru', 'baleno wait love chandigarh', 'baleno balenocars baleno latest review after years my baleno still like a new car thank you maruthi thank u suzuki', 'balenoclubindonesia bci baleno suzuki indonesia', 'bestnine ertigaclubindonesia erciregionlampung ertiga ertigamodifikasi ertigasport ertigasporty ertigaindonesia suzukiertiga ertigastatic ertigafamily newertiga suzukipersadalampungraya don t worry be erci for cars ertiga come join with erci official instagram karena ertiga kita menjadi keluarga', 'bikers octanecorebikers agv kyt shoei arai superbike sunmori jakarta indonesia yamahaindonesia hondaindonesia suzukiindonesia ktmindonesia ducatiindonesia apriliaindonesia r r modifikasi r vvaindonesia cbr r cbr rr gsxr r indonesia motogp teamsunmori jakartabikerscommunity', 'bikers octanecorebikers agv kyt shoei arai superbike sunmori jakarta indonesia yamahaindonesia hondaindonesia suzukiindonesia ktmindonesia ducatiindonesia apriliaindonesia r r modifikasi r vvaindonesia cbr r cbr rr gsxr r indonesia motogp teamsunmori jakartabikerscommunity nhk ink carglosshelmet', 'caption noidea mypic mypicture beach candid canonphotography shotoniphone baleno beachside football perfectclick sunset weekendvibes longdrive swift friends music perfect gym teamnevergiveup somethingdifferent kerala thrissur onedayatatime evening differentworld workout lovetodrive', 'car i mercedes porsche bmw swift polo innovation audi lamborghini baleno creta verna hyundai i asta i active hyundaii duster toyota suzuki nissan instagram race car i elite magna fortuner rangerover venue porsche swift racer', 'cars firekit fire modified baleno balenomodified portgrandkarachi capturethemoment', 'christmasgift giftfromgod baleno prisetogod', 'clubnewbalenoperu comunidad club baleno cbp suzuki suzukiperu suzukibaleno nexaexperience nexabaleno balenors balenohatchback balenolovers motorsport cars carslovers sportscar motor per', 'completed marutisuzuki ertiga androidstereo reversecamera steeringwheelcover dooredgeguard dfloormat makeover thank you for being a customer mr praveen ips hd display its hd capacitive touch display with p video playback gives an immersive experience user experience an a great spectacular look to your car steering wheel covers can help reduce driver fatigue when your vehicle passes over bumps in the road a cover acts as a shock absorber of sorts if you were holding the hard bare wheel those vibrations would go straight to your hands car door edge guards are meant to prevent or reduce the number of door dents and scratches prevent harming nearby cars opening your door can sometimes be impossible to do without resting it on the vehicle next to you d maxpider car mats prevents dust and dirt by being moulded to fit the footwell of your car perfectly and ensures safety with its patented anti slip underside car mats or automobile floor mats are designed to protect the floor of a vehicle from dirt as well as wear and tear quality in everything we do phoenix car spa car accessory garage tvm loc', 'crfindo trail honda adventure supermoto superdede supermen supermotojuralit supermotonation supermoto motorleweng yamaha suzuki ertiga indonesia tobyypbrapbrap karawang', 'd nikonphotography marutisuzuki alloriginals portrait india gujarat bharuch bharuchi exploregujarat gujarattourism baleno carlovers', 'daman roadtrip friendship ertiga longdrive beachlife bechparty']\n",
            "13532\n"
          ],
          "name": "stdout"
        }
      ]
    },
    {
      "cell_type": "code",
      "metadata": {
        "id": "fGK4C8JbSixB",
        "colab_type": "code",
        "colab": {
          "base_uri": "https://localhost:8080/",
          "height": 116
        },
        "outputId": "4a2cebda-f678-4f6e-b526-6ff8187aa6a4"
      },
      "source": [
        "clean_df = pd.DataFrame(test_result, columns = ['text'])\n",
        "print(clean_df.head())"
      ],
      "execution_count": 69,
      "outputs": [
        {
          "output_type": "stream",
          "text": [
            "                                                text\n",
            "0                                               gsxr\n",
            "1  daihatsu sirion kuisdaihatsu daihatsusahabatku...\n",
            "2  satria suzukiquiz kuy ikutan gaes di suzuki mo...\n",
            "3  satria suzukiquiz berjalan ke atas rotan liat ...\n",
            "4                   satria suzuqiquiz satria armanih\n"
          ],
          "name": "stdout"
        }
      ]
    },
    {
      "cell_type": "code",
      "metadata": {
        "id": "rgfVcKb6SxY7",
        "colab_type": "code",
        "colab": {
          "base_uri": "https://localhost:8080/",
          "height": 197
        },
        "outputId": "57499f81-2c05-4e51-f792-fe4bd5e57d6e"
      },
      "source": [
        "clean_df.to_csv('clean_tweet.csv',encoding='utf-8')\n",
        "csv = 'clean_tweet.csv'\n",
        "my_df = pd.read_csv(csv,index_col=0)\n",
        "my_df.head()"
      ],
      "execution_count": 70,
      "outputs": [
        {
          "output_type": "execute_result",
          "data": {
            "text/html": [
              "<div>\n",
              "<style scoped>\n",
              "    .dataframe tbody tr th:only-of-type {\n",
              "        vertical-align: middle;\n",
              "    }\n",
              "\n",
              "    .dataframe tbody tr th {\n",
              "        vertical-align: top;\n",
              "    }\n",
              "\n",
              "    .dataframe thead th {\n",
              "        text-align: right;\n",
              "    }\n",
              "</style>\n",
              "<table border=\"1\" class=\"dataframe\">\n",
              "  <thead>\n",
              "    <tr style=\"text-align: right;\">\n",
              "      <th></th>\n",
              "      <th>text</th>\n",
              "    </tr>\n",
              "  </thead>\n",
              "  <tbody>\n",
              "    <tr>\n",
              "      <th>0</th>\n",
              "      <td>gsxr</td>\n",
              "    </tr>\n",
              "    <tr>\n",
              "      <th>1</th>\n",
              "      <td>daihatsu sirion kuisdaihatsu daihatsusahabatku...</td>\n",
              "    </tr>\n",
              "    <tr>\n",
              "      <th>2</th>\n",
              "      <td>satria suzukiquiz kuy ikutan gaes di suzuki mo...</td>\n",
              "    </tr>\n",
              "    <tr>\n",
              "      <th>3</th>\n",
              "      <td>satria suzukiquiz berjalan ke atas rotan liat ...</td>\n",
              "    </tr>\n",
              "    <tr>\n",
              "      <th>4</th>\n",
              "      <td>satria suzuqiquiz satria armanih</td>\n",
              "    </tr>\n",
              "  </tbody>\n",
              "</table>\n",
              "</div>"
            ],
            "text/plain": [
              "                                                text\n",
              "0                                               gsxr\n",
              "1  daihatsu sirion kuisdaihatsu daihatsusahabatku...\n",
              "2  satria suzukiquiz kuy ikutan gaes di suzuki mo...\n",
              "3  satria suzukiquiz berjalan ke atas rotan liat ...\n",
              "4                   satria suzuqiquiz satria armanih"
            ]
          },
          "metadata": {
            "tags": []
          },
          "execution_count": 70
        }
      ]
    }
  ]
}